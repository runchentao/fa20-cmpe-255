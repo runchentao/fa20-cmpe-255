{
  "nbformat": 4,
  "nbformat_minor": 0,
  "metadata": {
    "colab": {
      "name": "XGBoost_updated.ipynb",
      "provenance": [],
      "collapsed_sections": [
        "Wr4BPqdRBmQ1",
        "-zhgOJQzzhKP",
        "GDbP4gdP0R--",
        "EAHxrLNK0kge",
        "uqLfpm9u1fk0",
        "fVLPaceFY6U8",
        "qD6LcWYlZOtB",
        "SjEXFhp9ZdxY",
        "UYdSO2hGaRxj",
        "h63H74NwWzXF"
      ],
      "machine_shape": "hm"
    },
    "kernelspec": {
      "name": "python3",
      "display_name": "Python 3"
    },
    "accelerator": "GPU"
  },
  "cells": [
    {
      "cell_type": "markdown",
      "metadata": {
        "id": "Wr4BPqdRBmQ1"
      },
      "source": [
        "# 1. Import Data"
      ]
    },
    {
      "cell_type": "code",
      "metadata": {
        "id": "B8tnEse2Hfgr"
      },
      "source": [
        "import pandas as pd\n",
        "import numpy as np\n",
        "\n",
        "aisels = pd.read_csv('/content/aisles.csv')\n",
        "dept = pd.read_csv('/content/departments.csv')\n",
        "order_prior = pd.read_csv('/content/order_products__prior.csv')\n",
        "order_train = pd.read_csv('/content/order_products__train.csv')\n",
        "orders = pd.read_csv('/content/orders.csv')\n",
        "products = pd.read_csv('/content/products.csv')"
      ],
      "execution_count": 1,
      "outputs": []
    },
    {
      "cell_type": "code",
      "metadata": {
        "colab": {
          "base_uri": "https://localhost:8080/",
          "height": 195
        },
        "id": "ZP7MFuth7th4",
        "outputId": "8a393681-65fc-42ed-bfca-3405f827bb34"
      },
      "source": [
        "orders.head()"
      ],
      "execution_count": 22,
      "outputs": [
        {
          "output_type": "execute_result",
          "data": {
            "text/html": [
              "<div>\n",
              "<style scoped>\n",
              "    .dataframe tbody tr th:only-of-type {\n",
              "        vertical-align: middle;\n",
              "    }\n",
              "\n",
              "    .dataframe tbody tr th {\n",
              "        vertical-align: top;\n",
              "    }\n",
              "\n",
              "    .dataframe thead th {\n",
              "        text-align: right;\n",
              "    }\n",
              "</style>\n",
              "<table border=\"1\" class=\"dataframe\">\n",
              "  <thead>\n",
              "    <tr style=\"text-align: right;\">\n",
              "      <th></th>\n",
              "      <th>order_id</th>\n",
              "      <th>user_id</th>\n",
              "      <th>eval_set</th>\n",
              "      <th>order_number</th>\n",
              "      <th>order_dow</th>\n",
              "      <th>order_hour_of_day</th>\n",
              "      <th>days_since_prior_order</th>\n",
              "    </tr>\n",
              "  </thead>\n",
              "  <tbody>\n",
              "    <tr>\n",
              "      <th>0</th>\n",
              "      <td>2539329</td>\n",
              "      <td>1</td>\n",
              "      <td>prior</td>\n",
              "      <td>1</td>\n",
              "      <td>2</td>\n",
              "      <td>8</td>\n",
              "      <td>NaN</td>\n",
              "    </tr>\n",
              "    <tr>\n",
              "      <th>1</th>\n",
              "      <td>2398795</td>\n",
              "      <td>1</td>\n",
              "      <td>prior</td>\n",
              "      <td>2</td>\n",
              "      <td>3</td>\n",
              "      <td>7</td>\n",
              "      <td>15.0</td>\n",
              "    </tr>\n",
              "    <tr>\n",
              "      <th>2</th>\n",
              "      <td>473747</td>\n",
              "      <td>1</td>\n",
              "      <td>prior</td>\n",
              "      <td>3</td>\n",
              "      <td>3</td>\n",
              "      <td>12</td>\n",
              "      <td>21.0</td>\n",
              "    </tr>\n",
              "    <tr>\n",
              "      <th>3</th>\n",
              "      <td>2254736</td>\n",
              "      <td>1</td>\n",
              "      <td>prior</td>\n",
              "      <td>4</td>\n",
              "      <td>4</td>\n",
              "      <td>7</td>\n",
              "      <td>29.0</td>\n",
              "    </tr>\n",
              "    <tr>\n",
              "      <th>4</th>\n",
              "      <td>431534</td>\n",
              "      <td>1</td>\n",
              "      <td>prior</td>\n",
              "      <td>5</td>\n",
              "      <td>4</td>\n",
              "      <td>15</td>\n",
              "      <td>28.0</td>\n",
              "    </tr>\n",
              "  </tbody>\n",
              "</table>\n",
              "</div>"
            ],
            "text/plain": [
              "   order_id  user_id  ... order_hour_of_day  days_since_prior_order\n",
              "0   2539329        1  ...                 8                     NaN\n",
              "1   2398795        1  ...                 7                    15.0\n",
              "2    473747        1  ...                12                    21.0\n",
              "3   2254736        1  ...                 7                    29.0\n",
              "4    431534        1  ...                15                    28.0\n",
              "\n",
              "[5 rows x 7 columns]"
            ]
          },
          "metadata": {
            "tags": []
          },
          "execution_count": 22
        }
      ]
    },
    {
      "cell_type": "code",
      "metadata": {
        "colab": {
          "base_uri": "https://localhost:8080/",
          "height": 195
        },
        "id": "0gkF1b0gzEV6",
        "outputId": "16aefdf3-7228-4968-be08-20780188782d"
      },
      "source": [
        "order_prior.head()"
      ],
      "execution_count": 2,
      "outputs": [
        {
          "output_type": "execute_result",
          "data": {
            "text/html": [
              "<div>\n",
              "<style scoped>\n",
              "    .dataframe tbody tr th:only-of-type {\n",
              "        vertical-align: middle;\n",
              "    }\n",
              "\n",
              "    .dataframe tbody tr th {\n",
              "        vertical-align: top;\n",
              "    }\n",
              "\n",
              "    .dataframe thead th {\n",
              "        text-align: right;\n",
              "    }\n",
              "</style>\n",
              "<table border=\"1\" class=\"dataframe\">\n",
              "  <thead>\n",
              "    <tr style=\"text-align: right;\">\n",
              "      <th></th>\n",
              "      <th>order_id</th>\n",
              "      <th>product_id</th>\n",
              "      <th>add_to_cart_order</th>\n",
              "      <th>reordered</th>\n",
              "    </tr>\n",
              "  </thead>\n",
              "  <tbody>\n",
              "    <tr>\n",
              "      <th>0</th>\n",
              "      <td>2</td>\n",
              "      <td>33120</td>\n",
              "      <td>1</td>\n",
              "      <td>1</td>\n",
              "    </tr>\n",
              "    <tr>\n",
              "      <th>1</th>\n",
              "      <td>2</td>\n",
              "      <td>28985</td>\n",
              "      <td>2</td>\n",
              "      <td>1</td>\n",
              "    </tr>\n",
              "    <tr>\n",
              "      <th>2</th>\n",
              "      <td>2</td>\n",
              "      <td>9327</td>\n",
              "      <td>3</td>\n",
              "      <td>0</td>\n",
              "    </tr>\n",
              "    <tr>\n",
              "      <th>3</th>\n",
              "      <td>2</td>\n",
              "      <td>45918</td>\n",
              "      <td>4</td>\n",
              "      <td>1</td>\n",
              "    </tr>\n",
              "    <tr>\n",
              "      <th>4</th>\n",
              "      <td>2</td>\n",
              "      <td>30035</td>\n",
              "      <td>5</td>\n",
              "      <td>0</td>\n",
              "    </tr>\n",
              "  </tbody>\n",
              "</table>\n",
              "</div>"
            ],
            "text/plain": [
              "   order_id  product_id  add_to_cart_order  reordered\n",
              "0         2       33120                  1          1\n",
              "1         2       28985                  2          1\n",
              "2         2        9327                  3          0\n",
              "3         2       45918                  4          1\n",
              "4         2       30035                  5          0"
            ]
          },
          "metadata": {
            "tags": []
          },
          "execution_count": 2
        }
      ]
    },
    {
      "cell_type": "code",
      "metadata": {
        "colab": {
          "base_uri": "https://localhost:8080/",
          "height": 195
        },
        "id": "2JzFwe8KzGDf",
        "outputId": "962a156a-9766-4770-cc94-8448567e6ab9"
      },
      "source": [
        "order_train.head()"
      ],
      "execution_count": 3,
      "outputs": [
        {
          "output_type": "execute_result",
          "data": {
            "text/html": [
              "<div>\n",
              "<style scoped>\n",
              "    .dataframe tbody tr th:only-of-type {\n",
              "        vertical-align: middle;\n",
              "    }\n",
              "\n",
              "    .dataframe tbody tr th {\n",
              "        vertical-align: top;\n",
              "    }\n",
              "\n",
              "    .dataframe thead th {\n",
              "        text-align: right;\n",
              "    }\n",
              "</style>\n",
              "<table border=\"1\" class=\"dataframe\">\n",
              "  <thead>\n",
              "    <tr style=\"text-align: right;\">\n",
              "      <th></th>\n",
              "      <th>order_id</th>\n",
              "      <th>product_id</th>\n",
              "      <th>add_to_cart_order</th>\n",
              "      <th>reordered</th>\n",
              "    </tr>\n",
              "  </thead>\n",
              "  <tbody>\n",
              "    <tr>\n",
              "      <th>0</th>\n",
              "      <td>1</td>\n",
              "      <td>49302</td>\n",
              "      <td>1</td>\n",
              "      <td>1</td>\n",
              "    </tr>\n",
              "    <tr>\n",
              "      <th>1</th>\n",
              "      <td>1</td>\n",
              "      <td>11109</td>\n",
              "      <td>2</td>\n",
              "      <td>1</td>\n",
              "    </tr>\n",
              "    <tr>\n",
              "      <th>2</th>\n",
              "      <td>1</td>\n",
              "      <td>10246</td>\n",
              "      <td>3</td>\n",
              "      <td>0</td>\n",
              "    </tr>\n",
              "    <tr>\n",
              "      <th>3</th>\n",
              "      <td>1</td>\n",
              "      <td>49683</td>\n",
              "      <td>4</td>\n",
              "      <td>0</td>\n",
              "    </tr>\n",
              "    <tr>\n",
              "      <th>4</th>\n",
              "      <td>1</td>\n",
              "      <td>43633</td>\n",
              "      <td>5</td>\n",
              "      <td>1</td>\n",
              "    </tr>\n",
              "  </tbody>\n",
              "</table>\n",
              "</div>"
            ],
            "text/plain": [
              "   order_id  product_id  add_to_cart_order  reordered\n",
              "0         1       49302                  1          1\n",
              "1         1       11109                  2          1\n",
              "2         1       10246                  3          0\n",
              "3         1       49683                  4          0\n",
              "4         1       43633                  5          1"
            ]
          },
          "metadata": {
            "tags": []
          },
          "execution_count": 3
        }
      ]
    },
    {
      "cell_type": "code",
      "metadata": {
        "colab": {
          "base_uri": "https://localhost:8080/",
          "height": 195
        },
        "id": "3HUAdLF9zR_L",
        "outputId": "0a0e537c-4ddd-47f7-9bed-9917e230180c"
      },
      "source": [
        "temp = orders[orders['eval_set']=='test']\n",
        "temp = temp.drop(['order_dow', 'order_hour_of_day', 'order_number' ,'days_since_prior_order'], axis=1)\n",
        "temp = pd.merge(temp, order_prior[['order_id', 'reordered']], on='order_id', how='left')\n",
        "temp.head()"
      ],
      "execution_count": 4,
      "outputs": [
        {
          "output_type": "execute_result",
          "data": {
            "text/html": [
              "<div>\n",
              "<style scoped>\n",
              "    .dataframe tbody tr th:only-of-type {\n",
              "        vertical-align: middle;\n",
              "    }\n",
              "\n",
              "    .dataframe tbody tr th {\n",
              "        vertical-align: top;\n",
              "    }\n",
              "\n",
              "    .dataframe thead th {\n",
              "        text-align: right;\n",
              "    }\n",
              "</style>\n",
              "<table border=\"1\" class=\"dataframe\">\n",
              "  <thead>\n",
              "    <tr style=\"text-align: right;\">\n",
              "      <th></th>\n",
              "      <th>order_id</th>\n",
              "      <th>user_id</th>\n",
              "      <th>eval_set</th>\n",
              "      <th>reordered</th>\n",
              "    </tr>\n",
              "  </thead>\n",
              "  <tbody>\n",
              "    <tr>\n",
              "      <th>0</th>\n",
              "      <td>2774568</td>\n",
              "      <td>3</td>\n",
              "      <td>test</td>\n",
              "      <td>NaN</td>\n",
              "    </tr>\n",
              "    <tr>\n",
              "      <th>1</th>\n",
              "      <td>329954</td>\n",
              "      <td>4</td>\n",
              "      <td>test</td>\n",
              "      <td>NaN</td>\n",
              "    </tr>\n",
              "    <tr>\n",
              "      <th>2</th>\n",
              "      <td>1528013</td>\n",
              "      <td>6</td>\n",
              "      <td>test</td>\n",
              "      <td>NaN</td>\n",
              "    </tr>\n",
              "    <tr>\n",
              "      <th>3</th>\n",
              "      <td>1376945</td>\n",
              "      <td>11</td>\n",
              "      <td>test</td>\n",
              "      <td>NaN</td>\n",
              "    </tr>\n",
              "    <tr>\n",
              "      <th>4</th>\n",
              "      <td>1356845</td>\n",
              "      <td>12</td>\n",
              "      <td>test</td>\n",
              "      <td>NaN</td>\n",
              "    </tr>\n",
              "  </tbody>\n",
              "</table>\n",
              "</div>"
            ],
            "text/plain": [
              "   order_id  user_id eval_set  reordered\n",
              "0   2774568        3     test        NaN\n",
              "1    329954        4     test        NaN\n",
              "2   1528013        6     test        NaN\n",
              "3   1376945       11     test        NaN\n",
              "4   1356845       12     test        NaN"
            ]
          },
          "metadata": {
            "tags": []
          },
          "execution_count": 4
        }
      ]
    },
    {
      "cell_type": "markdown",
      "metadata": {
        "id": "tQ66PYfizJv2"
      },
      "source": [
        "# 2. Data Pre-processsing"
      ]
    },
    {
      "cell_type": "markdown",
      "metadata": {
        "id": "-zhgOJQzzhKP"
      },
      "source": [
        "### 2.1 Add information to products"
      ]
    },
    {
      "cell_type": "code",
      "metadata": {
        "colab": {
          "base_uri": "https://localhost:8080/",
          "height": 229
        },
        "id": "4c7QNgdSzRqz",
        "outputId": "116905e8-5e36-4d10-e1b2-57adc1e2b712"
      },
      "source": [
        "products = pd.merge(products, aisels, on='aisle_id', how='left')\n",
        "products = pd.merge(products, dept, on='department_id', how='left')\n",
        "products.head()"
      ],
      "execution_count": 5,
      "outputs": [
        {
          "output_type": "execute_result",
          "data": {
            "text/html": [
              "<div>\n",
              "<style scoped>\n",
              "    .dataframe tbody tr th:only-of-type {\n",
              "        vertical-align: middle;\n",
              "    }\n",
              "\n",
              "    .dataframe tbody tr th {\n",
              "        vertical-align: top;\n",
              "    }\n",
              "\n",
              "    .dataframe thead th {\n",
              "        text-align: right;\n",
              "    }\n",
              "</style>\n",
              "<table border=\"1\" class=\"dataframe\">\n",
              "  <thead>\n",
              "    <tr style=\"text-align: right;\">\n",
              "      <th></th>\n",
              "      <th>product_id</th>\n",
              "      <th>product_name</th>\n",
              "      <th>aisle_id</th>\n",
              "      <th>department_id</th>\n",
              "      <th>aisle</th>\n",
              "      <th>department</th>\n",
              "    </tr>\n",
              "  </thead>\n",
              "  <tbody>\n",
              "    <tr>\n",
              "      <th>0</th>\n",
              "      <td>1</td>\n",
              "      <td>Chocolate Sandwich Cookies</td>\n",
              "      <td>61</td>\n",
              "      <td>19</td>\n",
              "      <td>cookies cakes</td>\n",
              "      <td>snacks</td>\n",
              "    </tr>\n",
              "    <tr>\n",
              "      <th>1</th>\n",
              "      <td>2</td>\n",
              "      <td>All-Seasons Salt</td>\n",
              "      <td>104</td>\n",
              "      <td>13</td>\n",
              "      <td>spices seasonings</td>\n",
              "      <td>pantry</td>\n",
              "    </tr>\n",
              "    <tr>\n",
              "      <th>2</th>\n",
              "      <td>3</td>\n",
              "      <td>Robust Golden Unsweetened Oolong Tea</td>\n",
              "      <td>94</td>\n",
              "      <td>7</td>\n",
              "      <td>tea</td>\n",
              "      <td>beverages</td>\n",
              "    </tr>\n",
              "    <tr>\n",
              "      <th>3</th>\n",
              "      <td>4</td>\n",
              "      <td>Smart Ones Classic Favorites Mini Rigatoni Wit...</td>\n",
              "      <td>38</td>\n",
              "      <td>1</td>\n",
              "      <td>frozen meals</td>\n",
              "      <td>frozen</td>\n",
              "    </tr>\n",
              "    <tr>\n",
              "      <th>4</th>\n",
              "      <td>5</td>\n",
              "      <td>Green Chile Anytime Sauce</td>\n",
              "      <td>5</td>\n",
              "      <td>13</td>\n",
              "      <td>marinades meat preparation</td>\n",
              "      <td>pantry</td>\n",
              "    </tr>\n",
              "  </tbody>\n",
              "</table>\n",
              "</div>"
            ],
            "text/plain": [
              "   product_id  ... department\n",
              "0           1  ...     snacks\n",
              "1           2  ...     pantry\n",
              "2           3  ...  beverages\n",
              "3           4  ...     frozen\n",
              "4           5  ...     pantry\n",
              "\n",
              "[5 rows x 6 columns]"
            ]
          },
          "metadata": {
            "tags": []
          },
          "execution_count": 5
        }
      ]
    },
    {
      "cell_type": "markdown",
      "metadata": {
        "id": "GDbP4gdP0R--"
      },
      "source": [
        "### 2.2 Add \"user_id\" to each order in order_train"
      ]
    },
    {
      "cell_type": "code",
      "metadata": {
        "colab": {
          "base_uri": "https://localhost:8080/",
          "height": 195
        },
        "id": "CMYdWIeizf1K",
        "outputId": "8e9920ef-3836-4a96-c2a2-ca7ebdda231a"
      },
      "source": [
        "order_train = pd.merge(order_train, orders[['order_id', 'user_id']], on='order_id', how='left')\n",
        "order_train.head()"
      ],
      "execution_count": 6,
      "outputs": [
        {
          "output_type": "execute_result",
          "data": {
            "text/html": [
              "<div>\n",
              "<style scoped>\n",
              "    .dataframe tbody tr th:only-of-type {\n",
              "        vertical-align: middle;\n",
              "    }\n",
              "\n",
              "    .dataframe tbody tr th {\n",
              "        vertical-align: top;\n",
              "    }\n",
              "\n",
              "    .dataframe thead th {\n",
              "        text-align: right;\n",
              "    }\n",
              "</style>\n",
              "<table border=\"1\" class=\"dataframe\">\n",
              "  <thead>\n",
              "    <tr style=\"text-align: right;\">\n",
              "      <th></th>\n",
              "      <th>order_id</th>\n",
              "      <th>product_id</th>\n",
              "      <th>add_to_cart_order</th>\n",
              "      <th>reordered</th>\n",
              "      <th>user_id</th>\n",
              "    </tr>\n",
              "  </thead>\n",
              "  <tbody>\n",
              "    <tr>\n",
              "      <th>0</th>\n",
              "      <td>1</td>\n",
              "      <td>49302</td>\n",
              "      <td>1</td>\n",
              "      <td>1</td>\n",
              "      <td>112108</td>\n",
              "    </tr>\n",
              "    <tr>\n",
              "      <th>1</th>\n",
              "      <td>1</td>\n",
              "      <td>11109</td>\n",
              "      <td>2</td>\n",
              "      <td>1</td>\n",
              "      <td>112108</td>\n",
              "    </tr>\n",
              "    <tr>\n",
              "      <th>2</th>\n",
              "      <td>1</td>\n",
              "      <td>10246</td>\n",
              "      <td>3</td>\n",
              "      <td>0</td>\n",
              "      <td>112108</td>\n",
              "    </tr>\n",
              "    <tr>\n",
              "      <th>3</th>\n",
              "      <td>1</td>\n",
              "      <td>49683</td>\n",
              "      <td>4</td>\n",
              "      <td>0</td>\n",
              "      <td>112108</td>\n",
              "    </tr>\n",
              "    <tr>\n",
              "      <th>4</th>\n",
              "      <td>1</td>\n",
              "      <td>43633</td>\n",
              "      <td>5</td>\n",
              "      <td>1</td>\n",
              "      <td>112108</td>\n",
              "    </tr>\n",
              "  </tbody>\n",
              "</table>\n",
              "</div>"
            ],
            "text/plain": [
              "   order_id  product_id  add_to_cart_order  reordered  user_id\n",
              "0         1       49302                  1          1   112108\n",
              "1         1       11109                  2          1   112108\n",
              "2         1       10246                  3          0   112108\n",
              "3         1       49683                  4          0   112108\n",
              "4         1       43633                  5          1   112108"
            ]
          },
          "metadata": {
            "tags": []
          },
          "execution_count": 6
        }
      ]
    },
    {
      "cell_type": "markdown",
      "metadata": {
        "id": "EAHxrLNK0kge"
      },
      "source": [
        "### 2.3 Add \"product_id\", \"add_to_cart_order\", \"reordered\" columns from order_prior to each order"
      ]
    },
    {
      "cell_type": "code",
      "metadata": {
        "colab": {
          "base_uri": "https://localhost:8080/",
          "height": 422
        },
        "id": "pn0LDXHC0F7t",
        "outputId": "211c71c7-929d-4086-fec0-d626d6f96109"
      },
      "source": [
        "orders_products = pd.merge(orders, order_prior, on='order_id', how='inner')\n",
        "orders_products"
      ],
      "execution_count": 7,
      "outputs": [
        {
          "output_type": "execute_result",
          "data": {
            "text/html": [
              "<div>\n",
              "<style scoped>\n",
              "    .dataframe tbody tr th:only-of-type {\n",
              "        vertical-align: middle;\n",
              "    }\n",
              "\n",
              "    .dataframe tbody tr th {\n",
              "        vertical-align: top;\n",
              "    }\n",
              "\n",
              "    .dataframe thead th {\n",
              "        text-align: right;\n",
              "    }\n",
              "</style>\n",
              "<table border=\"1\" class=\"dataframe\">\n",
              "  <thead>\n",
              "    <tr style=\"text-align: right;\">\n",
              "      <th></th>\n",
              "      <th>order_id</th>\n",
              "      <th>user_id</th>\n",
              "      <th>eval_set</th>\n",
              "      <th>order_number</th>\n",
              "      <th>order_dow</th>\n",
              "      <th>order_hour_of_day</th>\n",
              "      <th>days_since_prior_order</th>\n",
              "      <th>product_id</th>\n",
              "      <th>add_to_cart_order</th>\n",
              "      <th>reordered</th>\n",
              "    </tr>\n",
              "  </thead>\n",
              "  <tbody>\n",
              "    <tr>\n",
              "      <th>0</th>\n",
              "      <td>2539329</td>\n",
              "      <td>1</td>\n",
              "      <td>prior</td>\n",
              "      <td>1</td>\n",
              "      <td>2</td>\n",
              "      <td>8</td>\n",
              "      <td>NaN</td>\n",
              "      <td>196</td>\n",
              "      <td>1</td>\n",
              "      <td>0</td>\n",
              "    </tr>\n",
              "    <tr>\n",
              "      <th>1</th>\n",
              "      <td>2539329</td>\n",
              "      <td>1</td>\n",
              "      <td>prior</td>\n",
              "      <td>1</td>\n",
              "      <td>2</td>\n",
              "      <td>8</td>\n",
              "      <td>NaN</td>\n",
              "      <td>14084</td>\n",
              "      <td>2</td>\n",
              "      <td>0</td>\n",
              "    </tr>\n",
              "    <tr>\n",
              "      <th>2</th>\n",
              "      <td>2539329</td>\n",
              "      <td>1</td>\n",
              "      <td>prior</td>\n",
              "      <td>1</td>\n",
              "      <td>2</td>\n",
              "      <td>8</td>\n",
              "      <td>NaN</td>\n",
              "      <td>12427</td>\n",
              "      <td>3</td>\n",
              "      <td>0</td>\n",
              "    </tr>\n",
              "    <tr>\n",
              "      <th>3</th>\n",
              "      <td>2539329</td>\n",
              "      <td>1</td>\n",
              "      <td>prior</td>\n",
              "      <td>1</td>\n",
              "      <td>2</td>\n",
              "      <td>8</td>\n",
              "      <td>NaN</td>\n",
              "      <td>26088</td>\n",
              "      <td>4</td>\n",
              "      <td>0</td>\n",
              "    </tr>\n",
              "    <tr>\n",
              "      <th>4</th>\n",
              "      <td>2539329</td>\n",
              "      <td>1</td>\n",
              "      <td>prior</td>\n",
              "      <td>1</td>\n",
              "      <td>2</td>\n",
              "      <td>8</td>\n",
              "      <td>NaN</td>\n",
              "      <td>26405</td>\n",
              "      <td>5</td>\n",
              "      <td>0</td>\n",
              "    </tr>\n",
              "    <tr>\n",
              "      <th>...</th>\n",
              "      <td>...</td>\n",
              "      <td>...</td>\n",
              "      <td>...</td>\n",
              "      <td>...</td>\n",
              "      <td>...</td>\n",
              "      <td>...</td>\n",
              "      <td>...</td>\n",
              "      <td>...</td>\n",
              "      <td>...</td>\n",
              "      <td>...</td>\n",
              "    </tr>\n",
              "    <tr>\n",
              "      <th>32434484</th>\n",
              "      <td>2977660</td>\n",
              "      <td>206209</td>\n",
              "      <td>prior</td>\n",
              "      <td>13</td>\n",
              "      <td>1</td>\n",
              "      <td>12</td>\n",
              "      <td>7.0</td>\n",
              "      <td>14197</td>\n",
              "      <td>5</td>\n",
              "      <td>1</td>\n",
              "    </tr>\n",
              "    <tr>\n",
              "      <th>32434485</th>\n",
              "      <td>2977660</td>\n",
              "      <td>206209</td>\n",
              "      <td>prior</td>\n",
              "      <td>13</td>\n",
              "      <td>1</td>\n",
              "      <td>12</td>\n",
              "      <td>7.0</td>\n",
              "      <td>38730</td>\n",
              "      <td>6</td>\n",
              "      <td>0</td>\n",
              "    </tr>\n",
              "    <tr>\n",
              "      <th>32434486</th>\n",
              "      <td>2977660</td>\n",
              "      <td>206209</td>\n",
              "      <td>prior</td>\n",
              "      <td>13</td>\n",
              "      <td>1</td>\n",
              "      <td>12</td>\n",
              "      <td>7.0</td>\n",
              "      <td>31477</td>\n",
              "      <td>7</td>\n",
              "      <td>0</td>\n",
              "    </tr>\n",
              "    <tr>\n",
              "      <th>32434487</th>\n",
              "      <td>2977660</td>\n",
              "      <td>206209</td>\n",
              "      <td>prior</td>\n",
              "      <td>13</td>\n",
              "      <td>1</td>\n",
              "      <td>12</td>\n",
              "      <td>7.0</td>\n",
              "      <td>6567</td>\n",
              "      <td>8</td>\n",
              "      <td>0</td>\n",
              "    </tr>\n",
              "    <tr>\n",
              "      <th>32434488</th>\n",
              "      <td>2977660</td>\n",
              "      <td>206209</td>\n",
              "      <td>prior</td>\n",
              "      <td>13</td>\n",
              "      <td>1</td>\n",
              "      <td>12</td>\n",
              "      <td>7.0</td>\n",
              "      <td>22920</td>\n",
              "      <td>9</td>\n",
              "      <td>0</td>\n",
              "    </tr>\n",
              "  </tbody>\n",
              "</table>\n",
              "<p>32434489 rows × 10 columns</p>\n",
              "</div>"
            ],
            "text/plain": [
              "          order_id  user_id eval_set  ...  product_id  add_to_cart_order  reordered\n",
              "0          2539329        1    prior  ...         196                  1          0\n",
              "1          2539329        1    prior  ...       14084                  2          0\n",
              "2          2539329        1    prior  ...       12427                  3          0\n",
              "3          2539329        1    prior  ...       26088                  4          0\n",
              "4          2539329        1    prior  ...       26405                  5          0\n",
              "...            ...      ...      ...  ...         ...                ...        ...\n",
              "32434484   2977660   206209    prior  ...       14197                  5          1\n",
              "32434485   2977660   206209    prior  ...       38730                  6          0\n",
              "32434486   2977660   206209    prior  ...       31477                  7          0\n",
              "32434487   2977660   206209    prior  ...        6567                  8          0\n",
              "32434488   2977660   206209    prior  ...       22920                  9          0\n",
              "\n",
              "[32434489 rows x 10 columns]"
            ]
          },
          "metadata": {
            "tags": []
          },
          "execution_count": 7
        }
      ]
    },
    {
      "cell_type": "markdown",
      "metadata": {
        "id": "EhD7Wq0hwDhB"
      },
      "source": [
        "# 3. Add Features"
      ]
    },
    {
      "cell_type": "markdown",
      "metadata": {
        "id": "uqLfpm9u1fk0"
      },
      "source": [
        "### placed_orders_sum: Total numbers of order from each user"
      ]
    },
    {
      "cell_type": "code",
      "metadata": {
        "colab": {
          "base_uri": "https://localhost:8080/",
          "height": 225
        },
        "id": "Glua-glf3Y-Q",
        "outputId": "20bb0785-946d-4bc2-c964-3cb5337833f5"
      },
      "source": [
        "#Features for user\n",
        "prior = orders[orders['eval_set'] == 'prior']\n",
        "gb_id = prior.groupby('user_id')\n",
        "#Total numbers of order from each user\n",
        "users = pd.DataFrame(gb_id.size(), columns=['placed_orders_sum'])\n",
        "users.head()"
      ],
      "execution_count": 8,
      "outputs": [
        {
          "output_type": "execute_result",
          "data": {
            "text/html": [
              "<div>\n",
              "<style scoped>\n",
              "    .dataframe tbody tr th:only-of-type {\n",
              "        vertical-align: middle;\n",
              "    }\n",
              "\n",
              "    .dataframe tbody tr th {\n",
              "        vertical-align: top;\n",
              "    }\n",
              "\n",
              "    .dataframe thead th {\n",
              "        text-align: right;\n",
              "    }\n",
              "</style>\n",
              "<table border=\"1\" class=\"dataframe\">\n",
              "  <thead>\n",
              "    <tr style=\"text-align: right;\">\n",
              "      <th></th>\n",
              "      <th>placed_orders_sum</th>\n",
              "    </tr>\n",
              "    <tr>\n",
              "      <th>user_id</th>\n",
              "      <th></th>\n",
              "    </tr>\n",
              "  </thead>\n",
              "  <tbody>\n",
              "    <tr>\n",
              "      <th>1</th>\n",
              "      <td>10</td>\n",
              "    </tr>\n",
              "    <tr>\n",
              "      <th>2</th>\n",
              "      <td>14</td>\n",
              "    </tr>\n",
              "    <tr>\n",
              "      <th>3</th>\n",
              "      <td>12</td>\n",
              "    </tr>\n",
              "    <tr>\n",
              "      <th>4</th>\n",
              "      <td>5</td>\n",
              "    </tr>\n",
              "    <tr>\n",
              "      <th>5</th>\n",
              "      <td>4</td>\n",
              "    </tr>\n",
              "  </tbody>\n",
              "</table>\n",
              "</div>"
            ],
            "text/plain": [
              "         placed_orders_sum\n",
              "user_id                   \n",
              "1                       10\n",
              "2                       14\n",
              "3                       12\n",
              "4                        5\n",
              "5                        4"
            ]
          },
          "metadata": {
            "tags": []
          },
          "execution_count": 8
        }
      ]
    },
    {
      "cell_type": "markdown",
      "metadata": {
        "id": "fVLPaceFY6U8"
      },
      "source": [
        "### mean_day_between_orders: mean number of days since last purchase for each user"
      ]
    },
    {
      "cell_type": "code",
      "metadata": {
        "id": "EEsuWvOr3oc2"
      },
      "source": [
        "# Average days since last purchase for each user\n",
        "users['mean_day_between_orders'] = gb_id['days_since_prior_order'].agg('mean')"
      ],
      "execution_count": 9,
      "outputs": []
    },
    {
      "cell_type": "markdown",
      "metadata": {
        "id": "OpOrLsVElBcQ"
      },
      "source": [
        "### max_day_between_orders: maximun day between last order"
      ]
    },
    {
      "cell_type": "code",
      "metadata": {
        "colab": {
          "base_uri": "https://localhost:8080/",
          "height": 225
        },
        "id": "-vH60lsne70f",
        "outputId": "9cab6b50-095a-4d16-b9dc-7ec6cf540d0b"
      },
      "source": [
        "users['max_day_between_orders'] = gb_id['days_since_prior_order'].max().values\n",
        "users.head()"
      ],
      "execution_count": 10,
      "outputs": [
        {
          "output_type": "execute_result",
          "data": {
            "text/html": [
              "<div>\n",
              "<style scoped>\n",
              "    .dataframe tbody tr th:only-of-type {\n",
              "        vertical-align: middle;\n",
              "    }\n",
              "\n",
              "    .dataframe tbody tr th {\n",
              "        vertical-align: top;\n",
              "    }\n",
              "\n",
              "    .dataframe thead th {\n",
              "        text-align: right;\n",
              "    }\n",
              "</style>\n",
              "<table border=\"1\" class=\"dataframe\">\n",
              "  <thead>\n",
              "    <tr style=\"text-align: right;\">\n",
              "      <th></th>\n",
              "      <th>placed_orders_sum</th>\n",
              "      <th>mean_day_between_orders</th>\n",
              "      <th>max_day_between_orders</th>\n",
              "    </tr>\n",
              "    <tr>\n",
              "      <th>user_id</th>\n",
              "      <th></th>\n",
              "      <th></th>\n",
              "      <th></th>\n",
              "    </tr>\n",
              "  </thead>\n",
              "  <tbody>\n",
              "    <tr>\n",
              "      <th>1</th>\n",
              "      <td>10</td>\n",
              "      <td>19.555556</td>\n",
              "      <td>30.0</td>\n",
              "    </tr>\n",
              "    <tr>\n",
              "      <th>2</th>\n",
              "      <td>14</td>\n",
              "      <td>15.230769</td>\n",
              "      <td>30.0</td>\n",
              "    </tr>\n",
              "    <tr>\n",
              "      <th>3</th>\n",
              "      <td>12</td>\n",
              "      <td>12.090909</td>\n",
              "      <td>21.0</td>\n",
              "    </tr>\n",
              "    <tr>\n",
              "      <th>4</th>\n",
              "      <td>5</td>\n",
              "      <td>13.750000</td>\n",
              "      <td>21.0</td>\n",
              "    </tr>\n",
              "    <tr>\n",
              "      <th>5</th>\n",
              "      <td>4</td>\n",
              "      <td>13.333333</td>\n",
              "      <td>19.0</td>\n",
              "    </tr>\n",
              "  </tbody>\n",
              "</table>\n",
              "</div>"
            ],
            "text/plain": [
              "         placed_orders_sum  mean_day_between_orders  max_day_between_orders\n",
              "user_id                                                                    \n",
              "1                       10                19.555556                    30.0\n",
              "2                       14                15.230769                    30.0\n",
              "3                       12                12.090909                    21.0\n",
              "4                        5                13.750000                    21.0\n",
              "5                        4                13.333333                    19.0"
            ]
          },
          "metadata": {
            "tags": []
          },
          "execution_count": 10
        }
      ]
    },
    {
      "cell_type": "code",
      "metadata": {
        "id": "uSV060nHkpSp"
      },
      "source": [
        "users.reset_index(inplace=True)"
      ],
      "execution_count": 11,
      "outputs": []
    },
    {
      "cell_type": "markdown",
      "metadata": {
        "id": "qD6LcWYlZOtB"
      },
      "source": [
        "### prod_purchased_tot_count: total number of items purchased by a user"
      ]
    },
    {
      "cell_type": "code",
      "metadata": {
        "id": "gsuhAmoVPvxH"
      },
      "source": [
        "gb_id = orders_products.groupby('user_id')\n",
        "#Count of total number of times user made a purchase\n",
        "df = pd.DataFrame(gb_id.size(), columns=['prod_purchased_tot_count'])"
      ],
      "execution_count": 12,
      "outputs": []
    },
    {
      "cell_type": "code",
      "metadata": {
        "colab": {
          "base_uri": "https://localhost:8080/",
          "height": 225
        },
        "id": "senogK4OlSbT",
        "outputId": "9f6266ab-0f8c-4cb4-f023-fe1176f1d7cd"
      },
      "source": [
        "df.head()"
      ],
      "execution_count": 13,
      "outputs": [
        {
          "output_type": "execute_result",
          "data": {
            "text/html": [
              "<div>\n",
              "<style scoped>\n",
              "    .dataframe tbody tr th:only-of-type {\n",
              "        vertical-align: middle;\n",
              "    }\n",
              "\n",
              "    .dataframe tbody tr th {\n",
              "        vertical-align: top;\n",
              "    }\n",
              "\n",
              "    .dataframe thead th {\n",
              "        text-align: right;\n",
              "    }\n",
              "</style>\n",
              "<table border=\"1\" class=\"dataframe\">\n",
              "  <thead>\n",
              "    <tr style=\"text-align: right;\">\n",
              "      <th></th>\n",
              "      <th>prod_purchased_tot_count</th>\n",
              "    </tr>\n",
              "    <tr>\n",
              "      <th>user_id</th>\n",
              "      <th></th>\n",
              "    </tr>\n",
              "  </thead>\n",
              "  <tbody>\n",
              "    <tr>\n",
              "      <th>1</th>\n",
              "      <td>59</td>\n",
              "    </tr>\n",
              "    <tr>\n",
              "      <th>2</th>\n",
              "      <td>195</td>\n",
              "    </tr>\n",
              "    <tr>\n",
              "      <th>3</th>\n",
              "      <td>88</td>\n",
              "    </tr>\n",
              "    <tr>\n",
              "      <th>4</th>\n",
              "      <td>18</td>\n",
              "    </tr>\n",
              "    <tr>\n",
              "      <th>5</th>\n",
              "      <td>37</td>\n",
              "    </tr>\n",
              "  </tbody>\n",
              "</table>\n",
              "</div>"
            ],
            "text/plain": [
              "         prod_purchased_tot_count\n",
              "user_id                          \n",
              "1                              59\n",
              "2                             195\n",
              "3                              88\n",
              "4                              18\n",
              "5                              37"
            ]
          },
          "metadata": {
            "tags": []
          },
          "execution_count": 13
        }
      ]
    },
    {
      "cell_type": "markdown",
      "metadata": {
        "id": "SjEXFhp9ZdxY"
      },
      "source": [
        "### reorder_ratio: sum_reorder/sum_tot_order_number"
      ]
    },
    {
      "cell_type": "code",
      "metadata": {
        "id": "Ki6YvEUTZblN"
      },
      "source": [
        "sum_tot_order_number = gb_id['order_number'].agg(lambda x: sum(x>1))\n",
        "sum_reorder = gb_id['reordered'].agg('sum')\n",
        "df['reorder_ratio'] = sum_reorder/sum_tot_order_number"
      ],
      "execution_count": 14,
      "outputs": []
    },
    {
      "cell_type": "code",
      "metadata": {
        "id": "K0ikAs1VTzpq"
      },
      "source": [
        "users = pd.merge(users, df, on='user_id', how='inner')"
      ],
      "execution_count": 15,
      "outputs": []
    },
    {
      "cell_type": "markdown",
      "metadata": {
        "id": "7pbAI_nll1QO"
      },
      "source": [
        "### avg_products_purchased_per_order"
      ]
    },
    {
      "cell_type": "code",
      "metadata": {
        "id": "RyvMlRlUmA8l"
      },
      "source": [
        "users['avg_products_purchased_per_order'] = users['prod_purchased_tot_count'] / users['placed_orders_sum']"
      ],
      "execution_count": 16,
      "outputs": []
    },
    {
      "cell_type": "markdown",
      "metadata": {
        "id": "UYdSO2hGaRxj"
      },
      "source": [
        "### Inner join with train/test eval_set data, also add 'days_since_prior_order'"
      ]
    },
    {
      "cell_type": "code",
      "metadata": {
        "id": "ldTDTyLpV7cm"
      },
      "source": [
        "df = orders.loc[orders['eval_set'] != 'prior', ['user_id', 'order_id', 'eval_set', 'days_since_prior_order']]\n",
        "users = pd.merge(users, df, on='user_id', how='inner')"
      ],
      "execution_count": 17,
      "outputs": []
    },
    {
      "cell_type": "markdown",
      "metadata": {
        "id": "h63H74NwWzXF"
      },
      "source": [
        "### prod_purchased_count: number of unique products purchased by a user"
      ]
    },
    {
      "cell_type": "code",
      "metadata": {
        "id": "4v8kJsLHW_Rq"
      },
      "source": [
        "gb_id = orders_products.groupby(['user_id', 'product_id'])\n",
        "each = pd.DataFrame(gb_id.size(), columns=['prod_purchased_count'])\n",
        "each.reset_index(inplace=True)"
      ],
      "execution_count": 18,
      "outputs": []
    },
    {
      "cell_type": "code",
      "metadata": {
        "id": "Ds4zU4rSpBl_"
      },
      "source": [
        "each = pd.merge(each, users, on='user_id', how='inner')"
      ],
      "execution_count": 19,
      "outputs": []
    },
    {
      "cell_type": "code",
      "metadata": {
        "id": "td7D6aXMphOe"
      },
      "source": [
        "each = pd.merge(each, order_train[['user_id', 'product_id', 'reordered']], on=['user_id', 'product_id'], how='left')"
      ],
      "execution_count": 20,
      "outputs": []
    },
    {
      "cell_type": "code",
      "metadata": {
        "colab": {
          "base_uri": "https://localhost:8080/",
          "height": 215
        },
        "id": "vXCP5q13pqY4",
        "outputId": "c5f512f0-ae21-4a01-a967-bdee8125a299"
      },
      "source": [
        "each.head()"
      ],
      "execution_count": 21,
      "outputs": [
        {
          "output_type": "execute_result",
          "data": {
            "text/html": [
              "<div>\n",
              "<style scoped>\n",
              "    .dataframe tbody tr th:only-of-type {\n",
              "        vertical-align: middle;\n",
              "    }\n",
              "\n",
              "    .dataframe tbody tr th {\n",
              "        vertical-align: top;\n",
              "    }\n",
              "\n",
              "    .dataframe thead th {\n",
              "        text-align: right;\n",
              "    }\n",
              "</style>\n",
              "<table border=\"1\" class=\"dataframe\">\n",
              "  <thead>\n",
              "    <tr style=\"text-align: right;\">\n",
              "      <th></th>\n",
              "      <th>user_id</th>\n",
              "      <th>product_id</th>\n",
              "      <th>prod_purchased_count</th>\n",
              "      <th>placed_orders_sum</th>\n",
              "      <th>mean_day_between_orders</th>\n",
              "      <th>max_day_between_orders</th>\n",
              "      <th>prod_purchased_tot_count</th>\n",
              "      <th>reorder_ratio</th>\n",
              "      <th>avg_products_purchased_per_order</th>\n",
              "      <th>order_id</th>\n",
              "      <th>eval_set</th>\n",
              "      <th>days_since_prior_order</th>\n",
              "      <th>reordered</th>\n",
              "    </tr>\n",
              "  </thead>\n",
              "  <tbody>\n",
              "    <tr>\n",
              "      <th>0</th>\n",
              "      <td>1</td>\n",
              "      <td>196</td>\n",
              "      <td>10</td>\n",
              "      <td>10</td>\n",
              "      <td>19.555556</td>\n",
              "      <td>30.0</td>\n",
              "      <td>59</td>\n",
              "      <td>0.759259</td>\n",
              "      <td>5.9</td>\n",
              "      <td>1187899</td>\n",
              "      <td>train</td>\n",
              "      <td>14.0</td>\n",
              "      <td>1.0</td>\n",
              "    </tr>\n",
              "    <tr>\n",
              "      <th>1</th>\n",
              "      <td>1</td>\n",
              "      <td>10258</td>\n",
              "      <td>9</td>\n",
              "      <td>10</td>\n",
              "      <td>19.555556</td>\n",
              "      <td>30.0</td>\n",
              "      <td>59</td>\n",
              "      <td>0.759259</td>\n",
              "      <td>5.9</td>\n",
              "      <td>1187899</td>\n",
              "      <td>train</td>\n",
              "      <td>14.0</td>\n",
              "      <td>1.0</td>\n",
              "    </tr>\n",
              "    <tr>\n",
              "      <th>2</th>\n",
              "      <td>1</td>\n",
              "      <td>10326</td>\n",
              "      <td>1</td>\n",
              "      <td>10</td>\n",
              "      <td>19.555556</td>\n",
              "      <td>30.0</td>\n",
              "      <td>59</td>\n",
              "      <td>0.759259</td>\n",
              "      <td>5.9</td>\n",
              "      <td>1187899</td>\n",
              "      <td>train</td>\n",
              "      <td>14.0</td>\n",
              "      <td>NaN</td>\n",
              "    </tr>\n",
              "    <tr>\n",
              "      <th>3</th>\n",
              "      <td>1</td>\n",
              "      <td>12427</td>\n",
              "      <td>10</td>\n",
              "      <td>10</td>\n",
              "      <td>19.555556</td>\n",
              "      <td>30.0</td>\n",
              "      <td>59</td>\n",
              "      <td>0.759259</td>\n",
              "      <td>5.9</td>\n",
              "      <td>1187899</td>\n",
              "      <td>train</td>\n",
              "      <td>14.0</td>\n",
              "      <td>NaN</td>\n",
              "    </tr>\n",
              "    <tr>\n",
              "      <th>4</th>\n",
              "      <td>1</td>\n",
              "      <td>13032</td>\n",
              "      <td>3</td>\n",
              "      <td>10</td>\n",
              "      <td>19.555556</td>\n",
              "      <td>30.0</td>\n",
              "      <td>59</td>\n",
              "      <td>0.759259</td>\n",
              "      <td>5.9</td>\n",
              "      <td>1187899</td>\n",
              "      <td>train</td>\n",
              "      <td>14.0</td>\n",
              "      <td>1.0</td>\n",
              "    </tr>\n",
              "  </tbody>\n",
              "</table>\n",
              "</div>"
            ],
            "text/plain": [
              "   user_id  product_id  ...  days_since_prior_order  reordered\n",
              "0        1         196  ...                    14.0        1.0\n",
              "1        1       10258  ...                    14.0        1.0\n",
              "2        1       10326  ...                    14.0        NaN\n",
              "3        1       12427  ...                    14.0        NaN\n",
              "4        1       13032  ...                    14.0        1.0\n",
              "\n",
              "[5 rows x 13 columns]"
            ]
          },
          "metadata": {
            "tags": []
          },
          "execution_count": 21
        }
      ]
    },
    {
      "cell_type": "markdown",
      "metadata": {
        "id": "DRIFg73np5wQ"
      },
      "source": [
        "# 4. Split Train and Test sets"
      ]
    },
    {
      "cell_type": "code",
      "metadata": {
        "id": "PiCNBmwLqC_j"
      },
      "source": [
        "train = each[each['eval_set']=='train']\n",
        "train = train.drop(['eval_set', 'user_id', 'product_id', 'order_id'], axis=1)"
      ],
      "execution_count": 23,
      "outputs": []
    },
    {
      "cell_type": "code",
      "metadata": {
        "id": "cHybvHhHqYrP"
      },
      "source": [
        "train['reordered'] = train['reordered'].fillna(0)"
      ],
      "execution_count": 24,
      "outputs": []
    },
    {
      "cell_type": "code",
      "metadata": {
        "colab": {
          "base_uri": "https://localhost:8080/",
          "height": 215
        },
        "id": "L6etM1z-qapU",
        "outputId": "36791247-2ca6-4ac4-b115-3a2be03d9ac5"
      },
      "source": [
        "train.head()"
      ],
      "execution_count": 25,
      "outputs": [
        {
          "output_type": "execute_result",
          "data": {
            "text/html": [
              "<div>\n",
              "<style scoped>\n",
              "    .dataframe tbody tr th:only-of-type {\n",
              "        vertical-align: middle;\n",
              "    }\n",
              "\n",
              "    .dataframe tbody tr th {\n",
              "        vertical-align: top;\n",
              "    }\n",
              "\n",
              "    .dataframe thead th {\n",
              "        text-align: right;\n",
              "    }\n",
              "</style>\n",
              "<table border=\"1\" class=\"dataframe\">\n",
              "  <thead>\n",
              "    <tr style=\"text-align: right;\">\n",
              "      <th></th>\n",
              "      <th>prod_purchased_count</th>\n",
              "      <th>placed_orders_sum</th>\n",
              "      <th>mean_day_between_orders</th>\n",
              "      <th>max_day_between_orders</th>\n",
              "      <th>prod_purchased_tot_count</th>\n",
              "      <th>reorder_ratio</th>\n",
              "      <th>avg_products_purchased_per_order</th>\n",
              "      <th>days_since_prior_order</th>\n",
              "      <th>reordered</th>\n",
              "    </tr>\n",
              "  </thead>\n",
              "  <tbody>\n",
              "    <tr>\n",
              "      <th>0</th>\n",
              "      <td>10</td>\n",
              "      <td>10</td>\n",
              "      <td>19.555556</td>\n",
              "      <td>30.0</td>\n",
              "      <td>59</td>\n",
              "      <td>0.759259</td>\n",
              "      <td>5.9</td>\n",
              "      <td>14.0</td>\n",
              "      <td>1.0</td>\n",
              "    </tr>\n",
              "    <tr>\n",
              "      <th>1</th>\n",
              "      <td>9</td>\n",
              "      <td>10</td>\n",
              "      <td>19.555556</td>\n",
              "      <td>30.0</td>\n",
              "      <td>59</td>\n",
              "      <td>0.759259</td>\n",
              "      <td>5.9</td>\n",
              "      <td>14.0</td>\n",
              "      <td>1.0</td>\n",
              "    </tr>\n",
              "    <tr>\n",
              "      <th>2</th>\n",
              "      <td>1</td>\n",
              "      <td>10</td>\n",
              "      <td>19.555556</td>\n",
              "      <td>30.0</td>\n",
              "      <td>59</td>\n",
              "      <td>0.759259</td>\n",
              "      <td>5.9</td>\n",
              "      <td>14.0</td>\n",
              "      <td>0.0</td>\n",
              "    </tr>\n",
              "    <tr>\n",
              "      <th>3</th>\n",
              "      <td>10</td>\n",
              "      <td>10</td>\n",
              "      <td>19.555556</td>\n",
              "      <td>30.0</td>\n",
              "      <td>59</td>\n",
              "      <td>0.759259</td>\n",
              "      <td>5.9</td>\n",
              "      <td>14.0</td>\n",
              "      <td>0.0</td>\n",
              "    </tr>\n",
              "    <tr>\n",
              "      <th>4</th>\n",
              "      <td>3</td>\n",
              "      <td>10</td>\n",
              "      <td>19.555556</td>\n",
              "      <td>30.0</td>\n",
              "      <td>59</td>\n",
              "      <td>0.759259</td>\n",
              "      <td>5.9</td>\n",
              "      <td>14.0</td>\n",
              "      <td>1.0</td>\n",
              "    </tr>\n",
              "  </tbody>\n",
              "</table>\n",
              "</div>"
            ],
            "text/plain": [
              "   prod_purchased_count  placed_orders_sum  ...  days_since_prior_order  reordered\n",
              "0                    10                 10  ...                    14.0        1.0\n",
              "1                     9                 10  ...                    14.0        1.0\n",
              "2                     1                 10  ...                    14.0        0.0\n",
              "3                    10                 10  ...                    14.0        0.0\n",
              "4                     3                 10  ...                    14.0        1.0\n",
              "\n",
              "[5 rows x 9 columns]"
            ]
          },
          "metadata": {
            "tags": []
          },
          "execution_count": 25
        }
      ]
    },
    {
      "cell_type": "code",
      "metadata": {
        "colab": {
          "base_uri": "https://localhost:8080/"
        },
        "id": "p--DMo9RCDX8",
        "outputId": "1ef0247a-6d74-40f5-91bb-96b868ecb5b5"
      },
      "source": [
        "len(train)"
      ],
      "execution_count": 27,
      "outputs": [
        {
          "output_type": "execute_result",
          "data": {
            "text/plain": [
              "8474661"
            ]
          },
          "metadata": {
            "tags": []
          },
          "execution_count": 27
        }
      ]
    },
    {
      "cell_type": "code",
      "metadata": {
        "id": "zipvGRXWe55w"
      },
      "source": [
        "from sklearn.model_selection import train_test_split\n",
        "\n",
        "subtrain = train.sample(frac=0.1, random_state=2)\n",
        "X_train, X_test, y_train, y_test = train_test_split(subtrain, subtrain.reordered, test_size=0.30, random_state=0)"
      ],
      "execution_count": 26,
      "outputs": []
    },
    {
      "cell_type": "markdown",
      "metadata": {
        "id": "mvCFJ3wbNItu"
      },
      "source": [
        "# Grid Search"
      ]
    },
    {
      "cell_type": "code",
      "metadata": {
        "id": "OPz3ypHSMujL"
      },
      "source": [
        "X = subtrain.iloc[:,0:8]\n",
        "y = subtrain.iloc[:,8]"
      ],
      "execution_count": null,
      "outputs": []
    },
    {
      "cell_type": "code",
      "metadata": {
        "id": "-SYmX1e9M0jm"
      },
      "source": [
        "from xgboost import XGBClassifier\n",
        "from sklearn.model_selection import GridSearchCV\n",
        "from sklearn.model_selection import StratifiedKFold\n",
        "from sklearn.preprocessing import LabelEncoder\n",
        "\n",
        "#encode str as int values\n",
        "label_encoded_y = LabelEncoder().fit_transform(y)"
      ],
      "execution_count": null,
      "outputs": []
    },
    {
      "cell_type": "code",
      "metadata": {
        "id": "1j0fesYMNNyZ"
      },
      "source": [
        "# grid search\n",
        "model = XGBClassifier(\n",
        "    objective= 'binary:logistic',\n",
        "    eval_metric= 'logloss',\n",
        "    learning_rate= 0.1,\n",
        "    max_depth= 3,\n",
        "    min_child_weight= 10,\n",
        "    gamma= 0.7,\n",
        "    subsample= 0.70,\n",
        "    colsample_bytree= 0.95,\n",
        "    reg_alpha= 0.05,\n",
        "    reg_lambda= 10)\n",
        "\n",
        "n_estimators = range(50, 200, 10)\n",
        "param_grid = dict(n_estimators=n_estimators)\n",
        "k_fold = StratifiedKFold(n_splits=10, shuffle=True, random_state=7)\n",
        "g_search = GridSearchCV(model, param_grid, scoring=\"f1\", n_jobs=-1, cv=k_fold)\n",
        "result = g_search.fit(X, label_encoded_y)"
      ],
      "execution_count": null,
      "outputs": []
    },
    {
      "cell_type": "code",
      "metadata": {
        "colab": {
          "base_uri": "https://localhost:8080/"
        },
        "id": "P-IFJOrCzDsc",
        "outputId": "9ab7f821-9259-46a9-b003-b262baa17c03"
      },
      "source": [
        "result.best_params_"
      ],
      "execution_count": null,
      "outputs": [
        {
          "output_type": "execute_result",
          "data": {
            "text/plain": [
              "{'n_estimators': 190}"
            ]
          },
          "metadata": {
            "tags": []
          },
          "execution_count": 42
        }
      ]
    },
    {
      "cell_type": "code",
      "metadata": {
        "colab": {
          "base_uri": "https://localhost:8080/"
        },
        "id": "YzFWhxmvx7m9",
        "outputId": "6a2bea5d-2101-4b06-8734-ca9dfebb750e"
      },
      "source": [
        "model = XGBClassifier(\n",
        "    objective= 'binary:logistic',\n",
        "    eval_metric= 'logloss',\n",
        "    learning_rate= 0.1,\n",
        "    min_child_weight= 10,\n",
        "    gamma= 0.7,\n",
        "    subsample= 0.70,\n",
        "    colsample_bytree= 0.95,\n",
        "    reg_alpha= 0.05,\n",
        "    reg_lambda= 10)\n",
        "max_depth = range(0, 10, 1)\n",
        "print(max_depth)\n",
        "param_grid = dict(max_depth=max_depth)\n",
        "k_fold = StratifiedKFold(n_splits=10, shuffle=True, random_state=7)\n",
        "g_search = GridSearchCV(model, param_grid, scoring=\"f1\", n_jobs=-1, cv=k_fold, verbose=1)\n",
        "result = g_search.fit(X, label_encoded_y)"
      ],
      "execution_count": null,
      "outputs": [
        {
          "output_type": "stream",
          "text": [
            "range(0, 10)\n",
            "Fitting 10 folds for each of 10 candidates, totalling 100 fits\n"
          ],
          "name": "stdout"
        },
        {
          "output_type": "stream",
          "text": [
            "[Parallel(n_jobs=-1)]: Using backend LokyBackend with 2 concurrent workers.\n",
            "[Parallel(n_jobs=-1)]: Done  46 tasks      | elapsed: 24.1min\n",
            "[Parallel(n_jobs=-1)]: Done 100 out of 100 | elapsed: 121.2min finished\n"
          ],
          "name": "stderr"
        }
      ]
    },
    {
      "cell_type": "code",
      "metadata": {
        "colab": {
          "base_uri": "https://localhost:8080/"
        },
        "id": "R3Hg3-KSx7py",
        "outputId": "6ff5a1aa-4d4c-44c9-9c97-87bba89d70ab"
      },
      "source": [
        "result.best_params_"
      ],
      "execution_count": null,
      "outputs": [
        {
          "output_type": "execute_result",
          "data": {
            "text/plain": [
              "{'max_depth': 9}"
            ]
          },
          "metadata": {
            "tags": []
          },
          "execution_count": 44
        }
      ]
    },
    {
      "cell_type": "markdown",
      "metadata": {
        "id": "ztw1DaWi1CjG"
      },
      "source": [
        "# Test set"
      ]
    },
    {
      "cell_type": "code",
      "metadata": {
        "colab": {
          "base_uri": "https://localhost:8080/",
          "height": 215
        },
        "id": "SPdCI0D0iiv8",
        "outputId": "0e4bf812-f0f4-4909-a6fd-6b37d8e4b895"
      },
      "source": [
        "X_test = X_test.drop(['reordered'], axis=1)\n",
        "X_test.head()"
      ],
      "execution_count": null,
      "outputs": [
        {
          "output_type": "execute_result",
          "data": {
            "text/html": [
              "<div>\n",
              "<style scoped>\n",
              "    .dataframe tbody tr th:only-of-type {\n",
              "        vertical-align: middle;\n",
              "    }\n",
              "\n",
              "    .dataframe tbody tr th {\n",
              "        vertical-align: top;\n",
              "    }\n",
              "\n",
              "    .dataframe thead th {\n",
              "        text-align: right;\n",
              "    }\n",
              "</style>\n",
              "<table border=\"1\" class=\"dataframe\">\n",
              "  <thead>\n",
              "    <tr style=\"text-align: right;\">\n",
              "      <th></th>\n",
              "      <th>prod_purchased_count</th>\n",
              "      <th>placed_orders_sum</th>\n",
              "      <th>mean_day_between_orders</th>\n",
              "      <th>max_day_between_orders</th>\n",
              "      <th>prod_purchased_tot_count</th>\n",
              "      <th>reorder_ratio</th>\n",
              "      <th>avg_products_purchased_per_order</th>\n",
              "      <th>days_since_prior_order</th>\n",
              "    </tr>\n",
              "  </thead>\n",
              "  <tbody>\n",
              "    <tr>\n",
              "      <th>6857932</th>\n",
              "      <td>2</td>\n",
              "      <td>22</td>\n",
              "      <td>12.142857</td>\n",
              "      <td>30.0</td>\n",
              "      <td>127</td>\n",
              "      <td>0.479339</td>\n",
              "      <td>5.772727</td>\n",
              "      <td>24.0</td>\n",
              "    </tr>\n",
              "    <tr>\n",
              "      <th>5543187</th>\n",
              "      <td>1</td>\n",
              "      <td>9</td>\n",
              "      <td>24.250000</td>\n",
              "      <td>30.0</td>\n",
              "      <td>111</td>\n",
              "      <td>0.184466</td>\n",
              "      <td>12.333333</td>\n",
              "      <td>2.0</td>\n",
              "    </tr>\n",
              "    <tr>\n",
              "      <th>13060830</th>\n",
              "      <td>1</td>\n",
              "      <td>67</td>\n",
              "      <td>5.378788</td>\n",
              "      <td>18.0</td>\n",
              "      <td>762</td>\n",
              "      <td>0.686508</td>\n",
              "      <td>11.373134</td>\n",
              "      <td>2.0</td>\n",
              "    </tr>\n",
              "    <tr>\n",
              "      <th>5540739</th>\n",
              "      <td>1</td>\n",
              "      <td>6</td>\n",
              "      <td>24.800000</td>\n",
              "      <td>30.0</td>\n",
              "      <td>57</td>\n",
              "      <td>0.187500</td>\n",
              "      <td>9.500000</td>\n",
              "      <td>30.0</td>\n",
              "    </tr>\n",
              "    <tr>\n",
              "      <th>4913900</th>\n",
              "      <td>1</td>\n",
              "      <td>5</td>\n",
              "      <td>13.500000</td>\n",
              "      <td>30.0</td>\n",
              "      <td>24</td>\n",
              "      <td>0.142857</td>\n",
              "      <td>4.800000</td>\n",
              "      <td>4.0</td>\n",
              "    </tr>\n",
              "  </tbody>\n",
              "</table>\n",
              "</div>"
            ],
            "text/plain": [
              "          prod_purchased_count  ...  days_since_prior_order\n",
              "6857932                      2  ...                    24.0\n",
              "5543187                      1  ...                     2.0\n",
              "13060830                     1  ...                     2.0\n",
              "5540739                      1  ...                    30.0\n",
              "4913900                      1  ...                     4.0\n",
              "\n",
              "[5 rows x 8 columns]"
            ]
          },
          "metadata": {
            "tags": []
          },
          "execution_count": 27
        }
      ]
    },
    {
      "cell_type": "markdown",
      "metadata": {
        "id": "uYcumoe3rghL"
      },
      "source": [
        "# 5. Build Model_1 to test params"
      ]
    },
    {
      "cell_type": "code",
      "metadata": {
        "id": "tHPHT15shJaf"
      },
      "source": [
        "import xgboost as xgb\n",
        "\n",
        "params = {\n",
        "    'objective': 'binary:logistic',\n",
        "    'eval_metric': 'logloss',\n",
        "    'eta': 0.1,\n",
        "    'max_depth': 9,\n",
        "    'min_child_weight': 10,\n",
        "    'gamma': 0.7,\n",
        "    'subsample': 0.76,\n",
        "    'colsample_bytree': 0.95,\n",
        "    'alpha': 0.05,\n",
        "    'lambda': 10\n",
        "}"
      ],
      "execution_count": null,
      "outputs": []
    },
    {
      "cell_type": "code",
      "metadata": {
        "id": "jhxsKVvbhhVN"
      },
      "source": [
        "X_tr = xgb.DMatrix(X_train.drop(['reordered'], axis=1), label=X_train['reordered'])"
      ],
      "execution_count": null,
      "outputs": []
    },
    {
      "cell_type": "code",
      "metadata": {
        "id": "QbS4Xbo3h0rk"
      },
      "source": [
        "model = xgb.train(params, X_tr, num_boost_round=190)"
      ],
      "execution_count": null,
      "outputs": []
    },
    {
      "cell_type": "markdown",
      "metadata": {
        "id": "I3RHdqBpoNFR"
      },
      "source": [
        "### 5.1 Feature Importance"
      ]
    },
    {
      "cell_type": "code",
      "metadata": {
        "colab": {
          "base_uri": "https://localhost:8080/"
        },
        "id": "eV9QUdP9oNYG",
        "outputId": "4cee7e4a-2ab5-44b5-fd9e-8ceb1d256ca6"
      },
      "source": [
        "xgb.plot_importance(model)"
      ],
      "execution_count": null,
      "outputs": [
        {
          "output_type": "execute_result",
          "data": {
            "text/plain": [
              "<matplotlib.axes._subplots.AxesSubplot at 0x7f71ee9d3748>"
            ]
          },
          "metadata": {
            "tags": []
          },
          "execution_count": 32
        },
        {
          "output_type": "display_data",
          "data": {
            "image/png": "[encoded data removed]",
            "text/plain": [
              "<Figure size 432x288 with 1 Axes>"
            ]
          },
          "metadata": {
            "tags": [],
            "needs_background": "light"
          }
        }
      ]
    },
    {
      "cell_type": "code",
      "metadata": {
        "id": "r3QTyj7siPge"
      },
      "source": [
        "X_te = xgb.DMatrix(X_test)"
      ],
      "execution_count": null,
      "outputs": []
    },
    {
      "cell_type": "code",
      "metadata": {
        "id": "bM4PhaFfjQGX"
      },
      "source": [
        "X_test['reordered'] = model.predict(X_te)"
      ],
      "execution_count": null,
      "outputs": []
    },
    {
      "cell_type": "code",
      "metadata": {
        "colab": {
          "base_uri": "https://localhost:8080/"
        },
        "id": "Oq5rOhrKjaIt",
        "outputId": "018f0671-9cec-4ffa-e14a-c9fa3e1e8efe"
      },
      "source": [
        "X_test.head()"
      ],
      "execution_count": null,
      "outputs": [
        {
          "output_type": "execute_result",
          "data": {
            "text/html": [
              "<div>\n",
              "<style scoped>\n",
              "    .dataframe tbody tr th:only-of-type {\n",
              "        vertical-align: middle;\n",
              "    }\n",
              "\n",
              "    .dataframe tbody tr th {\n",
              "        vertical-align: top;\n",
              "    }\n",
              "\n",
              "    .dataframe thead th {\n",
              "        text-align: right;\n",
              "    }\n",
              "</style>\n",
              "<table border=\"1\" class=\"dataframe\">\n",
              "  <thead>\n",
              "    <tr style=\"text-align: right;\">\n",
              "      <th></th>\n",
              "      <th>prod_purchased_count</th>\n",
              "      <th>placed_orders_sum</th>\n",
              "      <th>mean_day_between_orders</th>\n",
              "      <th>max_day_between_orders</th>\n",
              "      <th>prod_purchased_tot_count</th>\n",
              "      <th>reorder_ratio</th>\n",
              "      <th>avg_products_purchased_per_order</th>\n",
              "      <th>days_since_prior_order</th>\n",
              "      <th>reordered</th>\n",
              "    </tr>\n",
              "  </thead>\n",
              "  <tbody>\n",
              "    <tr>\n",
              "      <th>6857932</th>\n",
              "      <td>2</td>\n",
              "      <td>22</td>\n",
              "      <td>12.142857</td>\n",
              "      <td>30.0</td>\n",
              "      <td>127</td>\n",
              "      <td>0.479339</td>\n",
              "      <td>5.772727</td>\n",
              "      <td>24.0</td>\n",
              "      <td>0.048067</td>\n",
              "    </tr>\n",
              "    <tr>\n",
              "      <th>5543187</th>\n",
              "      <td>1</td>\n",
              "      <td>9</td>\n",
              "      <td>24.250000</td>\n",
              "      <td>30.0</td>\n",
              "      <td>111</td>\n",
              "      <td>0.184466</td>\n",
              "      <td>12.333333</td>\n",
              "      <td>2.0</td>\n",
              "      <td>0.026054</td>\n",
              "    </tr>\n",
              "    <tr>\n",
              "      <th>13060830</th>\n",
              "      <td>1</td>\n",
              "      <td>67</td>\n",
              "      <td>5.378788</td>\n",
              "      <td>18.0</td>\n",
              "      <td>762</td>\n",
              "      <td>0.686508</td>\n",
              "      <td>11.373134</td>\n",
              "      <td>2.0</td>\n",
              "      <td>0.010651</td>\n",
              "    </tr>\n",
              "    <tr>\n",
              "      <th>5540739</th>\n",
              "      <td>1</td>\n",
              "      <td>6</td>\n",
              "      <td>24.800000</td>\n",
              "      <td>30.0</td>\n",
              "      <td>57</td>\n",
              "      <td>0.187500</td>\n",
              "      <td>9.500000</td>\n",
              "      <td>30.0</td>\n",
              "      <td>0.056219</td>\n",
              "    </tr>\n",
              "    <tr>\n",
              "      <th>4913900</th>\n",
              "      <td>1</td>\n",
              "      <td>5</td>\n",
              "      <td>13.500000</td>\n",
              "      <td>30.0</td>\n",
              "      <td>24</td>\n",
              "      <td>0.142857</td>\n",
              "      <td>4.800000</td>\n",
              "      <td>4.0</td>\n",
              "      <td>0.044042</td>\n",
              "    </tr>\n",
              "  </tbody>\n",
              "</table>\n",
              "</div>"
            ],
            "text/plain": [
              "          prod_purchased_count  ...  reordered\n",
              "6857932                      2  ...   0.048067\n",
              "5543187                      1  ...   0.026054\n",
              "13060830                     1  ...   0.010651\n",
              "5540739                      1  ...   0.056219\n",
              "4913900                      1  ...   0.044042\n",
              "\n",
              "[5 rows x 9 columns]"
            ]
          },
          "metadata": {
            "tags": []
          },
          "execution_count": 35
        }
      ]
    },
    {
      "cell_type": "markdown",
      "metadata": {
        "id": "3N00iuqeVwf-"
      },
      "source": [
        "### 5.2 Determine Threshold"
      ]
    },
    {
      "cell_type": "code",
      "metadata": {
        "id": "hr1SFgh1Vu_Q"
      },
      "source": [
        "from numpy import arange\n",
        "from numpy import argmax\n",
        "from sklearn.datasets import make_classification\n",
        "from sklearn.metrics import f1_score\n",
        "\n",
        "# apply threshold to positive probabilities to create labels\n",
        "def to_labels(pos_probs, threshold):\n",
        "\treturn (pos_probs >= threshold).astype('int')\n",
        "\n",
        "probs = X_test.reordered"
      ],
      "execution_count": null,
      "outputs": []
    },
    {
      "cell_type": "code",
      "metadata": {
        "colab": {
          "base_uri": "https://localhost:8080/"
        },
        "id": "LH4eZ7bErJg9",
        "outputId": "b5b08bd4-b476-4e13-a79c-91041eb4036a"
      },
      "source": [
        "probs.head()"
      ],
      "execution_count": null,
      "outputs": [
        {
          "output_type": "execute_result",
          "data": {
            "text/plain": [
              "6857932     0.048067\n",
              "5543187     0.026054\n",
              "13060830    0.010651\n",
              "5540739     0.056219\n",
              "4913900     0.044042\n",
              "Name: reordered, dtype: float32"
            ]
          },
          "metadata": {
            "tags": []
          },
          "execution_count": 37
        }
      ]
    },
    {
      "cell_type": "code",
      "metadata": {
        "colab": {
          "base_uri": "https://localhost:8080/"
        },
        "id": "ITER638gXqM_",
        "outputId": "70ff4e71-2f96-4832-9db1-e1a8a1ffece9"
      },
      "source": [
        "#thresholds range and steps\n",
        "thresholds = arange(0, 1, 0.001)\n",
        "\n",
        "#get scores from each threshold\n",
        "scores = [f1_score(y_test, to_labels(probs, t)) for t in thresholds]\n",
        "\n",
        "#get best threshold\n",
        "ix = argmax(scores)\n",
        "print('Threshold=%.3f, F-Score=%.5f' % (thresholds[ix], scores[ix]))"
      ],
      "execution_count": null,
      "outputs": [
        {
          "output_type": "stream",
          "text": [
            "Threshold=0.202, F-Score=0.38992\n"
          ],
          "name": "stdout"
        }
      ]
    },
    {
      "cell_type": "markdown",
      "metadata": {
        "id": "rErYmnJAV2VB"
      },
      "source": [
        "### 5.3 Test Threshold"
      ]
    },
    {
      "cell_type": "code",
      "metadata": {
        "id": "QK0T7DEE04F3"
      },
      "source": [
        "Threshold = 0.202"
      ],
      "execution_count": null,
      "outputs": []
    },
    {
      "cell_type": "code",
      "metadata": {
        "id": "0F5BTSPCjfKB"
      },
      "source": [
        "X_test.loc[X_test['reordered'] > Threshold, 'reordered'] = 1"
      ],
      "execution_count": null,
      "outputs": []
    },
    {
      "cell_type": "code",
      "metadata": {
        "id": "4kAXiAH-lGT_"
      },
      "source": [
        "X_test.loc[X_test['reordered'] <= Threshold, 'reordered'] = 0"
      ],
      "execution_count": null,
      "outputs": []
    },
    {
      "cell_type": "code",
      "metadata": {
        "colab": {
          "base_uri": "https://localhost:8080/",
          "height": 215
        },
        "id": "JcIjTa0WjkN5",
        "outputId": "1bec380a-00d3-4b03-c3c8-baaa7ca9b2bb"
      },
      "source": [
        "X_test.head()"
      ],
      "execution_count": null,
      "outputs": [
        {
          "output_type": "execute_result",
          "data": {
            "text/html": [
              "<div>\n",
              "<style scoped>\n",
              "    .dataframe tbody tr th:only-of-type {\n",
              "        vertical-align: middle;\n",
              "    }\n",
              "\n",
              "    .dataframe tbody tr th {\n",
              "        vertical-align: top;\n",
              "    }\n",
              "\n",
              "    .dataframe thead th {\n",
              "        text-align: right;\n",
              "    }\n",
              "</style>\n",
              "<table border=\"1\" class=\"dataframe\">\n",
              "  <thead>\n",
              "    <tr style=\"text-align: right;\">\n",
              "      <th></th>\n",
              "      <th>prod_purchased_count</th>\n",
              "      <th>placed_orders_sum</th>\n",
              "      <th>mean_day_between_orders</th>\n",
              "      <th>max_day_between_orders</th>\n",
              "      <th>prod_purchased_tot_count</th>\n",
              "      <th>reorder_ratio</th>\n",
              "      <th>avg_products_purchased_per_order</th>\n",
              "      <th>days_since_prior_order</th>\n",
              "      <th>reordered</th>\n",
              "    </tr>\n",
              "  </thead>\n",
              "  <tbody>\n",
              "    <tr>\n",
              "      <th>6857932</th>\n",
              "      <td>2</td>\n",
              "      <td>22</td>\n",
              "      <td>12.142857</td>\n",
              "      <td>30.0</td>\n",
              "      <td>127</td>\n",
              "      <td>0.479339</td>\n",
              "      <td>5.772727</td>\n",
              "      <td>24.0</td>\n",
              "      <td>0.0</td>\n",
              "    </tr>\n",
              "    <tr>\n",
              "      <th>5543187</th>\n",
              "      <td>1</td>\n",
              "      <td>9</td>\n",
              "      <td>24.250000</td>\n",
              "      <td>30.0</td>\n",
              "      <td>111</td>\n",
              "      <td>0.184466</td>\n",
              "      <td>12.333333</td>\n",
              "      <td>2.0</td>\n",
              "      <td>0.0</td>\n",
              "    </tr>\n",
              "    <tr>\n",
              "      <th>13060830</th>\n",
              "      <td>1</td>\n",
              "      <td>67</td>\n",
              "      <td>5.378788</td>\n",
              "      <td>18.0</td>\n",
              "      <td>762</td>\n",
              "      <td>0.686508</td>\n",
              "      <td>11.373134</td>\n",
              "      <td>2.0</td>\n",
              "      <td>0.0</td>\n",
              "    </tr>\n",
              "    <tr>\n",
              "      <th>5540739</th>\n",
              "      <td>1</td>\n",
              "      <td>6</td>\n",
              "      <td>24.800000</td>\n",
              "      <td>30.0</td>\n",
              "      <td>57</td>\n",
              "      <td>0.187500</td>\n",
              "      <td>9.500000</td>\n",
              "      <td>30.0</td>\n",
              "      <td>0.0</td>\n",
              "    </tr>\n",
              "    <tr>\n",
              "      <th>4913900</th>\n",
              "      <td>1</td>\n",
              "      <td>5</td>\n",
              "      <td>13.500000</td>\n",
              "      <td>30.0</td>\n",
              "      <td>24</td>\n",
              "      <td>0.142857</td>\n",
              "      <td>4.800000</td>\n",
              "      <td>4.0</td>\n",
              "      <td>0.0</td>\n",
              "    </tr>\n",
              "  </tbody>\n",
              "</table>\n",
              "</div>"
            ],
            "text/plain": [
              "          prod_purchased_count  ...  reordered\n",
              "6857932                      2  ...        0.0\n",
              "5543187                      1  ...        0.0\n",
              "13060830                     1  ...        0.0\n",
              "5540739                      1  ...        0.0\n",
              "4913900                      1  ...        0.0\n",
              "\n",
              "[5 rows x 9 columns]"
            ]
          },
          "metadata": {
            "tags": []
          },
          "execution_count": 38
        }
      ]
    },
    {
      "cell_type": "code",
      "metadata": {
        "colab": {
          "base_uri": "https://localhost:8080/"
        },
        "id": "Qvy0B2EDkPiw",
        "outputId": "11eb1631-212c-4507-9890-5e866fa489e3"
      },
      "source": [
        "from sklearn.metrics import classification_report\n",
        "print(classification_report(y_test, X_test.reordered))"
      ],
      "execution_count": null,
      "outputs": [
        {
          "output_type": "stream",
          "text": [
            "              precision    recall  f1-score   support\n",
            "\n",
            "         0.0       0.94      0.91      0.93    229461\n",
            "         1.0       0.35      0.43      0.39     24779\n",
            "\n",
            "    accuracy                           0.87    254240\n",
            "   macro avg       0.65      0.67      0.66    254240\n",
            "weighted avg       0.88      0.87      0.87    254240\n",
            "\n"
          ],
          "name": "stdout"
        }
      ]
    },
    {
      "cell_type": "markdown",
      "metadata": {
        "id": "4jZKiUwADkxO"
      },
      "source": [
        "# Build Model_2 for real test set"
      ]
    },
    {
      "cell_type": "code",
      "metadata": {
        "id": "aMaANj3vF0PY"
      },
      "source": [
        "import xgboost as xgb\n",
        "\n",
        "params = {\n",
        "    'objective': 'binary:logistic',\n",
        "    'eval_metric': 'logloss',\n",
        "    'eta': 0.1,\n",
        "    'max_depth': 9,\n",
        "    'min_child_weight': 10,\n",
        "    'gamma': 0.7,\n",
        "    'subsample': 0.70,\n",
        "    'colsample_bytree': 0.95,\n",
        "    'alpha': 0.05,\n",
        "    'lambda': 10\n",
        "}\n",
        "\n",
        "X_subtrain = xgb.DMatrix(subtrain.drop(['reordered'], axis=1), label=subtrain['reordered'])\n",
        "#n_estimator best setting 190\n",
        "model_2 = xgb.train(params, X_subtrain, num_boost_round=190)"
      ],
      "execution_count": 32,
      "outputs": []
    },
    {
      "cell_type": "markdown",
      "metadata": {
        "id": "ZciH1YknGQMS"
      },
      "source": [
        "### Feature Importance"
      ]
    },
    {
      "cell_type": "code",
      "metadata": {
        "colab": {
          "base_uri": "https://localhost:8080/",
          "height": 312
        },
        "id": "p1ktoKM1GSBr",
        "outputId": "dffae36f-fef0-462a-f66b-8210e8edac0b"
      },
      "source": [
        "xgb.plot_importance(model_2)"
      ],
      "execution_count": 33,
      "outputs": [
        {
          "output_type": "execute_result",
          "data": {
            "text/plain": [
              "<matplotlib.axes._subplots.AxesSubplot at 0x7fb1046ee518>"
            ]
          },
          "metadata": {
            "tags": []
          },
          "execution_count": 33
        },
        {
          "output_type": "display_data",
          "data": {
            "image/png": "[encoded data removed]",
            "text/plain": [
              "<Figure size 432x288 with 1 Axes>"
            ]
          },
          "metadata": {
            "tags": [],
            "needs_background": "light"
          }
        }
      ]
    },
    {
      "cell_type": "markdown",
      "metadata": {
        "id": "Kw8xn6pHHWDm"
      },
      "source": [
        "### Apply model_2"
      ]
    },
    {
      "cell_type": "code",
      "metadata": {
        "colab": {
          "base_uri": "https://localhost:8080/",
          "height": 215
        },
        "id": "jcNQy5ATqpLl",
        "outputId": "50ca9900-3e25-4bd5-ddf4-d907697b174f"
      },
      "source": [
        "test = each[each['eval_set']=='test']\n",
        "test = test.drop(['eval_set', 'user_id', 'reordered'], axis=1)\n",
        "test.head()"
      ],
      "execution_count": 34,
      "outputs": [
        {
          "output_type": "execute_result",
          "data": {
            "text/html": [
              "<div>\n",
              "<style scoped>\n",
              "    .dataframe tbody tr th:only-of-type {\n",
              "        vertical-align: middle;\n",
              "    }\n",
              "\n",
              "    .dataframe tbody tr th {\n",
              "        vertical-align: top;\n",
              "    }\n",
              "\n",
              "    .dataframe thead th {\n",
              "        text-align: right;\n",
              "    }\n",
              "</style>\n",
              "<table border=\"1\" class=\"dataframe\">\n",
              "  <thead>\n",
              "    <tr style=\"text-align: right;\">\n",
              "      <th></th>\n",
              "      <th>product_id</th>\n",
              "      <th>prod_purchased_count</th>\n",
              "      <th>placed_orders_sum</th>\n",
              "      <th>mean_day_between_orders</th>\n",
              "      <th>max_day_between_orders</th>\n",
              "      <th>prod_purchased_tot_count</th>\n",
              "      <th>reorder_ratio</th>\n",
              "      <th>avg_products_purchased_per_order</th>\n",
              "      <th>order_id</th>\n",
              "      <th>days_since_prior_order</th>\n",
              "    </tr>\n",
              "  </thead>\n",
              "  <tbody>\n",
              "    <tr>\n",
              "      <th>120</th>\n",
              "      <td>248</td>\n",
              "      <td>1</td>\n",
              "      <td>12</td>\n",
              "      <td>12.090909</td>\n",
              "      <td>21.0</td>\n",
              "      <td>88</td>\n",
              "      <td>0.705128</td>\n",
              "      <td>7.333333</td>\n",
              "      <td>2774568</td>\n",
              "      <td>11.0</td>\n",
              "    </tr>\n",
              "    <tr>\n",
              "      <th>121</th>\n",
              "      <td>1005</td>\n",
              "      <td>1</td>\n",
              "      <td>12</td>\n",
              "      <td>12.090909</td>\n",
              "      <td>21.0</td>\n",
              "      <td>88</td>\n",
              "      <td>0.705128</td>\n",
              "      <td>7.333333</td>\n",
              "      <td>2774568</td>\n",
              "      <td>11.0</td>\n",
              "    </tr>\n",
              "    <tr>\n",
              "      <th>122</th>\n",
              "      <td>1819</td>\n",
              "      <td>3</td>\n",
              "      <td>12</td>\n",
              "      <td>12.090909</td>\n",
              "      <td>21.0</td>\n",
              "      <td>88</td>\n",
              "      <td>0.705128</td>\n",
              "      <td>7.333333</td>\n",
              "      <td>2774568</td>\n",
              "      <td>11.0</td>\n",
              "    </tr>\n",
              "    <tr>\n",
              "      <th>123</th>\n",
              "      <td>7503</td>\n",
              "      <td>1</td>\n",
              "      <td>12</td>\n",
              "      <td>12.090909</td>\n",
              "      <td>21.0</td>\n",
              "      <td>88</td>\n",
              "      <td>0.705128</td>\n",
              "      <td>7.333333</td>\n",
              "      <td>2774568</td>\n",
              "      <td>11.0</td>\n",
              "    </tr>\n",
              "    <tr>\n",
              "      <th>124</th>\n",
              "      <td>8021</td>\n",
              "      <td>1</td>\n",
              "      <td>12</td>\n",
              "      <td>12.090909</td>\n",
              "      <td>21.0</td>\n",
              "      <td>88</td>\n",
              "      <td>0.705128</td>\n",
              "      <td>7.333333</td>\n",
              "      <td>2774568</td>\n",
              "      <td>11.0</td>\n",
              "    </tr>\n",
              "  </tbody>\n",
              "</table>\n",
              "</div>"
            ],
            "text/plain": [
              "     product_id  prod_purchased_count  ...  order_id  days_since_prior_order\n",
              "120         248                     1  ...   2774568                    11.0\n",
              "121        1005                     1  ...   2774568                    11.0\n",
              "122        1819                     3  ...   2774568                    11.0\n",
              "123        7503                     1  ...   2774568                    11.0\n",
              "124        8021                     1  ...   2774568                    11.0\n",
              "\n",
              "[5 rows x 10 columns]"
            ]
          },
          "metadata": {
            "tags": []
          },
          "execution_count": 34
        }
      ]
    },
    {
      "cell_type": "code",
      "metadata": {
        "id": "JaaglpVemtXc"
      },
      "source": [
        "# Apply model to the real test set\n",
        "\n",
        "X_real_test = xgb.DMatrix(test.drop(['order_id', 'product_id'], axis=1))\n",
        "test['reordered'] = model_2.predict(X_real_test)\n",
        "Threshold = 0.202\n",
        "test.loc[test['reordered'] > Threshold, 'reordered'] = 1"
      ],
      "execution_count": 36,
      "outputs": []
    },
    {
      "cell_type": "code",
      "metadata": {
        "colab": {
          "base_uri": "https://localhost:8080/",
          "height": 215
        },
        "id": "d__6AtyL9UHg",
        "outputId": "3f69b442-9331-49dc-c6f2-eda44516e5c1"
      },
      "source": [
        "test.head()"
      ],
      "execution_count": 37,
      "outputs": [
        {
          "output_type": "execute_result",
          "data": {
            "text/html": [
              "<div>\n",
              "<style scoped>\n",
              "    .dataframe tbody tr th:only-of-type {\n",
              "        vertical-align: middle;\n",
              "    }\n",
              "\n",
              "    .dataframe tbody tr th {\n",
              "        vertical-align: top;\n",
              "    }\n",
              "\n",
              "    .dataframe thead th {\n",
              "        text-align: right;\n",
              "    }\n",
              "</style>\n",
              "<table border=\"1\" class=\"dataframe\">\n",
              "  <thead>\n",
              "    <tr style=\"text-align: right;\">\n",
              "      <th></th>\n",
              "      <th>product_id</th>\n",
              "      <th>prod_purchased_count</th>\n",
              "      <th>placed_orders_sum</th>\n",
              "      <th>mean_day_between_orders</th>\n",
              "      <th>max_day_between_orders</th>\n",
              "      <th>prod_purchased_tot_count</th>\n",
              "      <th>reorder_ratio</th>\n",
              "      <th>avg_products_purchased_per_order</th>\n",
              "      <th>order_id</th>\n",
              "      <th>days_since_prior_order</th>\n",
              "      <th>reordered</th>\n",
              "    </tr>\n",
              "  </thead>\n",
              "  <tbody>\n",
              "    <tr>\n",
              "      <th>120</th>\n",
              "      <td>248</td>\n",
              "      <td>1</td>\n",
              "      <td>12</td>\n",
              "      <td>12.090909</td>\n",
              "      <td>21.0</td>\n",
              "      <td>88</td>\n",
              "      <td>0.705128</td>\n",
              "      <td>7.333333</td>\n",
              "      <td>2774568</td>\n",
              "      <td>11.0</td>\n",
              "      <td>0.074182</td>\n",
              "    </tr>\n",
              "    <tr>\n",
              "      <th>121</th>\n",
              "      <td>1005</td>\n",
              "      <td>1</td>\n",
              "      <td>12</td>\n",
              "      <td>12.090909</td>\n",
              "      <td>21.0</td>\n",
              "      <td>88</td>\n",
              "      <td>0.705128</td>\n",
              "      <td>7.333333</td>\n",
              "      <td>2774568</td>\n",
              "      <td>11.0</td>\n",
              "      <td>0.074182</td>\n",
              "    </tr>\n",
              "    <tr>\n",
              "      <th>122</th>\n",
              "      <td>1819</td>\n",
              "      <td>3</td>\n",
              "      <td>12</td>\n",
              "      <td>12.090909</td>\n",
              "      <td>21.0</td>\n",
              "      <td>88</td>\n",
              "      <td>0.705128</td>\n",
              "      <td>7.333333</td>\n",
              "      <td>2774568</td>\n",
              "      <td>11.0</td>\n",
              "      <td>1.000000</td>\n",
              "    </tr>\n",
              "    <tr>\n",
              "      <th>123</th>\n",
              "      <td>7503</td>\n",
              "      <td>1</td>\n",
              "      <td>12</td>\n",
              "      <td>12.090909</td>\n",
              "      <td>21.0</td>\n",
              "      <td>88</td>\n",
              "      <td>0.705128</td>\n",
              "      <td>7.333333</td>\n",
              "      <td>2774568</td>\n",
              "      <td>11.0</td>\n",
              "      <td>0.074182</td>\n",
              "    </tr>\n",
              "    <tr>\n",
              "      <th>124</th>\n",
              "      <td>8021</td>\n",
              "      <td>1</td>\n",
              "      <td>12</td>\n",
              "      <td>12.090909</td>\n",
              "      <td>21.0</td>\n",
              "      <td>88</td>\n",
              "      <td>0.705128</td>\n",
              "      <td>7.333333</td>\n",
              "      <td>2774568</td>\n",
              "      <td>11.0</td>\n",
              "      <td>0.074182</td>\n",
              "    </tr>\n",
              "  </tbody>\n",
              "</table>\n",
              "</div>"
            ],
            "text/plain": [
              "     product_id  prod_purchased_count  ...  days_since_prior_order  reordered\n",
              "120         248                     1  ...                    11.0   0.074182\n",
              "121        1005                     1  ...                    11.0   0.074182\n",
              "122        1819                     3  ...                    11.0   1.000000\n",
              "123        7503                     1  ...                    11.0   0.074182\n",
              "124        8021                     1  ...                    11.0   0.074182\n",
              "\n",
              "[5 rows x 11 columns]"
            ]
          },
          "metadata": {
            "tags": []
          },
          "execution_count": 37
        }
      ]
    },
    {
      "cell_type": "code",
      "metadata": {
        "id": "D-e9BHTgmbQR"
      },
      "source": [
        "#Create submission\n",
        "kaggle_sub = test[test['reordered']==1]\n",
        "kaggle_sub = kaggle_sub.groupby('order_id')['product_id'].agg(lambda l: ' '.join([str(i) for i in l]))\n",
        "kaggle_sub = kaggle_sub.to_frame('products').reset_index()"
      ],
      "execution_count": 39,
      "outputs": []
    },
    {
      "cell_type": "code",
      "metadata": {
        "id": "_2pDDazvn5-c"
      },
      "source": [
        "#Replace missing orders with none -> order with no reordered item\n",
        "no_orders = pd.DataFrame(set(test.order_id) - set(kaggle_sub.order_id), columns=['order_id'])\n",
        "no_orders['products'] = 'None'\n",
        "kaggle_sub = kaggle_sub.append(no_orders)\n",
        "kaggle_sub = kaggle_sub.sort_values('order_id')\n",
        "kaggle_sub.columns = ['order_id', 'products']"
      ],
      "execution_count": 40,
      "outputs": []
    },
    {
      "cell_type": "code",
      "metadata": {
        "colab": {
          "base_uri": "https://localhost:8080/",
          "height": 195
        },
        "id": "KCgtChsLoaAs",
        "outputId": "ab5775ba-af98-42fe-e0e1-c44ac1c99df3"
      },
      "source": [
        "kaggle_sub.head()"
      ],
      "execution_count": 41,
      "outputs": [
        {
          "output_type": "execute_result",
          "data": {
            "text/html": [
              "<div>\n",
              "<style scoped>\n",
              "    .dataframe tbody tr th:only-of-type {\n",
              "        vertical-align: middle;\n",
              "    }\n",
              "\n",
              "    .dataframe tbody tr th {\n",
              "        vertical-align: top;\n",
              "    }\n",
              "\n",
              "    .dataframe thead th {\n",
              "        text-align: right;\n",
              "    }\n",
              "</style>\n",
              "<table border=\"1\" class=\"dataframe\">\n",
              "  <thead>\n",
              "    <tr style=\"text-align: right;\">\n",
              "      <th></th>\n",
              "      <th>order_id</th>\n",
              "      <th>products</th>\n",
              "    </tr>\n",
              "  </thead>\n",
              "  <tbody>\n",
              "    <tr>\n",
              "      <th>0</th>\n",
              "      <td>17</td>\n",
              "      <td>13107</td>\n",
              "    </tr>\n",
              "    <tr>\n",
              "      <th>1</th>\n",
              "      <td>34</td>\n",
              "      <td>39180 39475 43504 47029 47766 47792</td>\n",
              "    </tr>\n",
              "    <tr>\n",
              "      <th>2</th>\n",
              "      <td>137</td>\n",
              "      <td>23794 24852 38689 41787</td>\n",
              "    </tr>\n",
              "    <tr>\n",
              "      <th>3</th>\n",
              "      <td>182</td>\n",
              "      <td>5479 9337 13629 21903 24009 27104 33000 34243 ...</td>\n",
              "    </tr>\n",
              "    <tr>\n",
              "      <th>4</th>\n",
              "      <td>257</td>\n",
              "      <td>24852 27104 27966 29837 45013 49235</td>\n",
              "    </tr>\n",
              "  </tbody>\n",
              "</table>\n",
              "</div>"
            ],
            "text/plain": [
              "   order_id                                           products\n",
              "0        17                                              13107\n",
              "1        34                39180 39475 43504 47029 47766 47792\n",
              "2       137                            23794 24852 38689 41787\n",
              "3       182  5479 9337 13629 21903 24009 27104 33000 34243 ...\n",
              "4       257                24852 27104 27966 29837 45013 49235"
            ]
          },
          "metadata": {
            "tags": []
          },
          "execution_count": 41
        }
      ]
    },
    {
      "cell_type": "code",
      "metadata": {
        "id": "khuPOcaqmjtK"
      },
      "source": [
        "kaggle_sub.to_csv('/content/kaggle_sub.csv', index=False)"
      ],
      "execution_count": 43,
      "outputs": []
    }
  ]
}