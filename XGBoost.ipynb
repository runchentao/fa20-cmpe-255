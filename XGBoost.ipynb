{
  "nbformat": 4,
  "nbformat_minor": 0,
  "metadata": {
    "accelerator": "GPU",
    "colab": {
      "name": "XGBoost.ipynb",
      "provenance": [],
      "collapsed_sections": [
        "Wr4BPqdRBmQ1",
        "-S7skTeauoUr",
        "h2qlVL0NvJyT",
        "xVM4Ed-0whQK",
        "G55EqnnIIsEq",
        "tvQt3wbnr9KK",
        "hxyn_cPlvu1S",
        "RzetZkOQrLU6",
        "tQ66PYfizJv2",
        "-zhgOJQzzhKP",
        "GDbP4gdP0R--",
        "EAHxrLNK0kge",
        "uqLfpm9u1fk0",
        "h63H74NwWzXF"
      ],
      "machine_shape": "hm"
    },
    "kernelspec": {
      "display_name": "Python 3",
      "name": "python3"
    }
  },
  "cells": [
    {
      "cell_type": "markdown",
      "metadata": {
        "id": "Wr4BPqdRBmQ1"
      },
      "source": [
        "# 1. Import Data & Explore Data"
      ]
    },
    {
      "cell_type": "code",
      "metadata": {
        "id": "B8tnEse2Hfgr"
      },
      "source": [
        "import pandas as pd\n",
        "import numpy as np\n",
        "\n",
        "aisels = pd.read_csv('/content/aisles.csv')\n",
        "dept = pd.read_csv('/content/departments.csv')\n",
        "order_prior = pd.read_csv('/content/order_products__prior.csv')\n",
        "order_train = pd.read_csv('/content/order_products__train.csv')\n",
        "orders = pd.read_csv('/content/orders.csv')\n",
        "products = pd.read_csv('/content/products.csv')"
      ],
      "execution_count": 1,
      "outputs": []
    },
    {
      "cell_type": "markdown",
      "metadata": {
        "id": "-S7skTeauoUr"
      },
      "source": [
        "### 1.1 Explore aisels.csv"
      ]
    },
    {
      "cell_type": "code",
      "metadata": {
        "colab": {
          "base_uri": "https://localhost:8080/",
          "height": 195
        },
        "id": "Ubn9sZpNuoAR",
        "outputId": "8b1c9bf2-cb00-40b3-9d03-8c210f7ede1c"
      },
      "source": [
        "aisels.head()"
      ],
      "execution_count": 2,
      "outputs": [
        {
          "output_type": "execute_result",
          "data": {
            "text/html": [
              "<div>\n",
              "<style scoped>\n",
              "    .dataframe tbody tr th:only-of-type {\n",
              "        vertical-align: middle;\n",
              "    }\n",
              "\n",
              "    .dataframe tbody tr th {\n",
              "        vertical-align: top;\n",
              "    }\n",
              "\n",
              "    .dataframe thead th {\n",
              "        text-align: right;\n",
              "    }\n",
              "</style>\n",
              "<table border=\"1\" class=\"dataframe\">\n",
              "  <thead>\n",
              "    <tr style=\"text-align: right;\">\n",
              "      <th></th>\n",
              "      <th>aisle_id</th>\n",
              "      <th>aisle</th>\n",
              "    </tr>\n",
              "  </thead>\n",
              "  <tbody>\n",
              "    <tr>\n",
              "      <th>0</th>\n",
              "      <td>1</td>\n",
              "      <td>prepared soups salads</td>\n",
              "    </tr>\n",
              "    <tr>\n",
              "      <th>1</th>\n",
              "      <td>2</td>\n",
              "      <td>specialty cheeses</td>\n",
              "    </tr>\n",
              "    <tr>\n",
              "      <th>2</th>\n",
              "      <td>3</td>\n",
              "      <td>energy granola bars</td>\n",
              "    </tr>\n",
              "    <tr>\n",
              "      <th>3</th>\n",
              "      <td>4</td>\n",
              "      <td>instant foods</td>\n",
              "    </tr>\n",
              "    <tr>\n",
              "      <th>4</th>\n",
              "      <td>5</td>\n",
              "      <td>marinades meat preparation</td>\n",
              "    </tr>\n",
              "  </tbody>\n",
              "</table>\n",
              "</div>"
            ],
            "text/plain": [
              "   aisle_id                       aisle\n",
              "0         1       prepared soups salads\n",
              "1         2           specialty cheeses\n",
              "2         3         energy granola bars\n",
              "3         4               instant foods\n",
              "4         5  marinades meat preparation"
            ]
          },
          "metadata": {
            "tags": []
          },
          "execution_count": 2
        }
      ]
    },
    {
      "cell_type": "code",
      "metadata": {
        "colab": {
          "base_uri": "https://localhost:8080/"
        },
        "id": "_fZr9TXVu4Au",
        "outputId": "c9d2bd68-6f42-4739-ab3a-5b4c8c240f3f"
      },
      "source": [
        "print(\"Total asile count:\", len(aisels))"
      ],
      "execution_count": 3,
      "outputs": [
        {
          "output_type": "stream",
          "text": [
            "Total asile count: 134\n"
          ],
          "name": "stdout"
        }
      ]
    },
    {
      "cell_type": "markdown",
      "metadata": {
        "id": "h2qlVL0NvJyT"
      },
      "source": [
        "### 1.2 Explore departments.csv"
      ]
    },
    {
      "cell_type": "code",
      "metadata": {
        "colab": {
          "base_uri": "https://localhost:8080/",
          "height": 195
        },
        "id": "_fwCqFJKvOwh",
        "outputId": "ca399df6-4c1e-48f0-c497-cd309fd492f5"
      },
      "source": [
        "dept.head()"
      ],
      "execution_count": 4,
      "outputs": [
        {
          "output_type": "execute_result",
          "data": {
            "text/html": [
              "<div>\n",
              "<style scoped>\n",
              "    .dataframe tbody tr th:only-of-type {\n",
              "        vertical-align: middle;\n",
              "    }\n",
              "\n",
              "    .dataframe tbody tr th {\n",
              "        vertical-align: top;\n",
              "    }\n",
              "\n",
              "    .dataframe thead th {\n",
              "        text-align: right;\n",
              "    }\n",
              "</style>\n",
              "<table border=\"1\" class=\"dataframe\">\n",
              "  <thead>\n",
              "    <tr style=\"text-align: right;\">\n",
              "      <th></th>\n",
              "      <th>department_id</th>\n",
              "      <th>department</th>\n",
              "    </tr>\n",
              "  </thead>\n",
              "  <tbody>\n",
              "    <tr>\n",
              "      <th>0</th>\n",
              "      <td>1</td>\n",
              "      <td>frozen</td>\n",
              "    </tr>\n",
              "    <tr>\n",
              "      <th>1</th>\n",
              "      <td>2</td>\n",
              "      <td>other</td>\n",
              "    </tr>\n",
              "    <tr>\n",
              "      <th>2</th>\n",
              "      <td>3</td>\n",
              "      <td>bakery</td>\n",
              "    </tr>\n",
              "    <tr>\n",
              "      <th>3</th>\n",
              "      <td>4</td>\n",
              "      <td>produce</td>\n",
              "    </tr>\n",
              "    <tr>\n",
              "      <th>4</th>\n",
              "      <td>5</td>\n",
              "      <td>alcohol</td>\n",
              "    </tr>\n",
              "  </tbody>\n",
              "</table>\n",
              "</div>"
            ],
            "text/plain": [
              "   department_id department\n",
              "0              1     frozen\n",
              "1              2      other\n",
              "2              3     bakery\n",
              "3              4    produce\n",
              "4              5    alcohol"
            ]
          },
          "metadata": {
            "tags": []
          },
          "execution_count": 4
        }
      ]
    },
    {
      "cell_type": "code",
      "metadata": {
        "colab": {
          "base_uri": "https://localhost:8080/"
        },
        "id": "fDhvvGPIvTXx",
        "outputId": "eb946e47-b578-4f5e-a1aa-5e1a69bf3435"
      },
      "source": [
        "print(\"Total department count:\", len(dept))"
      ],
      "execution_count": 5,
      "outputs": [
        {
          "output_type": "stream",
          "text": [
            "Total department count: 21\n"
          ],
          "name": "stdout"
        }
      ]
    },
    {
      "cell_type": "markdown",
      "metadata": {
        "id": "xVM4Ed-0whQK"
      },
      "source": [
        "### 1.3 Explore products.csv"
      ]
    },
    {
      "cell_type": "code",
      "metadata": {
        "colab": {
          "base_uri": "https://localhost:8080/",
          "height": 195
        },
        "id": "rkIoQWesweQP",
        "outputId": "f3d92b05-8d63-425d-d28d-c207f2b5ed47"
      },
      "source": [
        "products.head()"
      ],
      "execution_count": 6,
      "outputs": [
        {
          "output_type": "execute_result",
          "data": {
            "text/html": [
              "<div>\n",
              "<style scoped>\n",
              "    .dataframe tbody tr th:only-of-type {\n",
              "        vertical-align: middle;\n",
              "    }\n",
              "\n",
              "    .dataframe tbody tr th {\n",
              "        vertical-align: top;\n",
              "    }\n",
              "\n",
              "    .dataframe thead th {\n",
              "        text-align: right;\n",
              "    }\n",
              "</style>\n",
              "<table border=\"1\" class=\"dataframe\">\n",
              "  <thead>\n",
              "    <tr style=\"text-align: right;\">\n",
              "      <th></th>\n",
              "      <th>product_id</th>\n",
              "      <th>product_name</th>\n",
              "      <th>aisle_id</th>\n",
              "      <th>department_id</th>\n",
              "    </tr>\n",
              "  </thead>\n",
              "  <tbody>\n",
              "    <tr>\n",
              "      <th>0</th>\n",
              "      <td>1</td>\n",
              "      <td>Chocolate Sandwich Cookies</td>\n",
              "      <td>61</td>\n",
              "      <td>19</td>\n",
              "    </tr>\n",
              "    <tr>\n",
              "      <th>1</th>\n",
              "      <td>2</td>\n",
              "      <td>All-Seasons Salt</td>\n",
              "      <td>104</td>\n",
              "      <td>13</td>\n",
              "    </tr>\n",
              "    <tr>\n",
              "      <th>2</th>\n",
              "      <td>3</td>\n",
              "      <td>Robust Golden Unsweetened Oolong Tea</td>\n",
              "      <td>94</td>\n",
              "      <td>7</td>\n",
              "    </tr>\n",
              "    <tr>\n",
              "      <th>3</th>\n",
              "      <td>4</td>\n",
              "      <td>Smart Ones Classic Favorites Mini Rigatoni Wit...</td>\n",
              "      <td>38</td>\n",
              "      <td>1</td>\n",
              "    </tr>\n",
              "    <tr>\n",
              "      <th>4</th>\n",
              "      <td>5</td>\n",
              "      <td>Green Chile Anytime Sauce</td>\n",
              "      <td>5</td>\n",
              "      <td>13</td>\n",
              "    </tr>\n",
              "  </tbody>\n",
              "</table>\n",
              "</div>"
            ],
            "text/plain": [
              "   product_id  ... department_id\n",
              "0           1  ...            19\n",
              "1           2  ...            13\n",
              "2           3  ...             7\n",
              "3           4  ...             1\n",
              "4           5  ...            13\n",
              "\n",
              "[5 rows x 4 columns]"
            ]
          },
          "metadata": {
            "tags": []
          },
          "execution_count": 6
        }
      ]
    },
    {
      "cell_type": "code",
      "metadata": {
        "colab": {
          "base_uri": "https://localhost:8080/"
        },
        "id": "1l4YO78wwn4h",
        "outputId": "68f75110-a98f-42ea-ca30-10d251244ee7"
      },
      "source": [
        "print(\"Total unique product count:\", products.product_id.nunique())"
      ],
      "execution_count": 7,
      "outputs": [
        {
          "output_type": "stream",
          "text": [
            "Total unique product count: 49688\n"
          ],
          "name": "stdout"
        }
      ]
    },
    {
      "cell_type": "markdown",
      "metadata": {
        "id": "G55EqnnIIsEq"
      },
      "source": [
        "### 1.4 Explore orders.csv"
      ]
    },
    {
      "cell_type": "code",
      "metadata": {
        "colab": {
          "base_uri": "https://localhost:8080/",
          "height": 195
        },
        "id": "6b1C0EPdIS_o",
        "outputId": "7104c581-3be8-48fa-9457-95506db83eb4"
      },
      "source": [
        "orders.head()"
      ],
      "execution_count": 8,
      "outputs": [
        {
          "output_type": "execute_result",
          "data": {
            "text/html": [
              "<div>\n",
              "<style scoped>\n",
              "    .dataframe tbody tr th:only-of-type {\n",
              "        vertical-align: middle;\n",
              "    }\n",
              "\n",
              "    .dataframe tbody tr th {\n",
              "        vertical-align: top;\n",
              "    }\n",
              "\n",
              "    .dataframe thead th {\n",
              "        text-align: right;\n",
              "    }\n",
              "</style>\n",
              "<table border=\"1\" class=\"dataframe\">\n",
              "  <thead>\n",
              "    <tr style=\"text-align: right;\">\n",
              "      <th></th>\n",
              "      <th>order_id</th>\n",
              "      <th>user_id</th>\n",
              "      <th>eval_set</th>\n",
              "      <th>order_number</th>\n",
              "      <th>order_dow</th>\n",
              "      <th>order_hour_of_day</th>\n",
              "      <th>days_since_prior_order</th>\n",
              "    </tr>\n",
              "  </thead>\n",
              "  <tbody>\n",
              "    <tr>\n",
              "      <th>0</th>\n",
              "      <td>2539329</td>\n",
              "      <td>1</td>\n",
              "      <td>prior</td>\n",
              "      <td>1</td>\n",
              "      <td>2</td>\n",
              "      <td>8</td>\n",
              "      <td>NaN</td>\n",
              "    </tr>\n",
              "    <tr>\n",
              "      <th>1</th>\n",
              "      <td>2398795</td>\n",
              "      <td>1</td>\n",
              "      <td>prior</td>\n",
              "      <td>2</td>\n",
              "      <td>3</td>\n",
              "      <td>7</td>\n",
              "      <td>15.0</td>\n",
              "    </tr>\n",
              "    <tr>\n",
              "      <th>2</th>\n",
              "      <td>473747</td>\n",
              "      <td>1</td>\n",
              "      <td>prior</td>\n",
              "      <td>3</td>\n",
              "      <td>3</td>\n",
              "      <td>12</td>\n",
              "      <td>21.0</td>\n",
              "    </tr>\n",
              "    <tr>\n",
              "      <th>3</th>\n",
              "      <td>2254736</td>\n",
              "      <td>1</td>\n",
              "      <td>prior</td>\n",
              "      <td>4</td>\n",
              "      <td>4</td>\n",
              "      <td>7</td>\n",
              "      <td>29.0</td>\n",
              "    </tr>\n",
              "    <tr>\n",
              "      <th>4</th>\n",
              "      <td>431534</td>\n",
              "      <td>1</td>\n",
              "      <td>prior</td>\n",
              "      <td>5</td>\n",
              "      <td>4</td>\n",
              "      <td>15</td>\n",
              "      <td>28.0</td>\n",
              "    </tr>\n",
              "  </tbody>\n",
              "</table>\n",
              "</div>"
            ],
            "text/plain": [
              "   order_id  user_id  ... order_hour_of_day  days_since_prior_order\n",
              "0   2539329        1  ...                 8                     NaN\n",
              "1   2398795        1  ...                 7                    15.0\n",
              "2    473747        1  ...                12                    21.0\n",
              "3   2254736        1  ...                 7                    29.0\n",
              "4    431534        1  ...                15                    28.0\n",
              "\n",
              "[5 rows x 7 columns]"
            ]
          },
          "metadata": {
            "tags": []
          },
          "execution_count": 8
        }
      ]
    },
    {
      "cell_type": "code",
      "metadata": {
        "colab": {
          "base_uri": "https://localhost:8080/"
        },
        "id": "wY-fd9rYF1BO",
        "outputId": "662bc3ee-366d-4d5b-c396-a992ce5b947a"
      },
      "source": [
        "# Explore data inside orders.csv\n",
        "print(\"Total numbers of orders:\", len(orders))\n",
        "print(\"\\nTotal numbers of unique user_id:\", orders.user_id.nunique())\n",
        "print(\"\\nNumber of orders in each eval_set:\")\n",
        "orders.eval_set.value_counts()"
      ],
      "execution_count": 9,
      "outputs": [
        {
          "output_type": "stream",
          "text": [
            "Total numbers of orders: 3421083\n",
            "\n",
            "Total numbers of unique user_id: 206209\n",
            "\n",
            "Number of orders in each eval_set:\n"
          ],
          "name": "stdout"
        },
        {
          "output_type": "execute_result",
          "data": {
            "text/plain": [
              "prior    3214874\n",
              "train     131209\n",
              "test       75000\n",
              "Name: eval_set, dtype: int64"
            ]
          },
          "metadata": {
            "tags": []
          },
          "execution_count": 9
        }
      ]
    },
    {
      "cell_type": "code",
      "metadata": {
        "colab": {
          "base_uri": "https://localhost:8080/",
          "height": 276
        },
        "id": "iNP0oOwnImXa",
        "outputId": "589bcc74-d39b-4307-af46-2aa8b9543d88"
      },
      "source": [
        "import matplotlib.pyplot as plt\n",
        "names = ['prior', 'train', 'test']\n",
        "plt.bar(names, orders.eval_set.value_counts())\n",
        "plt.ylabel('eval_set group count')\n",
        "plt.show()"
      ],
      "execution_count": 10,
      "outputs": [
        {
          "output_type": "display_data",
          "data": {
            "image/png": "[encoded data removed]",
            "text/plain": [
              "<Figure size 432x288 with 1 Axes>"
            ]
          },
          "metadata": {
            "tags": [],
            "needs_background": "light"
          }
        }
      ]
    },
    {
      "cell_type": "markdown",
      "metadata": {
        "id": "tvQt3wbnr9KK"
      },
      "source": [
        "### 1.5 Explore order_prior.csv"
      ]
    },
    {
      "cell_type": "code",
      "metadata": {
        "colab": {
          "base_uri": "https://localhost:8080/",
          "height": 195
        },
        "id": "gScf8jvtsCL1",
        "outputId": "73b20f46-e221-47bc-871d-ac800a9a2dd0"
      },
      "source": [
        "order_prior.head()"
      ],
      "execution_count": 11,
      "outputs": [
        {
          "output_type": "execute_result",
          "data": {
            "text/html": [
              "<div>\n",
              "<style scoped>\n",
              "    .dataframe tbody tr th:only-of-type {\n",
              "        vertical-align: middle;\n",
              "    }\n",
              "\n",
              "    .dataframe tbody tr th {\n",
              "        vertical-align: top;\n",
              "    }\n",
              "\n",
              "    .dataframe thead th {\n",
              "        text-align: right;\n",
              "    }\n",
              "</style>\n",
              "<table border=\"1\" class=\"dataframe\">\n",
              "  <thead>\n",
              "    <tr style=\"text-align: right;\">\n",
              "      <th></th>\n",
              "      <th>order_id</th>\n",
              "      <th>product_id</th>\n",
              "      <th>add_to_cart_order</th>\n",
              "      <th>reordered</th>\n",
              "    </tr>\n",
              "  </thead>\n",
              "  <tbody>\n",
              "    <tr>\n",
              "      <th>0</th>\n",
              "      <td>2</td>\n",
              "      <td>33120</td>\n",
              "      <td>1</td>\n",
              "      <td>1</td>\n",
              "    </tr>\n",
              "    <tr>\n",
              "      <th>1</th>\n",
              "      <td>2</td>\n",
              "      <td>28985</td>\n",
              "      <td>2</td>\n",
              "      <td>1</td>\n",
              "    </tr>\n",
              "    <tr>\n",
              "      <th>2</th>\n",
              "      <td>2</td>\n",
              "      <td>9327</td>\n",
              "      <td>3</td>\n",
              "      <td>0</td>\n",
              "    </tr>\n",
              "    <tr>\n",
              "      <th>3</th>\n",
              "      <td>2</td>\n",
              "      <td>45918</td>\n",
              "      <td>4</td>\n",
              "      <td>1</td>\n",
              "    </tr>\n",
              "    <tr>\n",
              "      <th>4</th>\n",
              "      <td>2</td>\n",
              "      <td>30035</td>\n",
              "      <td>5</td>\n",
              "      <td>0</td>\n",
              "    </tr>\n",
              "  </tbody>\n",
              "</table>\n",
              "</div>"
            ],
            "text/plain": [
              "   order_id  product_id  add_to_cart_order  reordered\n",
              "0         2       33120                  1          1\n",
              "1         2       28985                  2          1\n",
              "2         2        9327                  3          0\n",
              "3         2       45918                  4          1\n",
              "4         2       30035                  5          0"
            ]
          },
          "metadata": {
            "tags": []
          },
          "execution_count": 11
        }
      ]
    },
    {
      "cell_type": "code",
      "metadata": {
        "colab": {
          "base_uri": "https://localhost:8080/"
        },
        "id": "GUZLoXGfIUHL",
        "outputId": "51699945-adb3-4903-81d3-76ffd58f3cc7"
      },
      "source": [
        "len(order_prior)"
      ],
      "execution_count": 12,
      "outputs": [
        {
          "output_type": "execute_result",
          "data": {
            "text/plain": [
              "32434489"
            ]
          },
          "metadata": {
            "tags": []
          },
          "execution_count": 12
        }
      ]
    },
    {
      "cell_type": "markdown",
      "metadata": {
        "id": "hxyn_cPlvu1S"
      },
      "source": [
        "### 1.6 Explore order_train.csv"
      ]
    },
    {
      "cell_type": "code",
      "metadata": {
        "colab": {
          "base_uri": "https://localhost:8080/",
          "height": 195
        },
        "id": "c6PH29thv0jD",
        "outputId": "ed376baa-f741-4411-f6c8-d51b6d23d0f3"
      },
      "source": [
        "order_train.head()"
      ],
      "execution_count": 13,
      "outputs": [
        {
          "output_type": "execute_result",
          "data": {
            "text/html": [
              "<div>\n",
              "<style scoped>\n",
              "    .dataframe tbody tr th:only-of-type {\n",
              "        vertical-align: middle;\n",
              "    }\n",
              "\n",
              "    .dataframe tbody tr th {\n",
              "        vertical-align: top;\n",
              "    }\n",
              "\n",
              "    .dataframe thead th {\n",
              "        text-align: right;\n",
              "    }\n",
              "</style>\n",
              "<table border=\"1\" class=\"dataframe\">\n",
              "  <thead>\n",
              "    <tr style=\"text-align: right;\">\n",
              "      <th></th>\n",
              "      <th>order_id</th>\n",
              "      <th>product_id</th>\n",
              "      <th>add_to_cart_order</th>\n",
              "      <th>reordered</th>\n",
              "    </tr>\n",
              "  </thead>\n",
              "  <tbody>\n",
              "    <tr>\n",
              "      <th>0</th>\n",
              "      <td>1</td>\n",
              "      <td>49302</td>\n",
              "      <td>1</td>\n",
              "      <td>1</td>\n",
              "    </tr>\n",
              "    <tr>\n",
              "      <th>1</th>\n",
              "      <td>1</td>\n",
              "      <td>11109</td>\n",
              "      <td>2</td>\n",
              "      <td>1</td>\n",
              "    </tr>\n",
              "    <tr>\n",
              "      <th>2</th>\n",
              "      <td>1</td>\n",
              "      <td>10246</td>\n",
              "      <td>3</td>\n",
              "      <td>0</td>\n",
              "    </tr>\n",
              "    <tr>\n",
              "      <th>3</th>\n",
              "      <td>1</td>\n",
              "      <td>49683</td>\n",
              "      <td>4</td>\n",
              "      <td>0</td>\n",
              "    </tr>\n",
              "    <tr>\n",
              "      <th>4</th>\n",
              "      <td>1</td>\n",
              "      <td>43633</td>\n",
              "      <td>5</td>\n",
              "      <td>1</td>\n",
              "    </tr>\n",
              "  </tbody>\n",
              "</table>\n",
              "</div>"
            ],
            "text/plain": [
              "   order_id  product_id  add_to_cart_order  reordered\n",
              "0         1       49302                  1          1\n",
              "1         1       11109                  2          1\n",
              "2         1       10246                  3          0\n",
              "3         1       49683                  4          0\n",
              "4         1       43633                  5          1"
            ]
          },
          "metadata": {
            "tags": []
          },
          "execution_count": 13
        }
      ]
    },
    {
      "cell_type": "code",
      "metadata": {
        "colab": {
          "base_uri": "https://localhost:8080/"
        },
        "id": "s6FbgwgQHVbR",
        "outputId": "84595cbc-e224-4fcd-e174-c305ceba3713"
      },
      "source": [
        "len(order_train)"
      ],
      "execution_count": 14,
      "outputs": [
        {
          "output_type": "execute_result",
          "data": {
            "text/plain": [
              "1384617"
            ]
          },
          "metadata": {
            "tags": []
          },
          "execution_count": 14
        }
      ]
    },
    {
      "cell_type": "markdown",
      "metadata": {
        "id": "RzetZkOQrLU6"
      },
      "source": [
        "# 2. Problem Statements"
      ]
    },
    {
      "cell_type": "markdown",
      "metadata": {
        "id": "lCJL3YcqrRaG"
      },
      "source": [
        "- I want to predict which product(s) a customer will purchase in this customer's the next order.\n",
        "\n",
        "- In *order_prior.csv*, **reordered** column indicates that if a customer purchase a product again. Therefore, my main focus is to predict values inside **reordered** column\n",
        "\n",
        "- I need to merge these tables\n",
        "\n",
        "    1. **Products**: (aisles)--(department)\n",
        "    2. **orders_products**: (order_prior)--(orders)"
      ]
    },
    {
      "cell_type": "code",
      "metadata": {
        "id": "zNVqBKADrwOk"
      },
      "source": [
        ""
      ],
      "execution_count": null,
      "outputs": []
    },
    {
      "cell_type": "markdown",
      "metadata": {
        "id": "tQ66PYfizJv2"
      },
      "source": [
        "# 3. Data Pre-processsing"
      ]
    },
    {
      "cell_type": "markdown",
      "metadata": {
        "id": "-zhgOJQzzhKP"
      },
      "source": [
        "### 3.1 products"
      ]
    },
    {
      "cell_type": "code",
      "metadata": {
        "colab": {
          "base_uri": "https://localhost:8080/",
          "height": 402
        },
        "id": "4c7QNgdSzRqz",
        "outputId": "7723d71d-eae2-483a-f340-a719d808bcce"
      },
      "source": [
        "# Add information to products\n",
        "products = pd.merge(products, aisels, on='aisle_id', how='left')\n",
        "products = pd.merge(products, dept, on='department_id', how='left')\n",
        "products"
      ],
      "execution_count": 15,
      "outputs": [
        {
          "output_type": "execute_result",
          "data": {
            "text/html": [
              "<div>\n",
              "<style scoped>\n",
              "    .dataframe tbody tr th:only-of-type {\n",
              "        vertical-align: middle;\n",
              "    }\n",
              "\n",
              "    .dataframe tbody tr th {\n",
              "        vertical-align: top;\n",
              "    }\n",
              "\n",
              "    .dataframe thead th {\n",
              "        text-align: right;\n",
              "    }\n",
              "</style>\n",
              "<table border=\"1\" class=\"dataframe\">\n",
              "  <thead>\n",
              "    <tr style=\"text-align: right;\">\n",
              "      <th></th>\n",
              "      <th>product_id</th>\n",
              "      <th>product_name</th>\n",
              "      <th>aisle_id</th>\n",
              "      <th>department_id</th>\n",
              "      <th>aisle</th>\n",
              "      <th>department</th>\n",
              "    </tr>\n",
              "  </thead>\n",
              "  <tbody>\n",
              "    <tr>\n",
              "      <th>0</th>\n",
              "      <td>1</td>\n",
              "      <td>Chocolate Sandwich Cookies</td>\n",
              "      <td>61</td>\n",
              "      <td>19</td>\n",
              "      <td>cookies cakes</td>\n",
              "      <td>snacks</td>\n",
              "    </tr>\n",
              "    <tr>\n",
              "      <th>1</th>\n",
              "      <td>2</td>\n",
              "      <td>All-Seasons Salt</td>\n",
              "      <td>104</td>\n",
              "      <td>13</td>\n",
              "      <td>spices seasonings</td>\n",
              "      <td>pantry</td>\n",
              "    </tr>\n",
              "    <tr>\n",
              "      <th>2</th>\n",
              "      <td>3</td>\n",
              "      <td>Robust Golden Unsweetened Oolong Tea</td>\n",
              "      <td>94</td>\n",
              "      <td>7</td>\n",
              "      <td>tea</td>\n",
              "      <td>beverages</td>\n",
              "    </tr>\n",
              "    <tr>\n",
              "      <th>3</th>\n",
              "      <td>4</td>\n",
              "      <td>Smart Ones Classic Favorites Mini Rigatoni Wit...</td>\n",
              "      <td>38</td>\n",
              "      <td>1</td>\n",
              "      <td>frozen meals</td>\n",
              "      <td>frozen</td>\n",
              "    </tr>\n",
              "    <tr>\n",
              "      <th>4</th>\n",
              "      <td>5</td>\n",
              "      <td>Green Chile Anytime Sauce</td>\n",
              "      <td>5</td>\n",
              "      <td>13</td>\n",
              "      <td>marinades meat preparation</td>\n",
              "      <td>pantry</td>\n",
              "    </tr>\n",
              "    <tr>\n",
              "      <th>...</th>\n",
              "      <td>...</td>\n",
              "      <td>...</td>\n",
              "      <td>...</td>\n",
              "      <td>...</td>\n",
              "      <td>...</td>\n",
              "      <td>...</td>\n",
              "    </tr>\n",
              "    <tr>\n",
              "      <th>49683</th>\n",
              "      <td>49684</td>\n",
              "      <td>Vodka, Triple Distilled, Twist of Vanilla</td>\n",
              "      <td>124</td>\n",
              "      <td>5</td>\n",
              "      <td>spirits</td>\n",
              "      <td>alcohol</td>\n",
              "    </tr>\n",
              "    <tr>\n",
              "      <th>49684</th>\n",
              "      <td>49685</td>\n",
              "      <td>En Croute Roast Hazelnut Cranberry</td>\n",
              "      <td>42</td>\n",
              "      <td>1</td>\n",
              "      <td>frozen vegan vegetarian</td>\n",
              "      <td>frozen</td>\n",
              "    </tr>\n",
              "    <tr>\n",
              "      <th>49685</th>\n",
              "      <td>49686</td>\n",
              "      <td>Artisan Baguette</td>\n",
              "      <td>112</td>\n",
              "      <td>3</td>\n",
              "      <td>bread</td>\n",
              "      <td>bakery</td>\n",
              "    </tr>\n",
              "    <tr>\n",
              "      <th>49686</th>\n",
              "      <td>49687</td>\n",
              "      <td>Smartblend Healthy Metabolism Dry Cat Food</td>\n",
              "      <td>41</td>\n",
              "      <td>8</td>\n",
              "      <td>cat food care</td>\n",
              "      <td>pets</td>\n",
              "    </tr>\n",
              "    <tr>\n",
              "      <th>49687</th>\n",
              "      <td>49688</td>\n",
              "      <td>Fresh Foaming Cleanser</td>\n",
              "      <td>73</td>\n",
              "      <td>11</td>\n",
              "      <td>facial care</td>\n",
              "      <td>personal care</td>\n",
              "    </tr>\n",
              "  </tbody>\n",
              "</table>\n",
              "<p>49688 rows × 6 columns</p>\n",
              "</div>"
            ],
            "text/plain": [
              "       product_id  ...     department\n",
              "0               1  ...         snacks\n",
              "1               2  ...         pantry\n",
              "2               3  ...      beverages\n",
              "3               4  ...         frozen\n",
              "4               5  ...         pantry\n",
              "...           ...  ...            ...\n",
              "49683       49684  ...        alcohol\n",
              "49684       49685  ...         frozen\n",
              "49685       49686  ...         bakery\n",
              "49686       49687  ...           pets\n",
              "49687       49688  ...  personal care\n",
              "\n",
              "[49688 rows x 6 columns]"
            ]
          },
          "metadata": {
            "tags": []
          },
          "execution_count": 15
        }
      ]
    },
    {
      "cell_type": "markdown",
      "metadata": {
        "id": "GDbP4gdP0R--"
      },
      "source": [
        "### 3.2"
      ]
    },
    {
      "cell_type": "code",
      "metadata": {
        "colab": {
          "base_uri": "https://localhost:8080/",
          "height": 402
        },
        "id": "CMYdWIeizf1K",
        "outputId": "ea0ddbe2-441d-4294-a48d-b0504d97e74f"
      },
      "source": [
        "# Add user_id to each order in order_train\n",
        "order_train = pd.merge(order_train, orders[['order_id', 'user_id']], on='order_id', how='left')\n",
        "order_train"
      ],
      "execution_count": 16,
      "outputs": [
        {
          "output_type": "execute_result",
          "data": {
            "text/html": [
              "<div>\n",
              "<style scoped>\n",
              "    .dataframe tbody tr th:only-of-type {\n",
              "        vertical-align: middle;\n",
              "    }\n",
              "\n",
              "    .dataframe tbody tr th {\n",
              "        vertical-align: top;\n",
              "    }\n",
              "\n",
              "    .dataframe thead th {\n",
              "        text-align: right;\n",
              "    }\n",
              "</style>\n",
              "<table border=\"1\" class=\"dataframe\">\n",
              "  <thead>\n",
              "    <tr style=\"text-align: right;\">\n",
              "      <th></th>\n",
              "      <th>order_id</th>\n",
              "      <th>product_id</th>\n",
              "      <th>add_to_cart_order</th>\n",
              "      <th>reordered</th>\n",
              "      <th>user_id</th>\n",
              "    </tr>\n",
              "  </thead>\n",
              "  <tbody>\n",
              "    <tr>\n",
              "      <th>0</th>\n",
              "      <td>1</td>\n",
              "      <td>49302</td>\n",
              "      <td>1</td>\n",
              "      <td>1</td>\n",
              "      <td>112108</td>\n",
              "    </tr>\n",
              "    <tr>\n",
              "      <th>1</th>\n",
              "      <td>1</td>\n",
              "      <td>11109</td>\n",
              "      <td>2</td>\n",
              "      <td>1</td>\n",
              "      <td>112108</td>\n",
              "    </tr>\n",
              "    <tr>\n",
              "      <th>2</th>\n",
              "      <td>1</td>\n",
              "      <td>10246</td>\n",
              "      <td>3</td>\n",
              "      <td>0</td>\n",
              "      <td>112108</td>\n",
              "    </tr>\n",
              "    <tr>\n",
              "      <th>3</th>\n",
              "      <td>1</td>\n",
              "      <td>49683</td>\n",
              "      <td>4</td>\n",
              "      <td>0</td>\n",
              "      <td>112108</td>\n",
              "    </tr>\n",
              "    <tr>\n",
              "      <th>4</th>\n",
              "      <td>1</td>\n",
              "      <td>43633</td>\n",
              "      <td>5</td>\n",
              "      <td>1</td>\n",
              "      <td>112108</td>\n",
              "    </tr>\n",
              "    <tr>\n",
              "      <th>...</th>\n",
              "      <td>...</td>\n",
              "      <td>...</td>\n",
              "      <td>...</td>\n",
              "      <td>...</td>\n",
              "      <td>...</td>\n",
              "    </tr>\n",
              "    <tr>\n",
              "      <th>1384612</th>\n",
              "      <td>3421063</td>\n",
              "      <td>14233</td>\n",
              "      <td>3</td>\n",
              "      <td>1</td>\n",
              "      <td>169679</td>\n",
              "    </tr>\n",
              "    <tr>\n",
              "      <th>1384613</th>\n",
              "      <td>3421063</td>\n",
              "      <td>35548</td>\n",
              "      <td>4</td>\n",
              "      <td>1</td>\n",
              "      <td>169679</td>\n",
              "    </tr>\n",
              "    <tr>\n",
              "      <th>1384614</th>\n",
              "      <td>3421070</td>\n",
              "      <td>35951</td>\n",
              "      <td>1</td>\n",
              "      <td>1</td>\n",
              "      <td>139822</td>\n",
              "    </tr>\n",
              "    <tr>\n",
              "      <th>1384615</th>\n",
              "      <td>3421070</td>\n",
              "      <td>16953</td>\n",
              "      <td>2</td>\n",
              "      <td>1</td>\n",
              "      <td>139822</td>\n",
              "    </tr>\n",
              "    <tr>\n",
              "      <th>1384616</th>\n",
              "      <td>3421070</td>\n",
              "      <td>4724</td>\n",
              "      <td>3</td>\n",
              "      <td>1</td>\n",
              "      <td>139822</td>\n",
              "    </tr>\n",
              "  </tbody>\n",
              "</table>\n",
              "<p>1384617 rows × 5 columns</p>\n",
              "</div>"
            ],
            "text/plain": [
              "         order_id  product_id  add_to_cart_order  reordered  user_id\n",
              "0               1       49302                  1          1   112108\n",
              "1               1       11109                  2          1   112108\n",
              "2               1       10246                  3          0   112108\n",
              "3               1       49683                  4          0   112108\n",
              "4               1       43633                  5          1   112108\n",
              "...           ...         ...                ...        ...      ...\n",
              "1384612   3421063       14233                  3          1   169679\n",
              "1384613   3421063       35548                  4          1   169679\n",
              "1384614   3421070       35951                  1          1   139822\n",
              "1384615   3421070       16953                  2          1   139822\n",
              "1384616   3421070        4724                  3          1   139822\n",
              "\n",
              "[1384617 rows x 5 columns]"
            ]
          },
          "metadata": {
            "tags": []
          },
          "execution_count": 16
        }
      ]
    },
    {
      "cell_type": "markdown",
      "metadata": {
        "id": "EAHxrLNK0kge"
      },
      "source": [
        "### 3.3"
      ]
    },
    {
      "cell_type": "code",
      "metadata": {
        "colab": {
          "base_uri": "https://localhost:8080/",
          "height": 422
        },
        "id": "pn0LDXHC0F7t",
        "outputId": "3ba2b96e-b7c2-4251-ab46-4da53186162b"
      },
      "source": [
        "# Add \"product_id\", \"add_to_cart_order\", \"reordered\" columns from order_prior to each order\n",
        "orders_products = pd.merge(orders, order_prior, on='order_id', how='inner')\n",
        "orders_products"
      ],
      "execution_count": 17,
      "outputs": [
        {
          "output_type": "execute_result",
          "data": {
            "text/html": [
              "<div>\n",
              "<style scoped>\n",
              "    .dataframe tbody tr th:only-of-type {\n",
              "        vertical-align: middle;\n",
              "    }\n",
              "\n",
              "    .dataframe tbody tr th {\n",
              "        vertical-align: top;\n",
              "    }\n",
              "\n",
              "    .dataframe thead th {\n",
              "        text-align: right;\n",
              "    }\n",
              "</style>\n",
              "<table border=\"1\" class=\"dataframe\">\n",
              "  <thead>\n",
              "    <tr style=\"text-align: right;\">\n",
              "      <th></th>\n",
              "      <th>order_id</th>\n",
              "      <th>user_id</th>\n",
              "      <th>eval_set</th>\n",
              "      <th>order_number</th>\n",
              "      <th>order_dow</th>\n",
              "      <th>order_hour_of_day</th>\n",
              "      <th>days_since_prior_order</th>\n",
              "      <th>product_id</th>\n",
              "      <th>add_to_cart_order</th>\n",
              "      <th>reordered</th>\n",
              "    </tr>\n",
              "  </thead>\n",
              "  <tbody>\n",
              "    <tr>\n",
              "      <th>0</th>\n",
              "      <td>2539329</td>\n",
              "      <td>1</td>\n",
              "      <td>prior</td>\n",
              "      <td>1</td>\n",
              "      <td>2</td>\n",
              "      <td>8</td>\n",
              "      <td>NaN</td>\n",
              "      <td>196</td>\n",
              "      <td>1</td>\n",
              "      <td>0</td>\n",
              "    </tr>\n",
              "    <tr>\n",
              "      <th>1</th>\n",
              "      <td>2539329</td>\n",
              "      <td>1</td>\n",
              "      <td>prior</td>\n",
              "      <td>1</td>\n",
              "      <td>2</td>\n",
              "      <td>8</td>\n",
              "      <td>NaN</td>\n",
              "      <td>14084</td>\n",
              "      <td>2</td>\n",
              "      <td>0</td>\n",
              "    </tr>\n",
              "    <tr>\n",
              "      <th>2</th>\n",
              "      <td>2539329</td>\n",
              "      <td>1</td>\n",
              "      <td>prior</td>\n",
              "      <td>1</td>\n",
              "      <td>2</td>\n",
              "      <td>8</td>\n",
              "      <td>NaN</td>\n",
              "      <td>12427</td>\n",
              "      <td>3</td>\n",
              "      <td>0</td>\n",
              "    </tr>\n",
              "    <tr>\n",
              "      <th>3</th>\n",
              "      <td>2539329</td>\n",
              "      <td>1</td>\n",
              "      <td>prior</td>\n",
              "      <td>1</td>\n",
              "      <td>2</td>\n",
              "      <td>8</td>\n",
              "      <td>NaN</td>\n",
              "      <td>26088</td>\n",
              "      <td>4</td>\n",
              "      <td>0</td>\n",
              "    </tr>\n",
              "    <tr>\n",
              "      <th>4</th>\n",
              "      <td>2539329</td>\n",
              "      <td>1</td>\n",
              "      <td>prior</td>\n",
              "      <td>1</td>\n",
              "      <td>2</td>\n",
              "      <td>8</td>\n",
              "      <td>NaN</td>\n",
              "      <td>26405</td>\n",
              "      <td>5</td>\n",
              "      <td>0</td>\n",
              "    </tr>\n",
              "    <tr>\n",
              "      <th>...</th>\n",
              "      <td>...</td>\n",
              "      <td>...</td>\n",
              "      <td>...</td>\n",
              "      <td>...</td>\n",
              "      <td>...</td>\n",
              "      <td>...</td>\n",
              "      <td>...</td>\n",
              "      <td>...</td>\n",
              "      <td>...</td>\n",
              "      <td>...</td>\n",
              "    </tr>\n",
              "    <tr>\n",
              "      <th>32434484</th>\n",
              "      <td>2977660</td>\n",
              "      <td>206209</td>\n",
              "      <td>prior</td>\n",
              "      <td>13</td>\n",
              "      <td>1</td>\n",
              "      <td>12</td>\n",
              "      <td>7.0</td>\n",
              "      <td>14197</td>\n",
              "      <td>5</td>\n",
              "      <td>1</td>\n",
              "    </tr>\n",
              "    <tr>\n",
              "      <th>32434485</th>\n",
              "      <td>2977660</td>\n",
              "      <td>206209</td>\n",
              "      <td>prior</td>\n",
              "      <td>13</td>\n",
              "      <td>1</td>\n",
              "      <td>12</td>\n",
              "      <td>7.0</td>\n",
              "      <td>38730</td>\n",
              "      <td>6</td>\n",
              "      <td>0</td>\n",
              "    </tr>\n",
              "    <tr>\n",
              "      <th>32434486</th>\n",
              "      <td>2977660</td>\n",
              "      <td>206209</td>\n",
              "      <td>prior</td>\n",
              "      <td>13</td>\n",
              "      <td>1</td>\n",
              "      <td>12</td>\n",
              "      <td>7.0</td>\n",
              "      <td>31477</td>\n",
              "      <td>7</td>\n",
              "      <td>0</td>\n",
              "    </tr>\n",
              "    <tr>\n",
              "      <th>32434487</th>\n",
              "      <td>2977660</td>\n",
              "      <td>206209</td>\n",
              "      <td>prior</td>\n",
              "      <td>13</td>\n",
              "      <td>1</td>\n",
              "      <td>12</td>\n",
              "      <td>7.0</td>\n",
              "      <td>6567</td>\n",
              "      <td>8</td>\n",
              "      <td>0</td>\n",
              "    </tr>\n",
              "    <tr>\n",
              "      <th>32434488</th>\n",
              "      <td>2977660</td>\n",
              "      <td>206209</td>\n",
              "      <td>prior</td>\n",
              "      <td>13</td>\n",
              "      <td>1</td>\n",
              "      <td>12</td>\n",
              "      <td>7.0</td>\n",
              "      <td>22920</td>\n",
              "      <td>9</td>\n",
              "      <td>0</td>\n",
              "    </tr>\n",
              "  </tbody>\n",
              "</table>\n",
              "<p>32434489 rows × 10 columns</p>\n",
              "</div>"
            ],
            "text/plain": [
              "          order_id  user_id eval_set  ...  product_id  add_to_cart_order  reordered\n",
              "0          2539329        1    prior  ...         196                  1          0\n",
              "1          2539329        1    prior  ...       14084                  2          0\n",
              "2          2539329        1    prior  ...       12427                  3          0\n",
              "3          2539329        1    prior  ...       26088                  4          0\n",
              "4          2539329        1    prior  ...       26405                  5          0\n",
              "...            ...      ...      ...  ...         ...                ...        ...\n",
              "32434484   2977660   206209    prior  ...       14197                  5          1\n",
              "32434485   2977660   206209    prior  ...       38730                  6          0\n",
              "32434486   2977660   206209    prior  ...       31477                  7          0\n",
              "32434487   2977660   206209    prior  ...        6567                  8          0\n",
              "32434488   2977660   206209    prior  ...       22920                  9          0\n",
              "\n",
              "[32434489 rows x 10 columns]"
            ]
          },
          "metadata": {
            "tags": []
          },
          "execution_count": 17
        }
      ]
    },
    {
      "cell_type": "markdown",
      "metadata": {
        "id": "MWfSKYhjPY92"
      },
      "source": [
        "### 3.4"
      ]
    },
    {
      "cell_type": "markdown",
      "metadata": {
        "id": "uqLfpm9u1fk0"
      },
      "source": [
        "### 3.5 Users"
      ]
    },
    {
      "cell_type": "code",
      "metadata": {
        "colab": {
          "base_uri": "https://localhost:8080/",
          "height": 225
        },
        "id": "Glua-glf3Y-Q",
        "outputId": "7c0784bb-00c9-417e-ee76-3d1a16d2194a"
      },
      "source": [
        "# Users\n",
        "prior = orders[orders['eval_set'] == 'prior']\n",
        "gb_id = prior.groupby('user_id')\n",
        "# Total numbers of order from each user\n",
        "users = pd.DataFrame(gb_id.size(), columns=['placed_orders_sum'])\n",
        "users.head()"
      ],
      "execution_count": 18,
      "outputs": [
        {
          "output_type": "execute_result",
          "data": {
            "text/html": [
              "<div>\n",
              "<style scoped>\n",
              "    .dataframe tbody tr th:only-of-type {\n",
              "        vertical-align: middle;\n",
              "    }\n",
              "\n",
              "    .dataframe tbody tr th {\n",
              "        vertical-align: top;\n",
              "    }\n",
              "\n",
              "    .dataframe thead th {\n",
              "        text-align: right;\n",
              "    }\n",
              "</style>\n",
              "<table border=\"1\" class=\"dataframe\">\n",
              "  <thead>\n",
              "    <tr style=\"text-align: right;\">\n",
              "      <th></th>\n",
              "      <th>placed_orders_sum</th>\n",
              "    </tr>\n",
              "    <tr>\n",
              "      <th>user_id</th>\n",
              "      <th></th>\n",
              "    </tr>\n",
              "  </thead>\n",
              "  <tbody>\n",
              "    <tr>\n",
              "      <th>1</th>\n",
              "      <td>10</td>\n",
              "    </tr>\n",
              "    <tr>\n",
              "      <th>2</th>\n",
              "      <td>14</td>\n",
              "    </tr>\n",
              "    <tr>\n",
              "      <th>3</th>\n",
              "      <td>12</td>\n",
              "    </tr>\n",
              "    <tr>\n",
              "      <th>4</th>\n",
              "      <td>5</td>\n",
              "    </tr>\n",
              "    <tr>\n",
              "      <th>5</th>\n",
              "      <td>4</td>\n",
              "    </tr>\n",
              "  </tbody>\n",
              "</table>\n",
              "</div>"
            ],
            "text/plain": [
              "         placed_orders_sum\n",
              "user_id                   \n",
              "1                       10\n",
              "2                       14\n",
              "3                       12\n",
              "4                        5\n",
              "5                        4"
            ]
          },
          "metadata": {
            "tags": []
          },
          "execution_count": 18
        }
      ]
    },
    {
      "cell_type": "code",
      "metadata": {
        "id": "EEsuWvOr3oc2"
      },
      "source": [
        "# Average days since last purchase for each user\n",
        "users['mean_days_since_prior_order'] = gb_id['days_since_prior_order'].agg('mean')\n",
        "users.reset_index(inplace=True)"
      ],
      "execution_count": 19,
      "outputs": []
    },
    {
      "cell_type": "code",
      "metadata": {
        "colab": {
          "base_uri": "https://localhost:8080/",
          "height": 195
        },
        "id": "E8wTKBIlM7U1",
        "outputId": "b3702adf-ec06-4d9b-ca62-60177ccc450c"
      },
      "source": [
        "users.head()"
      ],
      "execution_count": 20,
      "outputs": [
        {
          "output_type": "execute_result",
          "data": {
            "text/html": [
              "<div>\n",
              "<style scoped>\n",
              "    .dataframe tbody tr th:only-of-type {\n",
              "        vertical-align: middle;\n",
              "    }\n",
              "\n",
              "    .dataframe tbody tr th {\n",
              "        vertical-align: top;\n",
              "    }\n",
              "\n",
              "    .dataframe thead th {\n",
              "        text-align: right;\n",
              "    }\n",
              "</style>\n",
              "<table border=\"1\" class=\"dataframe\">\n",
              "  <thead>\n",
              "    <tr style=\"text-align: right;\">\n",
              "      <th></th>\n",
              "      <th>user_id</th>\n",
              "      <th>placed_orders_sum</th>\n",
              "      <th>mean_days_since_prior_order</th>\n",
              "    </tr>\n",
              "  </thead>\n",
              "  <tbody>\n",
              "    <tr>\n",
              "      <th>0</th>\n",
              "      <td>1</td>\n",
              "      <td>10</td>\n",
              "      <td>19.555556</td>\n",
              "    </tr>\n",
              "    <tr>\n",
              "      <th>1</th>\n",
              "      <td>2</td>\n",
              "      <td>14</td>\n",
              "      <td>15.230769</td>\n",
              "    </tr>\n",
              "    <tr>\n",
              "      <th>2</th>\n",
              "      <td>3</td>\n",
              "      <td>12</td>\n",
              "      <td>12.090909</td>\n",
              "    </tr>\n",
              "    <tr>\n",
              "      <th>3</th>\n",
              "      <td>4</td>\n",
              "      <td>5</td>\n",
              "      <td>13.750000</td>\n",
              "    </tr>\n",
              "    <tr>\n",
              "      <th>4</th>\n",
              "      <td>5</td>\n",
              "      <td>4</td>\n",
              "      <td>13.333333</td>\n",
              "    </tr>\n",
              "  </tbody>\n",
              "</table>\n",
              "</div>"
            ],
            "text/plain": [
              "   user_id  placed_orders_sum  mean_days_since_prior_order\n",
              "0        1                 10                    19.555556\n",
              "1        2                 14                    15.230769\n",
              "2        3                 12                    12.090909\n",
              "3        4                  5                    13.750000\n",
              "4        5                  4                    13.333333"
            ]
          },
          "metadata": {
            "tags": []
          },
          "execution_count": 20
        }
      ]
    },
    {
      "cell_type": "code",
      "metadata": {
        "id": "gsuhAmoVPvxH"
      },
      "source": [
        "gb_id = orders_products.groupby('user_id')\n",
        "# Count of total number of times user made a purchase\n",
        "df = pd.DataFrame(gb_id.size(), columns=['prod_purchased_tot_count'])\n",
        "\n",
        "sum_tot_order_number = gb_id['order_number'].agg(lambda x: sum(x>1))\n",
        "sum_reorder = gb_id['reordered'].agg('sum')\n",
        "df['reorder_ratio'] = sum_reorder/sum_tot_order_number"
      ],
      "execution_count": 21,
      "outputs": []
    },
    {
      "cell_type": "code",
      "metadata": {
        "colab": {
          "base_uri": "https://localhost:8080/",
          "height": 431
        },
        "id": "Qq1v6n-vRsJG",
        "outputId": "b3cf22ce-d681-4fb2-d379-3496f2d58ca8"
      },
      "source": [
        "df"
      ],
      "execution_count": 22,
      "outputs": [
        {
          "output_type": "execute_result",
          "data": {
            "text/html": [
              "<div>\n",
              "<style scoped>\n",
              "    .dataframe tbody tr th:only-of-type {\n",
              "        vertical-align: middle;\n",
              "    }\n",
              "\n",
              "    .dataframe tbody tr th {\n",
              "        vertical-align: top;\n",
              "    }\n",
              "\n",
              "    .dataframe thead th {\n",
              "        text-align: right;\n",
              "    }\n",
              "</style>\n",
              "<table border=\"1\" class=\"dataframe\">\n",
              "  <thead>\n",
              "    <tr style=\"text-align: right;\">\n",
              "      <th></th>\n",
              "      <th>prod_purchased_tot_count</th>\n",
              "      <th>reorder_ratio</th>\n",
              "    </tr>\n",
              "    <tr>\n",
              "      <th>user_id</th>\n",
              "      <th></th>\n",
              "      <th></th>\n",
              "    </tr>\n",
              "  </thead>\n",
              "  <tbody>\n",
              "    <tr>\n",
              "      <th>1</th>\n",
              "      <td>59</td>\n",
              "      <td>0.759259</td>\n",
              "    </tr>\n",
              "    <tr>\n",
              "      <th>2</th>\n",
              "      <td>195</td>\n",
              "      <td>0.510989</td>\n",
              "    </tr>\n",
              "    <tr>\n",
              "      <th>3</th>\n",
              "      <td>88</td>\n",
              "      <td>0.705128</td>\n",
              "    </tr>\n",
              "    <tr>\n",
              "      <th>4</th>\n",
              "      <td>18</td>\n",
              "      <td>0.071429</td>\n",
              "    </tr>\n",
              "    <tr>\n",
              "      <th>5</th>\n",
              "      <td>37</td>\n",
              "      <td>0.538462</td>\n",
              "    </tr>\n",
              "    <tr>\n",
              "      <th>...</th>\n",
              "      <td>...</td>\n",
              "      <td>...</td>\n",
              "    </tr>\n",
              "    <tr>\n",
              "      <th>206205</th>\n",
              "      <td>32</td>\n",
              "      <td>0.533333</td>\n",
              "    </tr>\n",
              "    <tr>\n",
              "      <th>206206</th>\n",
              "      <td>285</td>\n",
              "      <td>0.480427</td>\n",
              "    </tr>\n",
              "    <tr>\n",
              "      <th>206207</th>\n",
              "      <td>223</td>\n",
              "      <td>0.658291</td>\n",
              "    </tr>\n",
              "    <tr>\n",
              "      <th>206208</th>\n",
              "      <td>677</td>\n",
              "      <td>0.720301</td>\n",
              "    </tr>\n",
              "    <tr>\n",
              "      <th>206209</th>\n",
              "      <td>129</td>\n",
              "      <td>0.525862</td>\n",
              "    </tr>\n",
              "  </tbody>\n",
              "</table>\n",
              "<p>206209 rows × 2 columns</p>\n",
              "</div>"
            ],
            "text/plain": [
              "         prod_purchased_tot_count  reorder_ratio\n",
              "user_id                                         \n",
              "1                              59       0.759259\n",
              "2                             195       0.510989\n",
              "3                              88       0.705128\n",
              "4                              18       0.071429\n",
              "5                              37       0.538462\n",
              "...                           ...            ...\n",
              "206205                         32       0.533333\n",
              "206206                        285       0.480427\n",
              "206207                        223       0.658291\n",
              "206208                        677       0.720301\n",
              "206209                        129       0.525862\n",
              "\n",
              "[206209 rows x 2 columns]"
            ]
          },
          "metadata": {
            "tags": []
          },
          "execution_count": 22
        }
      ]
    },
    {
      "cell_type": "code",
      "metadata": {
        "id": "K0ikAs1VTzpq"
      },
      "source": [
        "users = pd.merge(users, df, on='user_id', how='inner')"
      ],
      "execution_count": 23,
      "outputs": []
    },
    {
      "cell_type": "code",
      "metadata": {
        "colab": {
          "base_uri": "https://localhost:8080/",
          "height": 402
        },
        "id": "d-Xz1rKpT4uz",
        "outputId": "c8d530d8-fa5d-439e-82f7-ca0224d8f242"
      },
      "source": [
        "users"
      ],
      "execution_count": 24,
      "outputs": [
        {
          "output_type": "execute_result",
          "data": {
            "text/html": [
              "<div>\n",
              "<style scoped>\n",
              "    .dataframe tbody tr th:only-of-type {\n",
              "        vertical-align: middle;\n",
              "    }\n",
              "\n",
              "    .dataframe tbody tr th {\n",
              "        vertical-align: top;\n",
              "    }\n",
              "\n",
              "    .dataframe thead th {\n",
              "        text-align: right;\n",
              "    }\n",
              "</style>\n",
              "<table border=\"1\" class=\"dataframe\">\n",
              "  <thead>\n",
              "    <tr style=\"text-align: right;\">\n",
              "      <th></th>\n",
              "      <th>user_id</th>\n",
              "      <th>placed_orders_sum</th>\n",
              "      <th>mean_days_since_prior_order</th>\n",
              "      <th>prod_purchased_tot_count</th>\n",
              "      <th>reorder_ratio</th>\n",
              "    </tr>\n",
              "  </thead>\n",
              "  <tbody>\n",
              "    <tr>\n",
              "      <th>0</th>\n",
              "      <td>1</td>\n",
              "      <td>10</td>\n",
              "      <td>19.555556</td>\n",
              "      <td>59</td>\n",
              "      <td>0.759259</td>\n",
              "    </tr>\n",
              "    <tr>\n",
              "      <th>1</th>\n",
              "      <td>2</td>\n",
              "      <td>14</td>\n",
              "      <td>15.230769</td>\n",
              "      <td>195</td>\n",
              "      <td>0.510989</td>\n",
              "    </tr>\n",
              "    <tr>\n",
              "      <th>2</th>\n",
              "      <td>3</td>\n",
              "      <td>12</td>\n",
              "      <td>12.090909</td>\n",
              "      <td>88</td>\n",
              "      <td>0.705128</td>\n",
              "    </tr>\n",
              "    <tr>\n",
              "      <th>3</th>\n",
              "      <td>4</td>\n",
              "      <td>5</td>\n",
              "      <td>13.750000</td>\n",
              "      <td>18</td>\n",
              "      <td>0.071429</td>\n",
              "    </tr>\n",
              "    <tr>\n",
              "      <th>4</th>\n",
              "      <td>5</td>\n",
              "      <td>4</td>\n",
              "      <td>13.333333</td>\n",
              "      <td>37</td>\n",
              "      <td>0.538462</td>\n",
              "    </tr>\n",
              "    <tr>\n",
              "      <th>...</th>\n",
              "      <td>...</td>\n",
              "      <td>...</td>\n",
              "      <td>...</td>\n",
              "      <td>...</td>\n",
              "      <td>...</td>\n",
              "    </tr>\n",
              "    <tr>\n",
              "      <th>206204</th>\n",
              "      <td>206205</td>\n",
              "      <td>3</td>\n",
              "      <td>20.000000</td>\n",
              "      <td>32</td>\n",
              "      <td>0.533333</td>\n",
              "    </tr>\n",
              "    <tr>\n",
              "      <th>206205</th>\n",
              "      <td>206206</td>\n",
              "      <td>67</td>\n",
              "      <td>3.772727</td>\n",
              "      <td>285</td>\n",
              "      <td>0.480427</td>\n",
              "    </tr>\n",
              "    <tr>\n",
              "      <th>206206</th>\n",
              "      <td>206207</td>\n",
              "      <td>16</td>\n",
              "      <td>14.333333</td>\n",
              "      <td>223</td>\n",
              "      <td>0.658291</td>\n",
              "    </tr>\n",
              "    <tr>\n",
              "      <th>206207</th>\n",
              "      <td>206208</td>\n",
              "      <td>49</td>\n",
              "      <td>7.437500</td>\n",
              "      <td>677</td>\n",
              "      <td>0.720301</td>\n",
              "    </tr>\n",
              "    <tr>\n",
              "      <th>206208</th>\n",
              "      <td>206209</td>\n",
              "      <td>13</td>\n",
              "      <td>17.500000</td>\n",
              "      <td>129</td>\n",
              "      <td>0.525862</td>\n",
              "    </tr>\n",
              "  </tbody>\n",
              "</table>\n",
              "<p>206209 rows × 5 columns</p>\n",
              "</div>"
            ],
            "text/plain": [
              "        user_id  placed_orders_sum  ...  prod_purchased_tot_count  reorder_ratio\n",
              "0             1                 10  ...                        59       0.759259\n",
              "1             2                 14  ...                       195       0.510989\n",
              "2             3                 12  ...                        88       0.705128\n",
              "3             4                  5  ...                        18       0.071429\n",
              "4             5                  4  ...                        37       0.538462\n",
              "...         ...                ...  ...                       ...            ...\n",
              "206204   206205                  3  ...                        32       0.533333\n",
              "206205   206206                 67  ...                       285       0.480427\n",
              "206206   206207                 16  ...                       223       0.658291\n",
              "206207   206208                 49  ...                       677       0.720301\n",
              "206208   206209                 13  ...                       129       0.525862\n",
              "\n",
              "[206209 rows x 5 columns]"
            ]
          },
          "metadata": {
            "tags": []
          },
          "execution_count": 24
        }
      ]
    },
    {
      "cell_type": "code",
      "metadata": {
        "id": "ldTDTyLpV7cm"
      },
      "source": [
        "df = orders.loc[orders['eval_set'] != 'prior', ['user_id', 'order_id', 'eval_set', 'days_since_prior_order']]\n",
        "users = pd.merge(users, df, on='user_id', how='inner')"
      ],
      "execution_count": 25,
      "outputs": []
    },
    {
      "cell_type": "code",
      "metadata": {
        "colab": {
          "base_uri": "https://localhost:8080/",
          "height": 422
        },
        "id": "CuZpEZYPWFA5",
        "outputId": "4626a5e0-c014-4114-de0f-1a81f6413097"
      },
      "source": [
        "users"
      ],
      "execution_count": 26,
      "outputs": [
        {
          "output_type": "execute_result",
          "data": {
            "text/html": [
              "<div>\n",
              "<style scoped>\n",
              "    .dataframe tbody tr th:only-of-type {\n",
              "        vertical-align: middle;\n",
              "    }\n",
              "\n",
              "    .dataframe tbody tr th {\n",
              "        vertical-align: top;\n",
              "    }\n",
              "\n",
              "    .dataframe thead th {\n",
              "        text-align: right;\n",
              "    }\n",
              "</style>\n",
              "<table border=\"1\" class=\"dataframe\">\n",
              "  <thead>\n",
              "    <tr style=\"text-align: right;\">\n",
              "      <th></th>\n",
              "      <th>user_id</th>\n",
              "      <th>placed_orders_sum</th>\n",
              "      <th>mean_days_since_prior_order</th>\n",
              "      <th>prod_purchased_tot_count</th>\n",
              "      <th>reorder_ratio</th>\n",
              "      <th>order_id</th>\n",
              "      <th>eval_set</th>\n",
              "      <th>days_since_prior_order</th>\n",
              "    </tr>\n",
              "  </thead>\n",
              "  <tbody>\n",
              "    <tr>\n",
              "      <th>0</th>\n",
              "      <td>1</td>\n",
              "      <td>10</td>\n",
              "      <td>19.555556</td>\n",
              "      <td>59</td>\n",
              "      <td>0.759259</td>\n",
              "      <td>1187899</td>\n",
              "      <td>train</td>\n",
              "      <td>14.0</td>\n",
              "    </tr>\n",
              "    <tr>\n",
              "      <th>1</th>\n",
              "      <td>2</td>\n",
              "      <td>14</td>\n",
              "      <td>15.230769</td>\n",
              "      <td>195</td>\n",
              "      <td>0.510989</td>\n",
              "      <td>1492625</td>\n",
              "      <td>train</td>\n",
              "      <td>30.0</td>\n",
              "    </tr>\n",
              "    <tr>\n",
              "      <th>2</th>\n",
              "      <td>3</td>\n",
              "      <td>12</td>\n",
              "      <td>12.090909</td>\n",
              "      <td>88</td>\n",
              "      <td>0.705128</td>\n",
              "      <td>2774568</td>\n",
              "      <td>test</td>\n",
              "      <td>11.0</td>\n",
              "    </tr>\n",
              "    <tr>\n",
              "      <th>3</th>\n",
              "      <td>4</td>\n",
              "      <td>5</td>\n",
              "      <td>13.750000</td>\n",
              "      <td>18</td>\n",
              "      <td>0.071429</td>\n",
              "      <td>329954</td>\n",
              "      <td>test</td>\n",
              "      <td>30.0</td>\n",
              "    </tr>\n",
              "    <tr>\n",
              "      <th>4</th>\n",
              "      <td>5</td>\n",
              "      <td>4</td>\n",
              "      <td>13.333333</td>\n",
              "      <td>37</td>\n",
              "      <td>0.538462</td>\n",
              "      <td>2196797</td>\n",
              "      <td>train</td>\n",
              "      <td>6.0</td>\n",
              "    </tr>\n",
              "    <tr>\n",
              "      <th>...</th>\n",
              "      <td>...</td>\n",
              "      <td>...</td>\n",
              "      <td>...</td>\n",
              "      <td>...</td>\n",
              "      <td>...</td>\n",
              "      <td>...</td>\n",
              "      <td>...</td>\n",
              "      <td>...</td>\n",
              "    </tr>\n",
              "    <tr>\n",
              "      <th>206204</th>\n",
              "      <td>206205</td>\n",
              "      <td>3</td>\n",
              "      <td>20.000000</td>\n",
              "      <td>32</td>\n",
              "      <td>0.533333</td>\n",
              "      <td>1716008</td>\n",
              "      <td>train</td>\n",
              "      <td>10.0</td>\n",
              "    </tr>\n",
              "    <tr>\n",
              "      <th>206205</th>\n",
              "      <td>206206</td>\n",
              "      <td>67</td>\n",
              "      <td>3.772727</td>\n",
              "      <td>285</td>\n",
              "      <td>0.480427</td>\n",
              "      <td>1043943</td>\n",
              "      <td>test</td>\n",
              "      <td>0.0</td>\n",
              "    </tr>\n",
              "    <tr>\n",
              "      <th>206206</th>\n",
              "      <td>206207</td>\n",
              "      <td>16</td>\n",
              "      <td>14.333333</td>\n",
              "      <td>223</td>\n",
              "      <td>0.658291</td>\n",
              "      <td>2821651</td>\n",
              "      <td>test</td>\n",
              "      <td>14.0</td>\n",
              "    </tr>\n",
              "    <tr>\n",
              "      <th>206207</th>\n",
              "      <td>206208</td>\n",
              "      <td>49</td>\n",
              "      <td>7.437500</td>\n",
              "      <td>677</td>\n",
              "      <td>0.720301</td>\n",
              "      <td>803273</td>\n",
              "      <td>test</td>\n",
              "      <td>4.0</td>\n",
              "    </tr>\n",
              "    <tr>\n",
              "      <th>206208</th>\n",
              "      <td>206209</td>\n",
              "      <td>13</td>\n",
              "      <td>17.500000</td>\n",
              "      <td>129</td>\n",
              "      <td>0.525862</td>\n",
              "      <td>272231</td>\n",
              "      <td>train</td>\n",
              "      <td>30.0</td>\n",
              "    </tr>\n",
              "  </tbody>\n",
              "</table>\n",
              "<p>206209 rows × 8 columns</p>\n",
              "</div>"
            ],
            "text/plain": [
              "        user_id  placed_orders_sum  ...  eval_set  days_since_prior_order\n",
              "0             1                 10  ...     train                    14.0\n",
              "1             2                 14  ...     train                    30.0\n",
              "2             3                 12  ...      test                    11.0\n",
              "3             4                  5  ...      test                    30.0\n",
              "4             5                  4  ...     train                     6.0\n",
              "...         ...                ...  ...       ...                     ...\n",
              "206204   206205                  3  ...     train                    10.0\n",
              "206205   206206                 67  ...      test                     0.0\n",
              "206206   206207                 16  ...      test                    14.0\n",
              "206207   206208                 49  ...      test                     4.0\n",
              "206208   206209                 13  ...     train                    30.0\n",
              "\n",
              "[206209 rows x 8 columns]"
            ]
          },
          "metadata": {
            "tags": []
          },
          "execution_count": 26
        }
      ]
    },
    {
      "cell_type": "markdown",
      "metadata": {
        "id": "h63H74NwWzXF"
      },
      "source": [
        "### 3.6 Analyze (each user)--(each product)"
      ]
    },
    {
      "cell_type": "code",
      "metadata": {
        "id": "4v8kJsLHW_Rq"
      },
      "source": [
        "gb_id = orders_products.groupby(['user_id', 'product_id'])\n",
        "each = pd.DataFrame(gb_id.size(), columns=['prod_purchased_count'])\n",
        "each.reset_index(inplace=True)"
      ],
      "execution_count": 27,
      "outputs": []
    },
    {
      "cell_type": "code",
      "metadata": {
        "colab": {
          "base_uri": "https://localhost:8080/",
          "height": 195
        },
        "id": "DPAxQgPdYu3F",
        "outputId": "a4cba79b-7dbf-4c17-c9bd-84668995ac85"
      },
      "source": [
        "each.head()"
      ],
      "execution_count": 28,
      "outputs": [
        {
          "output_type": "execute_result",
          "data": {
            "text/html": [
              "<div>\n",
              "<style scoped>\n",
              "    .dataframe tbody tr th:only-of-type {\n",
              "        vertical-align: middle;\n",
              "    }\n",
              "\n",
              "    .dataframe tbody tr th {\n",
              "        vertical-align: top;\n",
              "    }\n",
              "\n",
              "    .dataframe thead th {\n",
              "        text-align: right;\n",
              "    }\n",
              "</style>\n",
              "<table border=\"1\" class=\"dataframe\">\n",
              "  <thead>\n",
              "    <tr style=\"text-align: right;\">\n",
              "      <th></th>\n",
              "      <th>user_id</th>\n",
              "      <th>product_id</th>\n",
              "      <th>prod_purchased_count</th>\n",
              "    </tr>\n",
              "  </thead>\n",
              "  <tbody>\n",
              "    <tr>\n",
              "      <th>0</th>\n",
              "      <td>1</td>\n",
              "      <td>196</td>\n",
              "      <td>10</td>\n",
              "    </tr>\n",
              "    <tr>\n",
              "      <th>1</th>\n",
              "      <td>1</td>\n",
              "      <td>10258</td>\n",
              "      <td>9</td>\n",
              "    </tr>\n",
              "    <tr>\n",
              "      <th>2</th>\n",
              "      <td>1</td>\n",
              "      <td>10326</td>\n",
              "      <td>1</td>\n",
              "    </tr>\n",
              "    <tr>\n",
              "      <th>3</th>\n",
              "      <td>1</td>\n",
              "      <td>12427</td>\n",
              "      <td>10</td>\n",
              "    </tr>\n",
              "    <tr>\n",
              "      <th>4</th>\n",
              "      <td>1</td>\n",
              "      <td>13032</td>\n",
              "      <td>3</td>\n",
              "    </tr>\n",
              "  </tbody>\n",
              "</table>\n",
              "</div>"
            ],
            "text/plain": [
              "   user_id  product_id  prod_purchased_count\n",
              "0        1         196                    10\n",
              "1        1       10258                     9\n",
              "2        1       10326                     1\n",
              "3        1       12427                    10\n",
              "4        1       13032                     3"
            ]
          },
          "metadata": {
            "tags": []
          },
          "execution_count": 28
        }
      ]
    },
    {
      "cell_type": "code",
      "metadata": {
        "id": "Ds4zU4rSpBl_"
      },
      "source": [
        "each = pd.merge(each, users, on='user_id', how='inner')"
      ],
      "execution_count": 29,
      "outputs": []
    },
    {
      "cell_type": "code",
      "metadata": {
        "colab": {
          "base_uri": "https://localhost:8080/",
          "height": 215
        },
        "id": "Gh0w56I1pO8z",
        "outputId": "c452ea90-2e47-4b06-b96d-a416272c95da"
      },
      "source": [
        "each.head()"
      ],
      "execution_count": 30,
      "outputs": [
        {
          "output_type": "execute_result",
          "data": {
            "text/html": [
              "<div>\n",
              "<style scoped>\n",
              "    .dataframe tbody tr th:only-of-type {\n",
              "        vertical-align: middle;\n",
              "    }\n",
              "\n",
              "    .dataframe tbody tr th {\n",
              "        vertical-align: top;\n",
              "    }\n",
              "\n",
              "    .dataframe thead th {\n",
              "        text-align: right;\n",
              "    }\n",
              "</style>\n",
              "<table border=\"1\" class=\"dataframe\">\n",
              "  <thead>\n",
              "    <tr style=\"text-align: right;\">\n",
              "      <th></th>\n",
              "      <th>user_id</th>\n",
              "      <th>product_id</th>\n",
              "      <th>prod_purchased_count</th>\n",
              "      <th>placed_orders_sum</th>\n",
              "      <th>mean_days_since_prior_order</th>\n",
              "      <th>prod_purchased_tot_count</th>\n",
              "      <th>reorder_ratio</th>\n",
              "      <th>order_id</th>\n",
              "      <th>eval_set</th>\n",
              "      <th>days_since_prior_order</th>\n",
              "    </tr>\n",
              "  </thead>\n",
              "  <tbody>\n",
              "    <tr>\n",
              "      <th>0</th>\n",
              "      <td>1</td>\n",
              "      <td>196</td>\n",
              "      <td>10</td>\n",
              "      <td>10</td>\n",
              "      <td>19.555556</td>\n",
              "      <td>59</td>\n",
              "      <td>0.759259</td>\n",
              "      <td>1187899</td>\n",
              "      <td>train</td>\n",
              "      <td>14.0</td>\n",
              "    </tr>\n",
              "    <tr>\n",
              "      <th>1</th>\n",
              "      <td>1</td>\n",
              "      <td>10258</td>\n",
              "      <td>9</td>\n",
              "      <td>10</td>\n",
              "      <td>19.555556</td>\n",
              "      <td>59</td>\n",
              "      <td>0.759259</td>\n",
              "      <td>1187899</td>\n",
              "      <td>train</td>\n",
              "      <td>14.0</td>\n",
              "    </tr>\n",
              "    <tr>\n",
              "      <th>2</th>\n",
              "      <td>1</td>\n",
              "      <td>10326</td>\n",
              "      <td>1</td>\n",
              "      <td>10</td>\n",
              "      <td>19.555556</td>\n",
              "      <td>59</td>\n",
              "      <td>0.759259</td>\n",
              "      <td>1187899</td>\n",
              "      <td>train</td>\n",
              "      <td>14.0</td>\n",
              "    </tr>\n",
              "    <tr>\n",
              "      <th>3</th>\n",
              "      <td>1</td>\n",
              "      <td>12427</td>\n",
              "      <td>10</td>\n",
              "      <td>10</td>\n",
              "      <td>19.555556</td>\n",
              "      <td>59</td>\n",
              "      <td>0.759259</td>\n",
              "      <td>1187899</td>\n",
              "      <td>train</td>\n",
              "      <td>14.0</td>\n",
              "    </tr>\n",
              "    <tr>\n",
              "      <th>4</th>\n",
              "      <td>1</td>\n",
              "      <td>13032</td>\n",
              "      <td>3</td>\n",
              "      <td>10</td>\n",
              "      <td>19.555556</td>\n",
              "      <td>59</td>\n",
              "      <td>0.759259</td>\n",
              "      <td>1187899</td>\n",
              "      <td>train</td>\n",
              "      <td>14.0</td>\n",
              "    </tr>\n",
              "  </tbody>\n",
              "</table>\n",
              "</div>"
            ],
            "text/plain": [
              "   user_id  product_id  ...  eval_set  days_since_prior_order\n",
              "0        1         196  ...     train                    14.0\n",
              "1        1       10258  ...     train                    14.0\n",
              "2        1       10326  ...     train                    14.0\n",
              "3        1       12427  ...     train                    14.0\n",
              "4        1       13032  ...     train                    14.0\n",
              "\n",
              "[5 rows x 10 columns]"
            ]
          },
          "metadata": {
            "tags": []
          },
          "execution_count": 30
        }
      ]
    },
    {
      "cell_type": "code",
      "metadata": {
        "id": "td7D6aXMphOe"
      },
      "source": [
        "each = pd.merge(each, order_train[['user_id', 'product_id', 'reordered']], on=['user_id', 'product_id'], how='left')"
      ],
      "execution_count": 31,
      "outputs": []
    },
    {
      "cell_type": "code",
      "metadata": {
        "colab": {
          "base_uri": "https://localhost:8080/",
          "height": 215
        },
        "id": "vXCP5q13pqY4",
        "outputId": "050d8e9a-5df8-4a9d-d0c7-43c2d78bdff2"
      },
      "source": [
        "each.head()"
      ],
      "execution_count": 32,
      "outputs": [
        {
          "output_type": "execute_result",
          "data": {
            "text/html": [
              "<div>\n",
              "<style scoped>\n",
              "    .dataframe tbody tr th:only-of-type {\n",
              "        vertical-align: middle;\n",
              "    }\n",
              "\n",
              "    .dataframe tbody tr th {\n",
              "        vertical-align: top;\n",
              "    }\n",
              "\n",
              "    .dataframe thead th {\n",
              "        text-align: right;\n",
              "    }\n",
              "</style>\n",
              "<table border=\"1\" class=\"dataframe\">\n",
              "  <thead>\n",
              "    <tr style=\"text-align: right;\">\n",
              "      <th></th>\n",
              "      <th>user_id</th>\n",
              "      <th>product_id</th>\n",
              "      <th>prod_purchased_count</th>\n",
              "      <th>placed_orders_sum</th>\n",
              "      <th>mean_days_since_prior_order</th>\n",
              "      <th>prod_purchased_tot_count</th>\n",
              "      <th>reorder_ratio</th>\n",
              "      <th>order_id</th>\n",
              "      <th>eval_set</th>\n",
              "      <th>days_since_prior_order</th>\n",
              "      <th>reordered</th>\n",
              "    </tr>\n",
              "  </thead>\n",
              "  <tbody>\n",
              "    <tr>\n",
              "      <th>0</th>\n",
              "      <td>1</td>\n",
              "      <td>196</td>\n",
              "      <td>10</td>\n",
              "      <td>10</td>\n",
              "      <td>19.555556</td>\n",
              "      <td>59</td>\n",
              "      <td>0.759259</td>\n",
              "      <td>1187899</td>\n",
              "      <td>train</td>\n",
              "      <td>14.0</td>\n",
              "      <td>1.0</td>\n",
              "    </tr>\n",
              "    <tr>\n",
              "      <th>1</th>\n",
              "      <td>1</td>\n",
              "      <td>10258</td>\n",
              "      <td>9</td>\n",
              "      <td>10</td>\n",
              "      <td>19.555556</td>\n",
              "      <td>59</td>\n",
              "      <td>0.759259</td>\n",
              "      <td>1187899</td>\n",
              "      <td>train</td>\n",
              "      <td>14.0</td>\n",
              "      <td>1.0</td>\n",
              "    </tr>\n",
              "    <tr>\n",
              "      <th>2</th>\n",
              "      <td>1</td>\n",
              "      <td>10326</td>\n",
              "      <td>1</td>\n",
              "      <td>10</td>\n",
              "      <td>19.555556</td>\n",
              "      <td>59</td>\n",
              "      <td>0.759259</td>\n",
              "      <td>1187899</td>\n",
              "      <td>train</td>\n",
              "      <td>14.0</td>\n",
              "      <td>NaN</td>\n",
              "    </tr>\n",
              "    <tr>\n",
              "      <th>3</th>\n",
              "      <td>1</td>\n",
              "      <td>12427</td>\n",
              "      <td>10</td>\n",
              "      <td>10</td>\n",
              "      <td>19.555556</td>\n",
              "      <td>59</td>\n",
              "      <td>0.759259</td>\n",
              "      <td>1187899</td>\n",
              "      <td>train</td>\n",
              "      <td>14.0</td>\n",
              "      <td>NaN</td>\n",
              "    </tr>\n",
              "    <tr>\n",
              "      <th>4</th>\n",
              "      <td>1</td>\n",
              "      <td>13032</td>\n",
              "      <td>3</td>\n",
              "      <td>10</td>\n",
              "      <td>19.555556</td>\n",
              "      <td>59</td>\n",
              "      <td>0.759259</td>\n",
              "      <td>1187899</td>\n",
              "      <td>train</td>\n",
              "      <td>14.0</td>\n",
              "      <td>1.0</td>\n",
              "    </tr>\n",
              "  </tbody>\n",
              "</table>\n",
              "</div>"
            ],
            "text/plain": [
              "   user_id  product_id  ...  days_since_prior_order  reordered\n",
              "0        1         196  ...                    14.0        1.0\n",
              "1        1       10258  ...                    14.0        1.0\n",
              "2        1       10326  ...                    14.0        NaN\n",
              "3        1       12427  ...                    14.0        NaN\n",
              "4        1       13032  ...                    14.0        1.0\n",
              "\n",
              "[5 rows x 11 columns]"
            ]
          },
          "metadata": {
            "tags": []
          },
          "execution_count": 32
        }
      ]
    },
    {
      "cell_type": "markdown",
      "metadata": {
        "id": "DRIFg73np5wQ"
      },
      "source": [
        "# 4. Train and Test"
      ]
    },
    {
      "cell_type": "code",
      "metadata": {
        "id": "PiCNBmwLqC_j"
      },
      "source": [
        "train = each[each['eval_set']=='train']\n",
        "train = train.drop(['eval_set', 'user_id', 'product_id', 'order_id'], axis=1)"
      ],
      "execution_count": 33,
      "outputs": []
    },
    {
      "cell_type": "code",
      "metadata": {
        "id": "cHybvHhHqYrP"
      },
      "source": [
        "train['reordered'] = train['reordered'].fillna(0)"
      ],
      "execution_count": 34,
      "outputs": []
    },
    {
      "cell_type": "code",
      "metadata": {
        "colab": {
          "base_uri": "https://localhost:8080/",
          "height": 215
        },
        "id": "L6etM1z-qapU",
        "outputId": "529c4256-b71c-486b-cf75-1cc0b9b3c73e"
      },
      "source": [
        "train.head()"
      ],
      "execution_count": 35,
      "outputs": [
        {
          "output_type": "execute_result",
          "data": {
            "text/html": [
              "<div>\n",
              "<style scoped>\n",
              "    .dataframe tbody tr th:only-of-type {\n",
              "        vertical-align: middle;\n",
              "    }\n",
              "\n",
              "    .dataframe tbody tr th {\n",
              "        vertical-align: top;\n",
              "    }\n",
              "\n",
              "    .dataframe thead th {\n",
              "        text-align: right;\n",
              "    }\n",
              "</style>\n",
              "<table border=\"1\" class=\"dataframe\">\n",
              "  <thead>\n",
              "    <tr style=\"text-align: right;\">\n",
              "      <th></th>\n",
              "      <th>prod_purchased_count</th>\n",
              "      <th>placed_orders_sum</th>\n",
              "      <th>mean_days_since_prior_order</th>\n",
              "      <th>prod_purchased_tot_count</th>\n",
              "      <th>reorder_ratio</th>\n",
              "      <th>days_since_prior_order</th>\n",
              "      <th>reordered</th>\n",
              "    </tr>\n",
              "  </thead>\n",
              "  <tbody>\n",
              "    <tr>\n",
              "      <th>0</th>\n",
              "      <td>10</td>\n",
              "      <td>10</td>\n",
              "      <td>19.555556</td>\n",
              "      <td>59</td>\n",
              "      <td>0.759259</td>\n",
              "      <td>14.0</td>\n",
              "      <td>1.0</td>\n",
              "    </tr>\n",
              "    <tr>\n",
              "      <th>1</th>\n",
              "      <td>9</td>\n",
              "      <td>10</td>\n",
              "      <td>19.555556</td>\n",
              "      <td>59</td>\n",
              "      <td>0.759259</td>\n",
              "      <td>14.0</td>\n",
              "      <td>1.0</td>\n",
              "    </tr>\n",
              "    <tr>\n",
              "      <th>2</th>\n",
              "      <td>1</td>\n",
              "      <td>10</td>\n",
              "      <td>19.555556</td>\n",
              "      <td>59</td>\n",
              "      <td>0.759259</td>\n",
              "      <td>14.0</td>\n",
              "      <td>0.0</td>\n",
              "    </tr>\n",
              "    <tr>\n",
              "      <th>3</th>\n",
              "      <td>10</td>\n",
              "      <td>10</td>\n",
              "      <td>19.555556</td>\n",
              "      <td>59</td>\n",
              "      <td>0.759259</td>\n",
              "      <td>14.0</td>\n",
              "      <td>0.0</td>\n",
              "    </tr>\n",
              "    <tr>\n",
              "      <th>4</th>\n",
              "      <td>3</td>\n",
              "      <td>10</td>\n",
              "      <td>19.555556</td>\n",
              "      <td>59</td>\n",
              "      <td>0.759259</td>\n",
              "      <td>14.0</td>\n",
              "      <td>1.0</td>\n",
              "    </tr>\n",
              "  </tbody>\n",
              "</table>\n",
              "</div>"
            ],
            "text/plain": [
              "   prod_purchased_count  placed_orders_sum  ...  days_since_prior_order  reordered\n",
              "0                    10                 10  ...                    14.0        1.0\n",
              "1                     9                 10  ...                    14.0        1.0\n",
              "2                     1                 10  ...                    14.0        0.0\n",
              "3                    10                 10  ...                    14.0        0.0\n",
              "4                     3                 10  ...                    14.0        1.0\n",
              "\n",
              "[5 rows x 7 columns]"
            ]
          },
          "metadata": {
            "tags": []
          },
          "execution_count": 35
        }
      ]
    },
    {
      "cell_type": "code",
      "metadata": {
        "colab": {
          "base_uri": "https://localhost:8080/"
        },
        "id": "MC6WDJ3sb1fN",
        "outputId": "33f2d5bd-43c2-484a-d311-1e778b1b3153"
      },
      "source": [
        "len(train)"
      ],
      "execution_count": 60,
      "outputs": [
        {
          "output_type": "execute_result",
          "data": {
            "text/plain": [
              "8474661"
            ]
          },
          "metadata": {
            "tags": []
          },
          "execution_count": 60
        }
      ]
    },
    {
      "cell_type": "code",
      "metadata": {
        "id": "zipvGRXWe55w"
      },
      "source": [
        "from sklearn.model_selection import train_test_split\n",
        "\n",
        "subtrain = train.sample(frac=0.1, random_state=2)\n",
        "subtrain.head()\n",
        "X_train, X_test, y_train, y_test = train_test_split(subtrain, subtrain.reordered, test_size=0.30, random_state=0)"
      ],
      "execution_count": 36,
      "outputs": []
    },
    {
      "cell_type": "code",
      "metadata": {
        "colab": {
          "base_uri": "https://localhost:8080/",
          "height": 215
        },
        "id": "SPdCI0D0iiv8",
        "outputId": "88a8d862-6359-4b75-c7b3-2615afa4eac2"
      },
      "source": [
        "X_test = X_test.drop(['reordered'], axis=1)\n",
        "X_test.head()"
      ],
      "execution_count": 37,
      "outputs": [
        {
          "output_type": "execute_result",
          "data": {
            "text/html": [
              "<div>\n",
              "<style scoped>\n",
              "    .dataframe tbody tr th:only-of-type {\n",
              "        vertical-align: middle;\n",
              "    }\n",
              "\n",
              "    .dataframe tbody tr th {\n",
              "        vertical-align: top;\n",
              "    }\n",
              "\n",
              "    .dataframe thead th {\n",
              "        text-align: right;\n",
              "    }\n",
              "</style>\n",
              "<table border=\"1\" class=\"dataframe\">\n",
              "  <thead>\n",
              "    <tr style=\"text-align: right;\">\n",
              "      <th></th>\n",
              "      <th>prod_purchased_count</th>\n",
              "      <th>placed_orders_sum</th>\n",
              "      <th>mean_days_since_prior_order</th>\n",
              "      <th>prod_purchased_tot_count</th>\n",
              "      <th>reorder_ratio</th>\n",
              "      <th>days_since_prior_order</th>\n",
              "    </tr>\n",
              "  </thead>\n",
              "  <tbody>\n",
              "    <tr>\n",
              "      <th>6857932</th>\n",
              "      <td>2</td>\n",
              "      <td>22</td>\n",
              "      <td>12.142857</td>\n",
              "      <td>127</td>\n",
              "      <td>0.479339</td>\n",
              "      <td>24.0</td>\n",
              "    </tr>\n",
              "    <tr>\n",
              "      <th>5543187</th>\n",
              "      <td>1</td>\n",
              "      <td>9</td>\n",
              "      <td>24.250000</td>\n",
              "      <td>111</td>\n",
              "      <td>0.184466</td>\n",
              "      <td>2.0</td>\n",
              "    </tr>\n",
              "    <tr>\n",
              "      <th>13060830</th>\n",
              "      <td>1</td>\n",
              "      <td>67</td>\n",
              "      <td>5.378788</td>\n",
              "      <td>762</td>\n",
              "      <td>0.686508</td>\n",
              "      <td>2.0</td>\n",
              "    </tr>\n",
              "    <tr>\n",
              "      <th>5540739</th>\n",
              "      <td>1</td>\n",
              "      <td>6</td>\n",
              "      <td>24.800000</td>\n",
              "      <td>57</td>\n",
              "      <td>0.187500</td>\n",
              "      <td>30.0</td>\n",
              "    </tr>\n",
              "    <tr>\n",
              "      <th>4913900</th>\n",
              "      <td>1</td>\n",
              "      <td>5</td>\n",
              "      <td>13.500000</td>\n",
              "      <td>24</td>\n",
              "      <td>0.142857</td>\n",
              "      <td>4.0</td>\n",
              "    </tr>\n",
              "  </tbody>\n",
              "</table>\n",
              "</div>"
            ],
            "text/plain": [
              "          prod_purchased_count  ...  days_since_prior_order\n",
              "6857932                      2  ...                    24.0\n",
              "5543187                      1  ...                     2.0\n",
              "13060830                     1  ...                     2.0\n",
              "5540739                      1  ...                    30.0\n",
              "4913900                      1  ...                     4.0\n",
              "\n",
              "[5 rows x 6 columns]"
            ]
          },
          "metadata": {
            "tags": []
          },
          "execution_count": 37
        }
      ]
    },
    {
      "cell_type": "code",
      "metadata": {
        "colab": {
          "base_uri": "https://localhost:8080/",
          "height": 215
        },
        "id": "jcNQy5ATqpLl",
        "outputId": "025610d0-bb75-4138-be12-5683bac1899e"
      },
      "source": [
        "test = each[each['eval_set']=='test']\n",
        "test = test.drop(['eval_set', 'user_id', 'reordered'], axis=1)\n",
        "test.head()"
      ],
      "execution_count": 38,
      "outputs": [
        {
          "output_type": "execute_result",
          "data": {
            "text/html": [
              "<div>\n",
              "<style scoped>\n",
              "    .dataframe tbody tr th:only-of-type {\n",
              "        vertical-align: middle;\n",
              "    }\n",
              "\n",
              "    .dataframe tbody tr th {\n",
              "        vertical-align: top;\n",
              "    }\n",
              "\n",
              "    .dataframe thead th {\n",
              "        text-align: right;\n",
              "    }\n",
              "</style>\n",
              "<table border=\"1\" class=\"dataframe\">\n",
              "  <thead>\n",
              "    <tr style=\"text-align: right;\">\n",
              "      <th></th>\n",
              "      <th>product_id</th>\n",
              "      <th>prod_purchased_count</th>\n",
              "      <th>placed_orders_sum</th>\n",
              "      <th>mean_days_since_prior_order</th>\n",
              "      <th>prod_purchased_tot_count</th>\n",
              "      <th>reorder_ratio</th>\n",
              "      <th>order_id</th>\n",
              "      <th>days_since_prior_order</th>\n",
              "    </tr>\n",
              "  </thead>\n",
              "  <tbody>\n",
              "    <tr>\n",
              "      <th>120</th>\n",
              "      <td>248</td>\n",
              "      <td>1</td>\n",
              "      <td>12</td>\n",
              "      <td>12.090909</td>\n",
              "      <td>88</td>\n",
              "      <td>0.705128</td>\n",
              "      <td>2774568</td>\n",
              "      <td>11.0</td>\n",
              "    </tr>\n",
              "    <tr>\n",
              "      <th>121</th>\n",
              "      <td>1005</td>\n",
              "      <td>1</td>\n",
              "      <td>12</td>\n",
              "      <td>12.090909</td>\n",
              "      <td>88</td>\n",
              "      <td>0.705128</td>\n",
              "      <td>2774568</td>\n",
              "      <td>11.0</td>\n",
              "    </tr>\n",
              "    <tr>\n",
              "      <th>122</th>\n",
              "      <td>1819</td>\n",
              "      <td>3</td>\n",
              "      <td>12</td>\n",
              "      <td>12.090909</td>\n",
              "      <td>88</td>\n",
              "      <td>0.705128</td>\n",
              "      <td>2774568</td>\n",
              "      <td>11.0</td>\n",
              "    </tr>\n",
              "    <tr>\n",
              "      <th>123</th>\n",
              "      <td>7503</td>\n",
              "      <td>1</td>\n",
              "      <td>12</td>\n",
              "      <td>12.090909</td>\n",
              "      <td>88</td>\n",
              "      <td>0.705128</td>\n",
              "      <td>2774568</td>\n",
              "      <td>11.0</td>\n",
              "    </tr>\n",
              "    <tr>\n",
              "      <th>124</th>\n",
              "      <td>8021</td>\n",
              "      <td>1</td>\n",
              "      <td>12</td>\n",
              "      <td>12.090909</td>\n",
              "      <td>88</td>\n",
              "      <td>0.705128</td>\n",
              "      <td>2774568</td>\n",
              "      <td>11.0</td>\n",
              "    </tr>\n",
              "  </tbody>\n",
              "</table>\n",
              "</div>"
            ],
            "text/plain": [
              "     product_id  prod_purchased_count  ...  order_id  days_since_prior_order\n",
              "120         248                     1  ...   2774568                    11.0\n",
              "121        1005                     1  ...   2774568                    11.0\n",
              "122        1819                     3  ...   2774568                    11.0\n",
              "123        7503                     1  ...   2774568                    11.0\n",
              "124        8021                     1  ...   2774568                    11.0\n",
              "\n",
              "[5 rows x 8 columns]"
            ]
          },
          "metadata": {
            "tags": []
          },
          "execution_count": 38
        }
      ]
    },
    {
      "cell_type": "markdown",
      "metadata": {
        "id": "uYcumoe3rghL"
      },
      "source": [
        "# 5. Modeling"
      ]
    },
    {
      "cell_type": "code",
      "metadata": {
        "id": "tHPHT15shJaf"
      },
      "source": [
        "import xgboost as xgb\n",
        "params = {\n",
        "    'learning_rate': 0.1,\n",
        "    'max_depth': 6,\n",
        "    'subsample': 0.70,\n",
        "    'n_estimators': [10, 50, 150, 200]\n",
        "}"
      ],
      "execution_count": 39,
      "outputs": []
    },
    {
      "cell_type": "code",
      "metadata": {
        "id": "jhxsKVvbhhVN"
      },
      "source": [
        "X_tr = xgb.DMatrix(X_train.drop(['reordered'], axis=1), label=X_train['reordered'])"
      ],
      "execution_count": 40,
      "outputs": []
    },
    {
      "cell_type": "code",
      "metadata": {
        "id": "QbS4Xbo3h0rk"
      },
      "source": [
        "model = xgb.train(params, X_tr, num_boost_round=100)"
      ],
      "execution_count": 41,
      "outputs": []
    },
    {
      "cell_type": "code",
      "metadata": {
        "id": "r3QTyj7siPge"
      },
      "source": [
        "X_te = xgb.DMatrix(X_test)"
      ],
      "execution_count": 42,
      "outputs": []
    },
    {
      "cell_type": "code",
      "metadata": {
        "id": "bM4PhaFfjQGX"
      },
      "source": [
        "X_test['reordered'] = model.predict(X_te)"
      ],
      "execution_count": 43,
      "outputs": []
    },
    {
      "cell_type": "code",
      "metadata": {
        "colab": {
          "base_uri": "https://localhost:8080/",
          "height": 215
        },
        "id": "Oq5rOhrKjaIt",
        "outputId": "055d6081-81da-458c-9aa8-20c9f7fb1024"
      },
      "source": [
        "X_test.head()"
      ],
      "execution_count": 44,
      "outputs": [
        {
          "output_type": "execute_result",
          "data": {
            "text/html": [
              "<div>\n",
              "<style scoped>\n",
              "    .dataframe tbody tr th:only-of-type {\n",
              "        vertical-align: middle;\n",
              "    }\n",
              "\n",
              "    .dataframe tbody tr th {\n",
              "        vertical-align: top;\n",
              "    }\n",
              "\n",
              "    .dataframe thead th {\n",
              "        text-align: right;\n",
              "    }\n",
              "</style>\n",
              "<table border=\"1\" class=\"dataframe\">\n",
              "  <thead>\n",
              "    <tr style=\"text-align: right;\">\n",
              "      <th></th>\n",
              "      <th>prod_purchased_count</th>\n",
              "      <th>placed_orders_sum</th>\n",
              "      <th>mean_days_since_prior_order</th>\n",
              "      <th>prod_purchased_tot_count</th>\n",
              "      <th>reorder_ratio</th>\n",
              "      <th>days_since_prior_order</th>\n",
              "      <th>reordered</th>\n",
              "    </tr>\n",
              "  </thead>\n",
              "  <tbody>\n",
              "    <tr>\n",
              "      <th>6857932</th>\n",
              "      <td>2</td>\n",
              "      <td>22</td>\n",
              "      <td>12.142857</td>\n",
              "      <td>127</td>\n",
              "      <td>0.479339</td>\n",
              "      <td>24.0</td>\n",
              "      <td>0.056068</td>\n",
              "    </tr>\n",
              "    <tr>\n",
              "      <th>5543187</th>\n",
              "      <td>1</td>\n",
              "      <td>9</td>\n",
              "      <td>24.250000</td>\n",
              "      <td>111</td>\n",
              "      <td>0.184466</td>\n",
              "      <td>2.0</td>\n",
              "      <td>0.026852</td>\n",
              "    </tr>\n",
              "    <tr>\n",
              "      <th>13060830</th>\n",
              "      <td>1</td>\n",
              "      <td>67</td>\n",
              "      <td>5.378788</td>\n",
              "      <td>762</td>\n",
              "      <td>0.686508</td>\n",
              "      <td>2.0</td>\n",
              "      <td>0.008975</td>\n",
              "    </tr>\n",
              "    <tr>\n",
              "      <th>5540739</th>\n",
              "      <td>1</td>\n",
              "      <td>6</td>\n",
              "      <td>24.800000</td>\n",
              "      <td>57</td>\n",
              "      <td>0.187500</td>\n",
              "      <td>30.0</td>\n",
              "      <td>0.053558</td>\n",
              "    </tr>\n",
              "    <tr>\n",
              "      <th>4913900</th>\n",
              "      <td>1</td>\n",
              "      <td>5</td>\n",
              "      <td>13.500000</td>\n",
              "      <td>24</td>\n",
              "      <td>0.142857</td>\n",
              "      <td>4.0</td>\n",
              "      <td>0.055958</td>\n",
              "    </tr>\n",
              "  </tbody>\n",
              "</table>\n",
              "</div>"
            ],
            "text/plain": [
              "          prod_purchased_count  ...  reordered\n",
              "6857932                      2  ...   0.056068\n",
              "5543187                      1  ...   0.026852\n",
              "13060830                     1  ...   0.008975\n",
              "5540739                      1  ...   0.053558\n",
              "4913900                      1  ...   0.055958\n",
              "\n",
              "[5 rows x 7 columns]"
            ]
          },
          "metadata": {
            "tags": []
          },
          "execution_count": 44
        }
      ]
    },
    {
      "cell_type": "code",
      "metadata": {
        "id": "0F5BTSPCjfKB"
      },
      "source": [
        "X_test.loc[X_test['reordered'] > 0.21, 'reordered'] = 1"
      ],
      "execution_count": 45,
      "outputs": []
    },
    {
      "cell_type": "code",
      "metadata": {
        "id": "4kAXiAH-lGT_"
      },
      "source": [
        "X_test.loc[X_test['reordered'] <= 0.21, 'reordered'] = 0"
      ],
      "execution_count": 46,
      "outputs": []
    },
    {
      "cell_type": "code",
      "metadata": {
        "colab": {
          "base_uri": "https://localhost:8080/",
          "height": 215
        },
        "id": "JcIjTa0WjkN5",
        "outputId": "17dbadda-8344-484b-e163-9d9362d2846b"
      },
      "source": [
        "X_test.head()"
      ],
      "execution_count": 47,
      "outputs": [
        {
          "output_type": "execute_result",
          "data": {
            "text/html": [
              "<div>\n",
              "<style scoped>\n",
              "    .dataframe tbody tr th:only-of-type {\n",
              "        vertical-align: middle;\n",
              "    }\n",
              "\n",
              "    .dataframe tbody tr th {\n",
              "        vertical-align: top;\n",
              "    }\n",
              "\n",
              "    .dataframe thead th {\n",
              "        text-align: right;\n",
              "    }\n",
              "</style>\n",
              "<table border=\"1\" class=\"dataframe\">\n",
              "  <thead>\n",
              "    <tr style=\"text-align: right;\">\n",
              "      <th></th>\n",
              "      <th>prod_purchased_count</th>\n",
              "      <th>placed_orders_sum</th>\n",
              "      <th>mean_days_since_prior_order</th>\n",
              "      <th>prod_purchased_tot_count</th>\n",
              "      <th>reorder_ratio</th>\n",
              "      <th>days_since_prior_order</th>\n",
              "      <th>reordered</th>\n",
              "    </tr>\n",
              "  </thead>\n",
              "  <tbody>\n",
              "    <tr>\n",
              "      <th>6857932</th>\n",
              "      <td>2</td>\n",
              "      <td>22</td>\n",
              "      <td>12.142857</td>\n",
              "      <td>127</td>\n",
              "      <td>0.479339</td>\n",
              "      <td>24.0</td>\n",
              "      <td>0.0</td>\n",
              "    </tr>\n",
              "    <tr>\n",
              "      <th>5543187</th>\n",
              "      <td>1</td>\n",
              "      <td>9</td>\n",
              "      <td>24.250000</td>\n",
              "      <td>111</td>\n",
              "      <td>0.184466</td>\n",
              "      <td>2.0</td>\n",
              "      <td>0.0</td>\n",
              "    </tr>\n",
              "    <tr>\n",
              "      <th>13060830</th>\n",
              "      <td>1</td>\n",
              "      <td>67</td>\n",
              "      <td>5.378788</td>\n",
              "      <td>762</td>\n",
              "      <td>0.686508</td>\n",
              "      <td>2.0</td>\n",
              "      <td>0.0</td>\n",
              "    </tr>\n",
              "    <tr>\n",
              "      <th>5540739</th>\n",
              "      <td>1</td>\n",
              "      <td>6</td>\n",
              "      <td>24.800000</td>\n",
              "      <td>57</td>\n",
              "      <td>0.187500</td>\n",
              "      <td>30.0</td>\n",
              "      <td>0.0</td>\n",
              "    </tr>\n",
              "    <tr>\n",
              "      <th>4913900</th>\n",
              "      <td>1</td>\n",
              "      <td>5</td>\n",
              "      <td>13.500000</td>\n",
              "      <td>24</td>\n",
              "      <td>0.142857</td>\n",
              "      <td>4.0</td>\n",
              "      <td>0.0</td>\n",
              "    </tr>\n",
              "  </tbody>\n",
              "</table>\n",
              "</div>"
            ],
            "text/plain": [
              "          prod_purchased_count  ...  reordered\n",
              "6857932                      2  ...        0.0\n",
              "5543187                      1  ...        0.0\n",
              "13060830                     1  ...        0.0\n",
              "5540739                      1  ...        0.0\n",
              "4913900                      1  ...        0.0\n",
              "\n",
              "[5 rows x 7 columns]"
            ]
          },
          "metadata": {
            "tags": []
          },
          "execution_count": 47
        }
      ]
    },
    {
      "cell_type": "code",
      "metadata": {
        "colab": {
          "base_uri": "https://localhost:8080/"
        },
        "id": "_ucJXtuskRLr",
        "outputId": "6d2b1c1a-bcab-48a0-f887-a97e43105355"
      },
      "source": [
        "len(X_test)"
      ],
      "execution_count": 48,
      "outputs": [
        {
          "output_type": "execute_result",
          "data": {
            "text/plain": [
              "254240"
            ]
          },
          "metadata": {
            "tags": []
          },
          "execution_count": 48
        }
      ]
    },
    {
      "cell_type": "code",
      "metadata": {
        "colab": {
          "base_uri": "https://localhost:8080/"
        },
        "id": "nokrAIxIkAu-",
        "outputId": "194134b8-5c10-485b-f98b-495b0b359832"
      },
      "source": [
        "y_test.head()"
      ],
      "execution_count": 49,
      "outputs": [
        {
          "output_type": "execute_result",
          "data": {
            "text/plain": [
              "6857932     0.0\n",
              "5543187     0.0\n",
              "13060830    0.0\n",
              "5540739     0.0\n",
              "4913900     0.0\n",
              "Name: reordered, dtype: float64"
            ]
          },
          "metadata": {
            "tags": []
          },
          "execution_count": 49
        }
      ]
    },
    {
      "cell_type": "code",
      "metadata": {
        "colab": {
          "base_uri": "https://localhost:8080/"
        },
        "id": "QImt7Q7AkM2t",
        "outputId": "be5815ce-5c09-44ab-cd99-0bd0918cf2ab"
      },
      "source": [
        "len(y_test)"
      ],
      "execution_count": 50,
      "outputs": [
        {
          "output_type": "execute_result",
          "data": {
            "text/plain": [
              "254240"
            ]
          },
          "metadata": {
            "tags": []
          },
          "execution_count": 50
        }
      ]
    },
    {
      "cell_type": "code",
      "metadata": {
        "colab": {
          "base_uri": "https://localhost:8080/"
        },
        "id": "Qvy0B2EDkPiw",
        "outputId": "50af163e-5e1b-4df1-e628-e3245aefb8c3"
      },
      "source": [
        "from sklearn.metrics import classification_report\n",
        "print(classification_report(y_test, X_test.reordered))"
      ],
      "execution_count": 51,
      "outputs": [
        {
          "output_type": "stream",
          "text": [
            "              precision    recall  f1-score   support\n",
            "\n",
            "         0.0       0.94      0.92      0.93    229461\n",
            "         1.0       0.36      0.42      0.39     24779\n",
            "\n",
            "    accuracy                           0.87    254240\n",
            "   macro avg       0.65      0.67      0.66    254240\n",
            "weighted avg       0.88      0.87      0.88    254240\n",
            "\n"
          ],
          "name": "stdout"
        }
      ]
    },
    {
      "cell_type": "code",
      "metadata": {
        "id": "JaaglpVemtXc"
      },
      "source": [
        "# Apply model to the real test set\n",
        "real_test = xgb.DMatrix(test.drop(['order_id', 'product_id'], axis=1))\n",
        "test['reordered'] = model.predict(real_test)\n",
        "test.loc[test['reordered'] > 0.21, 'reordered'] = 1"
      ],
      "execution_count": 52,
      "outputs": []
    },
    {
      "cell_type": "code",
      "metadata": {
        "id": "D-e9BHTgmbQR"
      },
      "source": [
        "# Create submission\n",
        "submission = test[test['reordered']==1]\n",
        "submission = submission.groupby('order_id')['product_id'].agg(lambda l: ' '.join([str(i) for i in l]))\n",
        "submission = submission.to_frame('products').reset_index()"
      ],
      "execution_count": 53,
      "outputs": []
    },
    {
      "cell_type": "code",
      "metadata": {
        "id": "_2pDDazvn5-c"
      },
      "source": [
        "# fill missing order_id\n",
        "missing_orders = pd.DataFrame(set(test.order_id) - set(submission.order_id), columns=['order_id'])\n",
        "missing_orders['products'] = 'None'\n",
        "submission = submission.append(missing_orders)\n",
        "submission = submission.sort_values('order_id')\n",
        "submission.columns = ['order_id', 'products']"
      ],
      "execution_count": 54,
      "outputs": []
    },
    {
      "cell_type": "code",
      "metadata": {
        "colab": {
          "base_uri": "https://localhost:8080/",
          "height": 195
        },
        "id": "KCgtChsLoaAs",
        "outputId": "9604435a-45ca-45e8-9fb8-b4244d7b554a"
      },
      "source": [
        "submission.head()"
      ],
      "execution_count": 55,
      "outputs": [
        {
          "output_type": "execute_result",
          "data": {
            "text/html": [
              "<div>\n",
              "<style scoped>\n",
              "    .dataframe tbody tr th:only-of-type {\n",
              "        vertical-align: middle;\n",
              "    }\n",
              "\n",
              "    .dataframe tbody tr th {\n",
              "        vertical-align: top;\n",
              "    }\n",
              "\n",
              "    .dataframe thead th {\n",
              "        text-align: right;\n",
              "    }\n",
              "</style>\n",
              "<table border=\"1\" class=\"dataframe\">\n",
              "  <thead>\n",
              "    <tr style=\"text-align: right;\">\n",
              "      <th></th>\n",
              "      <th>order_id</th>\n",
              "      <th>products</th>\n",
              "    </tr>\n",
              "  </thead>\n",
              "  <tbody>\n",
              "    <tr>\n",
              "      <th>0</th>\n",
              "      <td>17</td>\n",
              "      <td>13107</td>\n",
              "    </tr>\n",
              "    <tr>\n",
              "      <th>1</th>\n",
              "      <td>34</td>\n",
              "      <td>39180 39475 43504 47029 47766 47792</td>\n",
              "    </tr>\n",
              "    <tr>\n",
              "      <th>2</th>\n",
              "      <td>137</td>\n",
              "      <td>23794 24852 38689 41787</td>\n",
              "    </tr>\n",
              "    <tr>\n",
              "      <th>3</th>\n",
              "      <td>182</td>\n",
              "      <td>2078 3397 5479 9337 13629 21903 24009 27104 30...</td>\n",
              "    </tr>\n",
              "    <tr>\n",
              "      <th>4</th>\n",
              "      <td>257</td>\n",
              "      <td>24852 27104 27966 29837 45013 49235</td>\n",
              "    </tr>\n",
              "  </tbody>\n",
              "</table>\n",
              "</div>"
            ],
            "text/plain": [
              "   order_id                                           products\n",
              "0        17                                              13107\n",
              "1        34                39180 39475 43504 47029 47766 47792\n",
              "2       137                            23794 24852 38689 41787\n",
              "3       182  2078 3397 5479 9337 13629 21903 24009 27104 30...\n",
              "4       257                24852 27104 27966 29837 45013 49235"
            ]
          },
          "metadata": {
            "tags": []
          },
          "execution_count": 55
        }
      ]
    },
    {
      "cell_type": "code",
      "metadata": {
        "id": "khuPOcaqmjtK"
      },
      "source": [
        "submission.to_csv('/content/submossion.csv', index=False)"
      ],
      "execution_count": 57,
      "outputs": []
    }
  ]
}