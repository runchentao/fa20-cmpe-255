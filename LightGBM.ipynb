{
  "nbformat": 4,
  "nbformat_minor": 0,
  "metadata": {
    "colab": {
      "name": "LightGBM.ipynb",
      "provenance": [],
      "collapsed_sections": [
        "5ed6JaBc_9aS"
      ],
      "machine_shape": "hm"
    },
    "kernelspec": {
      "display_name": "Python 3",
      "language": "python",
      "name": "python3"
    },
    "language_info": {
      "codemirror_mode": {
        "name": "ipython",
        "version": 3
      },
      "file_extension": ".py",
      "mimetype": "text/x-python",
      "name": "python",
      "nbconvert_exporter": "python",
      "pygments_lexer": "ipython3",
      "version": "3.6.4"
    },
    "accelerator": "GPU"
  },
  "cells": [
    {
      "cell_type": "code",
      "metadata": {
        "id": "FXZy25PoAFUI",
        "colab": {
          "base_uri": "https://localhost:8080/"
        },
        "outputId": "d8c9d756-ddbc-4d7e-a0bf-6d849e6c4a8e"
      },
      "source": [
        "from google.colab import drive\n",
        "drive.mount('/content/drive')"
      ],
      "execution_count": 2,
      "outputs": [
        {
          "output_type": "stream",
          "text": [
            "Mounted at /content/drive\n"
          ],
          "name": "stdout"
        }
      ]
    },
    {
      "cell_type": "code",
      "metadata": {
        "id": "1yCz9c_t_9aK"
      },
      "source": [
        "import pandas as pd\n",
        "import numpy as np\n",
        "import matplotlib.pyplot as plt\n",
        "import seaborn as sns\n",
        "%matplotlib inline"
      ],
      "execution_count": 3,
      "outputs": []
    },
    {
      "cell_type": "markdown",
      "metadata": {
        "id": "VpB-bjd2_9aK"
      },
      "source": [
        "### Import Dataset\n"
      ]
    },
    {
      "cell_type": "code",
      "metadata": {
        "id": "hiqs6OdQ_9aK"
      },
      "source": [
        "path = '/content/drive/MyDrive/instacart/'\n",
        "aisles = pd.read_csv(path + 'aisles.csv')\n",
        "departments = pd.read_csv(path + 'departments.csv')\n",
        "products = pd.read_csv(path + 'products.csv')\n",
        "orders = pd.read_csv(path + 'orders.csv')\n",
        "order_products__train = pd.read_csv(path + 'order_products__train.csv')\n",
        "order_products__prior = pd.read_csv(path + 'order_products__prior.csv')\n",
        "sample_submission = pd.read_csv(path + 'sample_submission.csv')"
      ],
      "execution_count": 4,
      "outputs": []
    },
    {
      "cell_type": "markdown",
      "metadata": {
        "id": "sMVyiLMu_9aK"
      },
      "source": [
        "## Exploratory Data Analysis"
      ]
    },
    {
      "cell_type": "code",
      "metadata": {
        "id": "ttOSl5zx_9aK",
        "colab": {
          "base_uri": "https://localhost:8080/",
          "height": 204
        },
        "outputId": "2ad97d7f-403d-42c9-e7a6-03c384477cdf"
      },
      "source": [
        "#check aisle information\n",
        "aisles.head()"
      ],
      "execution_count": 5,
      "outputs": [
        {
          "output_type": "execute_result",
          "data": {
            "text/html": [
              "<div>\n",
              "<style scoped>\n",
              "    .dataframe tbody tr th:only-of-type {\n",
              "        vertical-align: middle;\n",
              "    }\n",
              "\n",
              "    .dataframe tbody tr th {\n",
              "        vertical-align: top;\n",
              "    }\n",
              "\n",
              "    .dataframe thead th {\n",
              "        text-align: right;\n",
              "    }\n",
              "</style>\n",
              "<table border=\"1\" class=\"dataframe\">\n",
              "  <thead>\n",
              "    <tr style=\"text-align: right;\">\n",
              "      <th></th>\n",
              "      <th>aisle_id</th>\n",
              "      <th>aisle</th>\n",
              "    </tr>\n",
              "  </thead>\n",
              "  <tbody>\n",
              "    <tr>\n",
              "      <th>0</th>\n",
              "      <td>1</td>\n",
              "      <td>prepared soups salads</td>\n",
              "    </tr>\n",
              "    <tr>\n",
              "      <th>1</th>\n",
              "      <td>2</td>\n",
              "      <td>specialty cheeses</td>\n",
              "    </tr>\n",
              "    <tr>\n",
              "      <th>2</th>\n",
              "      <td>3</td>\n",
              "      <td>energy granola bars</td>\n",
              "    </tr>\n",
              "    <tr>\n",
              "      <th>3</th>\n",
              "      <td>4</td>\n",
              "      <td>instant foods</td>\n",
              "    </tr>\n",
              "    <tr>\n",
              "      <th>4</th>\n",
              "      <td>5</td>\n",
              "      <td>marinades meat preparation</td>\n",
              "    </tr>\n",
              "  </tbody>\n",
              "</table>\n",
              "</div>"
            ],
            "text/plain": [
              "   aisle_id                       aisle\n",
              "0         1       prepared soups salads\n",
              "1         2           specialty cheeses\n",
              "2         3         energy granola bars\n",
              "3         4               instant foods\n",
              "4         5  marinades meat preparation"
            ]
          },
          "metadata": {
            "tags": []
          },
          "execution_count": 5
        }
      ]
    },
    {
      "cell_type": "code",
      "metadata": {
        "id": "nhvT-QB5_9aL",
        "colab": {
          "base_uri": "https://localhost:8080/"
        },
        "outputId": "8cf030f9-fbc1-4b0b-ee6f-4a512c7495a7"
      },
      "source": [
        "aisles.shape"
      ],
      "execution_count": 6,
      "outputs": [
        {
          "output_type": "execute_result",
          "data": {
            "text/plain": [
              "(134, 2)"
            ]
          },
          "metadata": {
            "tags": []
          },
          "execution_count": 6
        }
      ]
    },
    {
      "cell_type": "code",
      "metadata": {
        "id": "hdn1nxi1_9aL",
        "colab": {
          "base_uri": "https://localhost:8080/"
        },
        "outputId": "c8b7bdcc-8cbf-44f5-d435-a670e219bcbe"
      },
      "source": [
        "aisles.nunique()"
      ],
      "execution_count": 7,
      "outputs": [
        {
          "output_type": "execute_result",
          "data": {
            "text/plain": [
              "aisle_id    134\n",
              "aisle       134\n",
              "dtype: int64"
            ]
          },
          "metadata": {
            "tags": []
          },
          "execution_count": 7
        }
      ]
    },
    {
      "cell_type": "code",
      "metadata": {
        "id": "NqNyA_Lm_9aL",
        "scrolled": true,
        "colab": {
          "base_uri": "https://localhost:8080/",
          "height": 700
        },
        "outputId": "85fc3f87-2276-4934-a606-d9011c3a16f3"
      },
      "source": [
        "#check departments information\n",
        "departments"
      ],
      "execution_count": 8,
      "outputs": [
        {
          "output_type": "execute_result",
          "data": {
            "text/html": [
              "<div>\n",
              "<style scoped>\n",
              "    .dataframe tbody tr th:only-of-type {\n",
              "        vertical-align: middle;\n",
              "    }\n",
              "\n",
              "    .dataframe tbody tr th {\n",
              "        vertical-align: top;\n",
              "    }\n",
              "\n",
              "    .dataframe thead th {\n",
              "        text-align: right;\n",
              "    }\n",
              "</style>\n",
              "<table border=\"1\" class=\"dataframe\">\n",
              "  <thead>\n",
              "    <tr style=\"text-align: right;\">\n",
              "      <th></th>\n",
              "      <th>department_id</th>\n",
              "      <th>department</th>\n",
              "    </tr>\n",
              "  </thead>\n",
              "  <tbody>\n",
              "    <tr>\n",
              "      <th>0</th>\n",
              "      <td>1</td>\n",
              "      <td>frozen</td>\n",
              "    </tr>\n",
              "    <tr>\n",
              "      <th>1</th>\n",
              "      <td>2</td>\n",
              "      <td>other</td>\n",
              "    </tr>\n",
              "    <tr>\n",
              "      <th>2</th>\n",
              "      <td>3</td>\n",
              "      <td>bakery</td>\n",
              "    </tr>\n",
              "    <tr>\n",
              "      <th>3</th>\n",
              "      <td>4</td>\n",
              "      <td>produce</td>\n",
              "    </tr>\n",
              "    <tr>\n",
              "      <th>4</th>\n",
              "      <td>5</td>\n",
              "      <td>alcohol</td>\n",
              "    </tr>\n",
              "    <tr>\n",
              "      <th>5</th>\n",
              "      <td>6</td>\n",
              "      <td>international</td>\n",
              "    </tr>\n",
              "    <tr>\n",
              "      <th>6</th>\n",
              "      <td>7</td>\n",
              "      <td>beverages</td>\n",
              "    </tr>\n",
              "    <tr>\n",
              "      <th>7</th>\n",
              "      <td>8</td>\n",
              "      <td>pets</td>\n",
              "    </tr>\n",
              "    <tr>\n",
              "      <th>8</th>\n",
              "      <td>9</td>\n",
              "      <td>dry goods pasta</td>\n",
              "    </tr>\n",
              "    <tr>\n",
              "      <th>9</th>\n",
              "      <td>10</td>\n",
              "      <td>bulk</td>\n",
              "    </tr>\n",
              "    <tr>\n",
              "      <th>10</th>\n",
              "      <td>11</td>\n",
              "      <td>personal care</td>\n",
              "    </tr>\n",
              "    <tr>\n",
              "      <th>11</th>\n",
              "      <td>12</td>\n",
              "      <td>meat seafood</td>\n",
              "    </tr>\n",
              "    <tr>\n",
              "      <th>12</th>\n",
              "      <td>13</td>\n",
              "      <td>pantry</td>\n",
              "    </tr>\n",
              "    <tr>\n",
              "      <th>13</th>\n",
              "      <td>14</td>\n",
              "      <td>breakfast</td>\n",
              "    </tr>\n",
              "    <tr>\n",
              "      <th>14</th>\n",
              "      <td>15</td>\n",
              "      <td>canned goods</td>\n",
              "    </tr>\n",
              "    <tr>\n",
              "      <th>15</th>\n",
              "      <td>16</td>\n",
              "      <td>dairy eggs</td>\n",
              "    </tr>\n",
              "    <tr>\n",
              "      <th>16</th>\n",
              "      <td>17</td>\n",
              "      <td>household</td>\n",
              "    </tr>\n",
              "    <tr>\n",
              "      <th>17</th>\n",
              "      <td>18</td>\n",
              "      <td>babies</td>\n",
              "    </tr>\n",
              "    <tr>\n",
              "      <th>18</th>\n",
              "      <td>19</td>\n",
              "      <td>snacks</td>\n",
              "    </tr>\n",
              "    <tr>\n",
              "      <th>19</th>\n",
              "      <td>20</td>\n",
              "      <td>deli</td>\n",
              "    </tr>\n",
              "    <tr>\n",
              "      <th>20</th>\n",
              "      <td>21</td>\n",
              "      <td>missing</td>\n",
              "    </tr>\n",
              "  </tbody>\n",
              "</table>\n",
              "</div>"
            ],
            "text/plain": [
              "    department_id       department\n",
              "0               1           frozen\n",
              "1               2            other\n",
              "2               3           bakery\n",
              "3               4          produce\n",
              "4               5          alcohol\n",
              "5               6    international\n",
              "6               7        beverages\n",
              "7               8             pets\n",
              "8               9  dry goods pasta\n",
              "9              10             bulk\n",
              "10             11    personal care\n",
              "11             12     meat seafood\n",
              "12             13           pantry\n",
              "13             14        breakfast\n",
              "14             15     canned goods\n",
              "15             16       dairy eggs\n",
              "16             17        household\n",
              "17             18           babies\n",
              "18             19           snacks\n",
              "19             20             deli\n",
              "20             21          missing"
            ]
          },
          "metadata": {
            "tags": []
          },
          "execution_count": 8
        }
      ]
    },
    {
      "cell_type": "code",
      "metadata": {
        "id": "DY3EBUoX_9aL",
        "colab": {
          "base_uri": "https://localhost:8080/"
        },
        "outputId": "c94d560e-fafa-485a-a3bb-15a2d4f28961"
      },
      "source": [
        "departments.shape"
      ],
      "execution_count": 9,
      "outputs": [
        {
          "output_type": "execute_result",
          "data": {
            "text/plain": [
              "(21, 2)"
            ]
          },
          "metadata": {
            "tags": []
          },
          "execution_count": 9
        }
      ]
    },
    {
      "cell_type": "code",
      "metadata": {
        "id": "_fs-zHTk_9aL",
        "colab": {
          "base_uri": "https://localhost:8080/"
        },
        "outputId": "074468ba-7964-4470-9094-78c2253a8783"
      },
      "source": [
        "departments.nunique()"
      ],
      "execution_count": 10,
      "outputs": [
        {
          "output_type": "execute_result",
          "data": {
            "text/plain": [
              "department_id    21\n",
              "department       21\n",
              "dtype: int64"
            ]
          },
          "metadata": {
            "tags": []
          },
          "execution_count": 10
        }
      ]
    },
    {
      "cell_type": "code",
      "metadata": {
        "id": "bZIsK9Kz_9aL",
        "scrolled": true,
        "colab": {
          "base_uri": "https://localhost:8080/",
          "height": 204
        },
        "outputId": "e38d76fd-2cdc-464f-ceb9-726874c1a702"
      },
      "source": [
        "#check products information\n",
        "products.head()"
      ],
      "execution_count": 11,
      "outputs": [
        {
          "output_type": "execute_result",
          "data": {
            "text/html": [
              "<div>\n",
              "<style scoped>\n",
              "    .dataframe tbody tr th:only-of-type {\n",
              "        vertical-align: middle;\n",
              "    }\n",
              "\n",
              "    .dataframe tbody tr th {\n",
              "        vertical-align: top;\n",
              "    }\n",
              "\n",
              "    .dataframe thead th {\n",
              "        text-align: right;\n",
              "    }\n",
              "</style>\n",
              "<table border=\"1\" class=\"dataframe\">\n",
              "  <thead>\n",
              "    <tr style=\"text-align: right;\">\n",
              "      <th></th>\n",
              "      <th>product_id</th>\n",
              "      <th>product_name</th>\n",
              "      <th>aisle_id</th>\n",
              "      <th>department_id</th>\n",
              "    </tr>\n",
              "  </thead>\n",
              "  <tbody>\n",
              "    <tr>\n",
              "      <th>0</th>\n",
              "      <td>1</td>\n",
              "      <td>Chocolate Sandwich Cookies</td>\n",
              "      <td>61</td>\n",
              "      <td>19</td>\n",
              "    </tr>\n",
              "    <tr>\n",
              "      <th>1</th>\n",
              "      <td>2</td>\n",
              "      <td>All-Seasons Salt</td>\n",
              "      <td>104</td>\n",
              "      <td>13</td>\n",
              "    </tr>\n",
              "    <tr>\n",
              "      <th>2</th>\n",
              "      <td>3</td>\n",
              "      <td>Robust Golden Unsweetened Oolong Tea</td>\n",
              "      <td>94</td>\n",
              "      <td>7</td>\n",
              "    </tr>\n",
              "    <tr>\n",
              "      <th>3</th>\n",
              "      <td>4</td>\n",
              "      <td>Smart Ones Classic Favorites Mini Rigatoni Wit...</td>\n",
              "      <td>38</td>\n",
              "      <td>1</td>\n",
              "    </tr>\n",
              "    <tr>\n",
              "      <th>4</th>\n",
              "      <td>5</td>\n",
              "      <td>Green Chile Anytime Sauce</td>\n",
              "      <td>5</td>\n",
              "      <td>13</td>\n",
              "    </tr>\n",
              "  </tbody>\n",
              "</table>\n",
              "</div>"
            ],
            "text/plain": [
              "   product_id  ... department_id\n",
              "0           1  ...            19\n",
              "1           2  ...            13\n",
              "2           3  ...             7\n",
              "3           4  ...             1\n",
              "4           5  ...            13\n",
              "\n",
              "[5 rows x 4 columns]"
            ]
          },
          "metadata": {
            "tags": []
          },
          "execution_count": 11
        }
      ]
    },
    {
      "cell_type": "code",
      "metadata": {
        "id": "DhFup0zZ_9aM",
        "colab": {
          "base_uri": "https://localhost:8080/"
        },
        "outputId": "ebb89835-3ffe-4bff-c2aa-730e66396d03"
      },
      "source": [
        "products.shape"
      ],
      "execution_count": 12,
      "outputs": [
        {
          "output_type": "execute_result",
          "data": {
            "text/plain": [
              "(49688, 4)"
            ]
          },
          "metadata": {
            "tags": []
          },
          "execution_count": 12
        }
      ]
    },
    {
      "cell_type": "code",
      "metadata": {
        "id": "JOYSGC3L_9aM",
        "colab": {
          "base_uri": "https://localhost:8080/"
        },
        "outputId": "c839c646-3540-42ba-fdf4-14a25a8612c9"
      },
      "source": [
        "products.nunique()"
      ],
      "execution_count": 13,
      "outputs": [
        {
          "output_type": "execute_result",
          "data": {
            "text/plain": [
              "product_id       49688\n",
              "product_name     49688\n",
              "aisle_id           134\n",
              "department_id       21\n",
              "dtype: int64"
            ]
          },
          "metadata": {
            "tags": []
          },
          "execution_count": 13
        }
      ]
    },
    {
      "cell_type": "code",
      "metadata": {
        "id": "3PygH3SZ_9aM",
        "colab": {
          "base_uri": "https://localhost:8080/",
          "height": 514
        },
        "outputId": "b92d9f4a-183c-4aee-a3cd-e66ed4030bea"
      },
      "source": [
        "#check orders information\n",
        "#There has the days_since_prior_order = NAN and the order_number so this is the first order\n",
        "orders.head(15)"
      ],
      "execution_count": 14,
      "outputs": [
        {
          "output_type": "execute_result",
          "data": {
            "text/html": [
              "<div>\n",
              "<style scoped>\n",
              "    .dataframe tbody tr th:only-of-type {\n",
              "        vertical-align: middle;\n",
              "    }\n",
              "\n",
              "    .dataframe tbody tr th {\n",
              "        vertical-align: top;\n",
              "    }\n",
              "\n",
              "    .dataframe thead th {\n",
              "        text-align: right;\n",
              "    }\n",
              "</style>\n",
              "<table border=\"1\" class=\"dataframe\">\n",
              "  <thead>\n",
              "    <tr style=\"text-align: right;\">\n",
              "      <th></th>\n",
              "      <th>order_id</th>\n",
              "      <th>user_id</th>\n",
              "      <th>eval_set</th>\n",
              "      <th>order_number</th>\n",
              "      <th>order_dow</th>\n",
              "      <th>order_hour_of_day</th>\n",
              "      <th>days_since_prior_order</th>\n",
              "    </tr>\n",
              "  </thead>\n",
              "  <tbody>\n",
              "    <tr>\n",
              "      <th>0</th>\n",
              "      <td>2539329</td>\n",
              "      <td>1</td>\n",
              "      <td>prior</td>\n",
              "      <td>1</td>\n",
              "      <td>2</td>\n",
              "      <td>8</td>\n",
              "      <td>NaN</td>\n",
              "    </tr>\n",
              "    <tr>\n",
              "      <th>1</th>\n",
              "      <td>2398795</td>\n",
              "      <td>1</td>\n",
              "      <td>prior</td>\n",
              "      <td>2</td>\n",
              "      <td>3</td>\n",
              "      <td>7</td>\n",
              "      <td>15.0</td>\n",
              "    </tr>\n",
              "    <tr>\n",
              "      <th>2</th>\n",
              "      <td>473747</td>\n",
              "      <td>1</td>\n",
              "      <td>prior</td>\n",
              "      <td>3</td>\n",
              "      <td>3</td>\n",
              "      <td>12</td>\n",
              "      <td>21.0</td>\n",
              "    </tr>\n",
              "    <tr>\n",
              "      <th>3</th>\n",
              "      <td>2254736</td>\n",
              "      <td>1</td>\n",
              "      <td>prior</td>\n",
              "      <td>4</td>\n",
              "      <td>4</td>\n",
              "      <td>7</td>\n",
              "      <td>29.0</td>\n",
              "    </tr>\n",
              "    <tr>\n",
              "      <th>4</th>\n",
              "      <td>431534</td>\n",
              "      <td>1</td>\n",
              "      <td>prior</td>\n",
              "      <td>5</td>\n",
              "      <td>4</td>\n",
              "      <td>15</td>\n",
              "      <td>28.0</td>\n",
              "    </tr>\n",
              "    <tr>\n",
              "      <th>5</th>\n",
              "      <td>3367565</td>\n",
              "      <td>1</td>\n",
              "      <td>prior</td>\n",
              "      <td>6</td>\n",
              "      <td>2</td>\n",
              "      <td>7</td>\n",
              "      <td>19.0</td>\n",
              "    </tr>\n",
              "    <tr>\n",
              "      <th>6</th>\n",
              "      <td>550135</td>\n",
              "      <td>1</td>\n",
              "      <td>prior</td>\n",
              "      <td>7</td>\n",
              "      <td>1</td>\n",
              "      <td>9</td>\n",
              "      <td>20.0</td>\n",
              "    </tr>\n",
              "    <tr>\n",
              "      <th>7</th>\n",
              "      <td>3108588</td>\n",
              "      <td>1</td>\n",
              "      <td>prior</td>\n",
              "      <td>8</td>\n",
              "      <td>1</td>\n",
              "      <td>14</td>\n",
              "      <td>14.0</td>\n",
              "    </tr>\n",
              "    <tr>\n",
              "      <th>8</th>\n",
              "      <td>2295261</td>\n",
              "      <td>1</td>\n",
              "      <td>prior</td>\n",
              "      <td>9</td>\n",
              "      <td>1</td>\n",
              "      <td>16</td>\n",
              "      <td>0.0</td>\n",
              "    </tr>\n",
              "    <tr>\n",
              "      <th>9</th>\n",
              "      <td>2550362</td>\n",
              "      <td>1</td>\n",
              "      <td>prior</td>\n",
              "      <td>10</td>\n",
              "      <td>4</td>\n",
              "      <td>8</td>\n",
              "      <td>30.0</td>\n",
              "    </tr>\n",
              "    <tr>\n",
              "      <th>10</th>\n",
              "      <td>1187899</td>\n",
              "      <td>1</td>\n",
              "      <td>train</td>\n",
              "      <td>11</td>\n",
              "      <td>4</td>\n",
              "      <td>8</td>\n",
              "      <td>14.0</td>\n",
              "    </tr>\n",
              "    <tr>\n",
              "      <th>11</th>\n",
              "      <td>2168274</td>\n",
              "      <td>2</td>\n",
              "      <td>prior</td>\n",
              "      <td>1</td>\n",
              "      <td>2</td>\n",
              "      <td>11</td>\n",
              "      <td>NaN</td>\n",
              "    </tr>\n",
              "    <tr>\n",
              "      <th>12</th>\n",
              "      <td>1501582</td>\n",
              "      <td>2</td>\n",
              "      <td>prior</td>\n",
              "      <td>2</td>\n",
              "      <td>5</td>\n",
              "      <td>10</td>\n",
              "      <td>10.0</td>\n",
              "    </tr>\n",
              "    <tr>\n",
              "      <th>13</th>\n",
              "      <td>1901567</td>\n",
              "      <td>2</td>\n",
              "      <td>prior</td>\n",
              "      <td>3</td>\n",
              "      <td>1</td>\n",
              "      <td>10</td>\n",
              "      <td>3.0</td>\n",
              "    </tr>\n",
              "    <tr>\n",
              "      <th>14</th>\n",
              "      <td>738281</td>\n",
              "      <td>2</td>\n",
              "      <td>prior</td>\n",
              "      <td>4</td>\n",
              "      <td>2</td>\n",
              "      <td>10</td>\n",
              "      <td>8.0</td>\n",
              "    </tr>\n",
              "  </tbody>\n",
              "</table>\n",
              "</div>"
            ],
            "text/plain": [
              "    order_id  user_id  ... order_hour_of_day  days_since_prior_order\n",
              "0    2539329        1  ...                 8                     NaN\n",
              "1    2398795        1  ...                 7                    15.0\n",
              "2     473747        1  ...                12                    21.0\n",
              "3    2254736        1  ...                 7                    29.0\n",
              "4     431534        1  ...                15                    28.0\n",
              "5    3367565        1  ...                 7                    19.0\n",
              "6     550135        1  ...                 9                    20.0\n",
              "7    3108588        1  ...                14                    14.0\n",
              "8    2295261        1  ...                16                     0.0\n",
              "9    2550362        1  ...                 8                    30.0\n",
              "10   1187899        1  ...                 8                    14.0\n",
              "11   2168274        2  ...                11                     NaN\n",
              "12   1501582        2  ...                10                    10.0\n",
              "13   1901567        2  ...                10                     3.0\n",
              "14    738281        2  ...                10                     8.0\n",
              "\n",
              "[15 rows x 7 columns]"
            ]
          },
          "metadata": {
            "tags": []
          },
          "execution_count": 14
        }
      ]
    },
    {
      "cell_type": "code",
      "metadata": {
        "id": "MKkNwnvw_9aM",
        "scrolled": true,
        "colab": {
          "base_uri": "https://localhost:8080/"
        },
        "outputId": "bf4b4c7a-7797-4f71-971f-cf841a2a7016"
      },
      "source": [
        "orders.shape"
      ],
      "execution_count": 15,
      "outputs": [
        {
          "output_type": "execute_result",
          "data": {
            "text/plain": [
              "(3421083, 7)"
            ]
          },
          "metadata": {
            "tags": []
          },
          "execution_count": 15
        }
      ]
    },
    {
      "cell_type": "code",
      "metadata": {
        "id": "PnUuAaWN_9aM",
        "colab": {
          "base_uri": "https://localhost:8080/",
          "height": 359
        },
        "outputId": "4bc3f982-36fc-4190-ebcd-d8660ae127e5"
      },
      "source": [
        "#This is all the users' first order\n",
        "orders.loc[orders.days_since_prior_order.isnull()].head(10)"
      ],
      "execution_count": 16,
      "outputs": [
        {
          "output_type": "execute_result",
          "data": {
            "text/html": [
              "<div>\n",
              "<style scoped>\n",
              "    .dataframe tbody tr th:only-of-type {\n",
              "        vertical-align: middle;\n",
              "    }\n",
              "\n",
              "    .dataframe tbody tr th {\n",
              "        vertical-align: top;\n",
              "    }\n",
              "\n",
              "    .dataframe thead th {\n",
              "        text-align: right;\n",
              "    }\n",
              "</style>\n",
              "<table border=\"1\" class=\"dataframe\">\n",
              "  <thead>\n",
              "    <tr style=\"text-align: right;\">\n",
              "      <th></th>\n",
              "      <th>order_id</th>\n",
              "      <th>user_id</th>\n",
              "      <th>eval_set</th>\n",
              "      <th>order_number</th>\n",
              "      <th>order_dow</th>\n",
              "      <th>order_hour_of_day</th>\n",
              "      <th>days_since_prior_order</th>\n",
              "    </tr>\n",
              "  </thead>\n",
              "  <tbody>\n",
              "    <tr>\n",
              "      <th>0</th>\n",
              "      <td>2539329</td>\n",
              "      <td>1</td>\n",
              "      <td>prior</td>\n",
              "      <td>1</td>\n",
              "      <td>2</td>\n",
              "      <td>8</td>\n",
              "      <td>NaN</td>\n",
              "    </tr>\n",
              "    <tr>\n",
              "      <th>11</th>\n",
              "      <td>2168274</td>\n",
              "      <td>2</td>\n",
              "      <td>prior</td>\n",
              "      <td>1</td>\n",
              "      <td>2</td>\n",
              "      <td>11</td>\n",
              "      <td>NaN</td>\n",
              "    </tr>\n",
              "    <tr>\n",
              "      <th>26</th>\n",
              "      <td>1374495</td>\n",
              "      <td>3</td>\n",
              "      <td>prior</td>\n",
              "      <td>1</td>\n",
              "      <td>1</td>\n",
              "      <td>14</td>\n",
              "      <td>NaN</td>\n",
              "    </tr>\n",
              "    <tr>\n",
              "      <th>39</th>\n",
              "      <td>3343014</td>\n",
              "      <td>4</td>\n",
              "      <td>prior</td>\n",
              "      <td>1</td>\n",
              "      <td>6</td>\n",
              "      <td>11</td>\n",
              "      <td>NaN</td>\n",
              "    </tr>\n",
              "    <tr>\n",
              "      <th>45</th>\n",
              "      <td>2717275</td>\n",
              "      <td>5</td>\n",
              "      <td>prior</td>\n",
              "      <td>1</td>\n",
              "      <td>3</td>\n",
              "      <td>12</td>\n",
              "      <td>NaN</td>\n",
              "    </tr>\n",
              "    <tr>\n",
              "      <th>50</th>\n",
              "      <td>2086598</td>\n",
              "      <td>6</td>\n",
              "      <td>prior</td>\n",
              "      <td>1</td>\n",
              "      <td>5</td>\n",
              "      <td>18</td>\n",
              "      <td>NaN</td>\n",
              "    </tr>\n",
              "    <tr>\n",
              "      <th>54</th>\n",
              "      <td>2565571</td>\n",
              "      <td>7</td>\n",
              "      <td>prior</td>\n",
              "      <td>1</td>\n",
              "      <td>3</td>\n",
              "      <td>9</td>\n",
              "      <td>NaN</td>\n",
              "    </tr>\n",
              "    <tr>\n",
              "      <th>75</th>\n",
              "      <td>600894</td>\n",
              "      <td>8</td>\n",
              "      <td>prior</td>\n",
              "      <td>1</td>\n",
              "      <td>6</td>\n",
              "      <td>0</td>\n",
              "      <td>NaN</td>\n",
              "    </tr>\n",
              "    <tr>\n",
              "      <th>79</th>\n",
              "      <td>280530</td>\n",
              "      <td>9</td>\n",
              "      <td>prior</td>\n",
              "      <td>1</td>\n",
              "      <td>1</td>\n",
              "      <td>17</td>\n",
              "      <td>NaN</td>\n",
              "    </tr>\n",
              "    <tr>\n",
              "      <th>83</th>\n",
              "      <td>1224907</td>\n",
              "      <td>10</td>\n",
              "      <td>prior</td>\n",
              "      <td>1</td>\n",
              "      <td>2</td>\n",
              "      <td>14</td>\n",
              "      <td>NaN</td>\n",
              "    </tr>\n",
              "  </tbody>\n",
              "</table>\n",
              "</div>"
            ],
            "text/plain": [
              "    order_id  user_id  ... order_hour_of_day  days_since_prior_order\n",
              "0    2539329        1  ...                 8                     NaN\n",
              "11   2168274        2  ...                11                     NaN\n",
              "26   1374495        3  ...                14                     NaN\n",
              "39   3343014        4  ...                11                     NaN\n",
              "45   2717275        5  ...                12                     NaN\n",
              "50   2086598        6  ...                18                     NaN\n",
              "54   2565571        7  ...                 9                     NaN\n",
              "75    600894        8  ...                 0                     NaN\n",
              "79    280530        9  ...                17                     NaN\n",
              "83   1224907       10  ...                14                     NaN\n",
              "\n",
              "[10 rows x 7 columns]"
            ]
          },
          "metadata": {
            "tags": []
          },
          "execution_count": 16
        }
      ]
    },
    {
      "cell_type": "code",
      "metadata": {
        "id": "extAwMDv_9aM",
        "colab": {
          "base_uri": "https://localhost:8080/"
        },
        "outputId": "9a79e47f-a1f2-498d-9287-9ca41c4bd719"
      },
      "source": [
        "orders.nunique()"
      ],
      "execution_count": 17,
      "outputs": [
        {
          "output_type": "execute_result",
          "data": {
            "text/plain": [
              "order_id                  3421083\n",
              "user_id                    206209\n",
              "eval_set                        3\n",
              "order_number                  100\n",
              "order_dow                       7\n",
              "order_hour_of_day              24\n",
              "days_since_prior_order         31\n",
              "dtype: int64"
            ]
          },
          "metadata": {
            "tags": []
          },
          "execution_count": 17
        }
      ]
    },
    {
      "cell_type": "code",
      "metadata": {
        "id": "E9JFCand_9aN",
        "colab": {
          "base_uri": "https://localhost:8080/",
          "height": 297
        },
        "outputId": "a65f2790-4276-4bae-add8-b5d3eb917ae7"
      },
      "source": [
        "#order per day/week and hour/ day \n",
        "orders[['order_dow','order_hour_of_day']].describe()"
      ],
      "execution_count": 18,
      "outputs": [
        {
          "output_type": "execute_result",
          "data": {
            "text/html": [
              "<div>\n",
              "<style scoped>\n",
              "    .dataframe tbody tr th:only-of-type {\n",
              "        vertical-align: middle;\n",
              "    }\n",
              "\n",
              "    .dataframe tbody tr th {\n",
              "        vertical-align: top;\n",
              "    }\n",
              "\n",
              "    .dataframe thead th {\n",
              "        text-align: right;\n",
              "    }\n",
              "</style>\n",
              "<table border=\"1\" class=\"dataframe\">\n",
              "  <thead>\n",
              "    <tr style=\"text-align: right;\">\n",
              "      <th></th>\n",
              "      <th>order_dow</th>\n",
              "      <th>order_hour_of_day</th>\n",
              "    </tr>\n",
              "  </thead>\n",
              "  <tbody>\n",
              "    <tr>\n",
              "      <th>count</th>\n",
              "      <td>3.421083e+06</td>\n",
              "      <td>3.421083e+06</td>\n",
              "    </tr>\n",
              "    <tr>\n",
              "      <th>mean</th>\n",
              "      <td>2.776219e+00</td>\n",
              "      <td>1.345202e+01</td>\n",
              "    </tr>\n",
              "    <tr>\n",
              "      <th>std</th>\n",
              "      <td>2.046829e+00</td>\n",
              "      <td>4.226088e+00</td>\n",
              "    </tr>\n",
              "    <tr>\n",
              "      <th>min</th>\n",
              "      <td>0.000000e+00</td>\n",
              "      <td>0.000000e+00</td>\n",
              "    </tr>\n",
              "    <tr>\n",
              "      <th>25%</th>\n",
              "      <td>1.000000e+00</td>\n",
              "      <td>1.000000e+01</td>\n",
              "    </tr>\n",
              "    <tr>\n",
              "      <th>50%</th>\n",
              "      <td>3.000000e+00</td>\n",
              "      <td>1.300000e+01</td>\n",
              "    </tr>\n",
              "    <tr>\n",
              "      <th>75%</th>\n",
              "      <td>5.000000e+00</td>\n",
              "      <td>1.600000e+01</td>\n",
              "    </tr>\n",
              "    <tr>\n",
              "      <th>max</th>\n",
              "      <td>6.000000e+00</td>\n",
              "      <td>2.300000e+01</td>\n",
              "    </tr>\n",
              "  </tbody>\n",
              "</table>\n",
              "</div>"
            ],
            "text/plain": [
              "          order_dow  order_hour_of_day\n",
              "count  3.421083e+06       3.421083e+06\n",
              "mean   2.776219e+00       1.345202e+01\n",
              "std    2.046829e+00       4.226088e+00\n",
              "min    0.000000e+00       0.000000e+00\n",
              "25%    1.000000e+00       1.000000e+01\n",
              "50%    3.000000e+00       1.300000e+01\n",
              "75%    5.000000e+00       1.600000e+01\n",
              "max    6.000000e+00       2.300000e+01"
            ]
          },
          "metadata": {
            "tags": []
          },
          "execution_count": 18
        }
      ]
    },
    {
      "cell_type": "code",
      "metadata": {
        "id": "ea9vtVDXZsK2",
        "colab": {
          "base_uri": "https://localhost:8080/",
          "height": 351
        },
        "outputId": "a0de83df-0f20-4748-9b92-fa2e63adc829"
      },
      "source": [
        "color = sns.color_palette()\n",
        "plt.figure(figsize=(10,5))\n",
        "sns.countplot(x='order_dow',data=orders,color =color[0])\n",
        "plt.ylabel('Count',fontsize=12)\n",
        "plt.xlabel('Day of Week',fontsize=12)\n",
        "plt.xticks(rotation='vertical')\n",
        "plt.title(\"Frequency of order by day of week\",fontsize=15)\n",
        "#Sunday is the most orders date\n",
        "plt.show()"
      ],
      "execution_count": 19,
      "outputs": [
        {
          "output_type": "display_data",
          "data": {
            "image/png": "[encoded data removed]",
            "text/plain": [
              "<Figure size 720x360 with 1 Axes>"
            ]
          },
          "metadata": {
            "tags": [],
            "needs_background": "light"
          }
        }
      ]
    },
    {
      "cell_type": "code",
      "metadata": {
        "id": "3xT27WqK_9aN",
        "scrolled": true,
        "colab": {
          "base_uri": "https://localhost:8080/",
          "height": 336
        },
        "outputId": "99c2b7a7-9fc8-4e6e-8177-f93004764e09"
      },
      "source": [
        "order_num_info=orders.groupby(\"user_id\")[\"order_number\"].agg(np.max).reset_index()\n",
        "order_num_info_data=order_num_info.order_number.value_counts()\n",
        "plt.figure(figsize=(20,5))\n",
        "#The minium items in per order is 4 and the maxium items is 100\n",
        "sns.barplot(order_num_info_data.index,order_num_info_data.values)\n",
        "plt.show()"
      ],
      "execution_count": 20,
      "outputs": [
        {
          "output_type": "stream",
          "text": [
            "/usr/local/lib/python3.6/dist-packages/seaborn/_decorators.py:43: FutureWarning: Pass the following variables as keyword args: x, y. From version 0.12, the only valid positional argument will be `data`, and passing other arguments without an explicit keyword will result in an error or misinterpretation.\n",
            "  FutureWarning\n"
          ],
          "name": "stderr"
        },
        {
          "output_type": "display_data",
          "data": {
            "image/png": "[encoded data removed]",
            "text/plain": [
              "<Figure size 1440x360 with 1 Axes>"
            ]
          },
          "metadata": {
            "tags": [],
            "needs_background": "light"
          }
        }
      ]
    },
    {
      "cell_type": "code",
      "metadata": {
        "id": "Wxy3hCaZ_9aN",
        "colab": {
          "base_uri": "https://localhost:8080/"
        },
        "outputId": "fb5ba296-a0b2-47a7-a122-53b5e237e496"
      },
      "source": [
        "orders['eval_set'].value_counts()"
      ],
      "execution_count": 21,
      "outputs": [
        {
          "output_type": "execute_result",
          "data": {
            "text/plain": [
              "prior    3214874\n",
              "train     131209\n",
              "test       75000\n",
              "Name: eval_set, dtype: int64"
            ]
          },
          "metadata": {
            "tags": []
          },
          "execution_count": 21
        }
      ]
    },
    {
      "cell_type": "code",
      "metadata": {
        "id": "auoyhgrVaRWy",
        "colab": {
          "base_uri": "https://localhost:8080/",
          "height": 348
        },
        "outputId": "43edb3ab-096b-49bc-f761-738b4923afd7"
      },
      "source": [
        "color = sns.color_palette()\n",
        "type(orders['eval_set'].value_counts())#series\n",
        "eval_set_info=orders['eval_set'].value_counts()\n",
        "plt.figure(figsize=(10,5))\n",
        "plt.bar(eval_set_info.index,eval_set_info.values,color=color[0],alpha=0.8)"
      ],
      "execution_count": 22,
      "outputs": [
        {
          "output_type": "execute_result",
          "data": {
            "text/plain": [
              "<BarContainer object of 3 artists>"
            ]
          },
          "metadata": {
            "tags": []
          },
          "execution_count": 22
        },
        {
          "output_type": "display_data",
          "data": {
            "image/png": "[encoded data removed]",
            "text/plain": [
              "<Figure size 720x360 with 1 Axes>"
            ]
          },
          "metadata": {
            "tags": [],
            "needs_background": "light"
          }
        }
      ]
    },
    {
      "cell_type": "code",
      "metadata": {
        "id": "ddLmO4vn_9aO",
        "colab": {
          "base_uri": "https://localhost:8080/"
        },
        "outputId": "4bc450e4-33c8-4b9d-8f26-f9118eb2e3b2"
      },
      "source": [
        "orders['order_number_max'] = orders.groupby('user_id')['order_number'].transform('max').values\n",
        "orders.loc[orders.order_number!=orders.order_number_max,'eval_set'].value_counts()"
      ],
      "execution_count": 23,
      "outputs": [
        {
          "output_type": "execute_result",
          "data": {
            "text/plain": [
              "prior    3214874\n",
              "Name: eval_set, dtype: int64"
            ]
          },
          "metadata": {
            "tags": []
          },
          "execution_count": 23
        }
      ]
    },
    {
      "cell_type": "code",
      "metadata": {
        "id": "q1JFj_Rh_9aO",
        "colab": {
          "base_uri": "https://localhost:8080/"
        },
        "outputId": "4fc3dd7f-7d16-4512-b47d-99fa00e83a8a"
      },
      "source": [
        "orders.loc[orders.order_number==orders.order_number_max,'eval_set'].value_counts()"
      ],
      "execution_count": 24,
      "outputs": [
        {
          "output_type": "execute_result",
          "data": {
            "text/plain": [
              "train    131209\n",
              "test      75000\n",
              "Name: eval_set, dtype: int64"
            ]
          },
          "metadata": {
            "tags": []
          },
          "execution_count": 24
        }
      ]
    },
    {
      "cell_type": "markdown",
      "metadata": {
        "id": "CWInXP0O_9aO"
      },
      "source": [
        "### order_products__prior.csv\n"
      ]
    },
    {
      "cell_type": "code",
      "metadata": {
        "id": "IVV4lWlQ_9aO",
        "scrolled": true,
        "colab": {
          "base_uri": "https://localhost:8080/",
          "height": 204
        },
        "outputId": "153e4dbf-8ec6-4cca-8b3c-3dfcba1d1aae"
      },
      "source": [
        "order_products__prior.head()"
      ],
      "execution_count": 25,
      "outputs": [
        {
          "output_type": "execute_result",
          "data": {
            "text/html": [
              "<div>\n",
              "<style scoped>\n",
              "    .dataframe tbody tr th:only-of-type {\n",
              "        vertical-align: middle;\n",
              "    }\n",
              "\n",
              "    .dataframe tbody tr th {\n",
              "        vertical-align: top;\n",
              "    }\n",
              "\n",
              "    .dataframe thead th {\n",
              "        text-align: right;\n",
              "    }\n",
              "</style>\n",
              "<table border=\"1\" class=\"dataframe\">\n",
              "  <thead>\n",
              "    <tr style=\"text-align: right;\">\n",
              "      <th></th>\n",
              "      <th>order_id</th>\n",
              "      <th>product_id</th>\n",
              "      <th>add_to_cart_order</th>\n",
              "      <th>reordered</th>\n",
              "    </tr>\n",
              "  </thead>\n",
              "  <tbody>\n",
              "    <tr>\n",
              "      <th>0</th>\n",
              "      <td>2</td>\n",
              "      <td>33120</td>\n",
              "      <td>1</td>\n",
              "      <td>1</td>\n",
              "    </tr>\n",
              "    <tr>\n",
              "      <th>1</th>\n",
              "      <td>2</td>\n",
              "      <td>28985</td>\n",
              "      <td>2</td>\n",
              "      <td>1</td>\n",
              "    </tr>\n",
              "    <tr>\n",
              "      <th>2</th>\n",
              "      <td>2</td>\n",
              "      <td>9327</td>\n",
              "      <td>3</td>\n",
              "      <td>0</td>\n",
              "    </tr>\n",
              "    <tr>\n",
              "      <th>3</th>\n",
              "      <td>2</td>\n",
              "      <td>45918</td>\n",
              "      <td>4</td>\n",
              "      <td>1</td>\n",
              "    </tr>\n",
              "    <tr>\n",
              "      <th>4</th>\n",
              "      <td>2</td>\n",
              "      <td>30035</td>\n",
              "      <td>5</td>\n",
              "      <td>0</td>\n",
              "    </tr>\n",
              "  </tbody>\n",
              "</table>\n",
              "</div>"
            ],
            "text/plain": [
              "   order_id  product_id  add_to_cart_order  reordered\n",
              "0         2       33120                  1          1\n",
              "1         2       28985                  2          1\n",
              "2         2        9327                  3          0\n",
              "3         2       45918                  4          1\n",
              "4         2       30035                  5          0"
            ]
          },
          "metadata": {
            "tags": []
          },
          "execution_count": 25
        }
      ]
    },
    {
      "cell_type": "code",
      "metadata": {
        "id": "OKTz17iZ_9aO",
        "colab": {
          "base_uri": "https://localhost:8080/"
        },
        "outputId": "864885fd-adb2-4858-abcd-ada60e1c3829"
      },
      "source": [
        "order_products__prior.shape"
      ],
      "execution_count": 26,
      "outputs": [
        {
          "output_type": "execute_result",
          "data": {
            "text/plain": [
              "(32434489, 4)"
            ]
          },
          "metadata": {
            "tags": []
          },
          "execution_count": 26
        }
      ]
    },
    {
      "cell_type": "code",
      "metadata": {
        "id": "JD2YvIfa_9aO",
        "colab": {
          "base_uri": "https://localhost:8080/"
        },
        "outputId": "65b49cff-9199-4870-e293-53d5c297a78f"
      },
      "source": [
        "order_products__prior.nunique()"
      ],
      "execution_count": 27,
      "outputs": [
        {
          "output_type": "execute_result",
          "data": {
            "text/plain": [
              "order_id             3214874\n",
              "product_id             49677\n",
              "add_to_cart_order        145\n",
              "reordered                  2\n",
              "dtype: int64"
            ]
          },
          "metadata": {
            "tags": []
          },
          "execution_count": 27
        }
      ]
    },
    {
      "cell_type": "code",
      "metadata": {
        "id": "wZ57nqVs_9aO",
        "colab": {
          "base_uri": "https://localhost:8080/"
        },
        "outputId": "a98aa697-a3ed-46ef-abb7-0290bfe38f0a"
      },
      "source": [
        "#reordered product is 59%\n",
        "order_products__prior['reordered'].mean()"
      ],
      "execution_count": 28,
      "outputs": [
        {
          "output_type": "execute_result",
          "data": {
            "text/plain": [
              "0.5896974667922161"
            ]
          },
          "metadata": {
            "tags": []
          },
          "execution_count": 28
        }
      ]
    },
    {
      "cell_type": "code",
      "metadata": {
        "id": "tMU8JtVh_9aP",
        "scrolled": true,
        "colab": {
          "base_uri": "https://localhost:8080/"
        },
        "outputId": "87ff2c69-d4a9-49f9-8b8f-8b1ec66427b3"
      },
      "source": [
        "order_products__prior['add_to_cart_order'].value_counts()"
      ],
      "execution_count": 29,
      "outputs": [
        {
          "output_type": "execute_result",
          "data": {
            "text/plain": [
              "1      3214874\n",
              "2      3058126\n",
              "3      2871133\n",
              "4      2664106\n",
              "5      2442025\n",
              "        ...   \n",
              "144          1\n",
              "140          1\n",
              "139          1\n",
              "138          1\n",
              "145          1\n",
              "Name: add_to_cart_order, Length: 145, dtype: int64"
            ]
          },
          "metadata": {
            "tags": []
          },
          "execution_count": 29
        }
      ]
    },
    {
      "cell_type": "code",
      "metadata": {
        "id": "C1sxefGj_9aP",
        "colab": {
          "base_uri": "https://localhost:8080/",
          "height": 204
        },
        "outputId": "5967ed9f-fd27-4b03-ace0-24f92c7d36e4"
      },
      "source": [
        "tmp = pd.DataFrame(order_products__prior['add_to_cart_order'].value_counts().sort_index())\n",
        "tmp.head()"
      ],
      "execution_count": 30,
      "outputs": [
        {
          "output_type": "execute_result",
          "data": {
            "text/html": [
              "<div>\n",
              "<style scoped>\n",
              "    .dataframe tbody tr th:only-of-type {\n",
              "        vertical-align: middle;\n",
              "    }\n",
              "\n",
              "    .dataframe tbody tr th {\n",
              "        vertical-align: top;\n",
              "    }\n",
              "\n",
              "    .dataframe thead th {\n",
              "        text-align: right;\n",
              "    }\n",
              "</style>\n",
              "<table border=\"1\" class=\"dataframe\">\n",
              "  <thead>\n",
              "    <tr style=\"text-align: right;\">\n",
              "      <th></th>\n",
              "      <th>add_to_cart_order</th>\n",
              "    </tr>\n",
              "  </thead>\n",
              "  <tbody>\n",
              "    <tr>\n",
              "      <th>1</th>\n",
              "      <td>3214874</td>\n",
              "    </tr>\n",
              "    <tr>\n",
              "      <th>2</th>\n",
              "      <td>3058126</td>\n",
              "    </tr>\n",
              "    <tr>\n",
              "      <th>3</th>\n",
              "      <td>2871133</td>\n",
              "    </tr>\n",
              "    <tr>\n",
              "      <th>4</th>\n",
              "      <td>2664106</td>\n",
              "    </tr>\n",
              "    <tr>\n",
              "      <th>5</th>\n",
              "      <td>2442025</td>\n",
              "    </tr>\n",
              "  </tbody>\n",
              "</table>\n",
              "</div>"
            ],
            "text/plain": [
              "   add_to_cart_order\n",
              "1            3214874\n",
              "2            3058126\n",
              "3            2871133\n",
              "4            2664106\n",
              "5            2442025"
            ]
          },
          "metadata": {
            "tags": []
          },
          "execution_count": 30
        }
      ]
    },
    {
      "cell_type": "code",
      "metadata": {
        "id": "9dmK1zaz_9aP",
        "scrolled": true,
        "colab": {
          "base_uri": "https://localhost:8080/",
          "height": 202
        },
        "outputId": "7395277a-6e21-41ba-dce0-c2110fac5200"
      },
      "source": [
        "#draw\n",
        "tmp = pd.DataFrame(order_products__prior['add_to_cart_order'].value_counts().sort_index())\n",
        "plt.figure(figsize=(45,7))\n",
        "sns.barplot(x = tmp.index.values, y =tmp.values[:,0])"
      ],
      "execution_count": 31,
      "outputs": [
        {
          "output_type": "execute_result",
          "data": {
            "text/plain": [
              "<matplotlib.axes._subplots.AxesSubplot at 0x7f3c38f033c8>"
            ]
          },
          "metadata": {
            "tags": []
          },
          "execution_count": 31
        },
        {
          "output_type": "display_data",
          "data": {
            "image/png": "[encoded data removed]",
            "text/plain": [
              "<Figure size 3240x504 with 1 Axes>"
            ]
          },
          "metadata": {
            "tags": [],
            "needs_background": "light"
          }
        }
      ]
    },
    {
      "cell_type": "markdown",
      "metadata": {
        "id": "KU_UD890_9aP"
      },
      "source": [
        "### order_products__train.csv\n",
        "\n"
      ]
    },
    {
      "cell_type": "code",
      "metadata": {
        "id": "dJ3Gx1ZT_9aP",
        "colab": {
          "base_uri": "https://localhost:8080/",
          "height": 204
        },
        "outputId": "5ec9dbb7-9e01-4624-f4d0-cb737170a777"
      },
      "source": [
        "order_products__train.head()"
      ],
      "execution_count": 32,
      "outputs": [
        {
          "output_type": "execute_result",
          "data": {
            "text/html": [
              "<div>\n",
              "<style scoped>\n",
              "    .dataframe tbody tr th:only-of-type {\n",
              "        vertical-align: middle;\n",
              "    }\n",
              "\n",
              "    .dataframe tbody tr th {\n",
              "        vertical-align: top;\n",
              "    }\n",
              "\n",
              "    .dataframe thead th {\n",
              "        text-align: right;\n",
              "    }\n",
              "</style>\n",
              "<table border=\"1\" class=\"dataframe\">\n",
              "  <thead>\n",
              "    <tr style=\"text-align: right;\">\n",
              "      <th></th>\n",
              "      <th>order_id</th>\n",
              "      <th>product_id</th>\n",
              "      <th>add_to_cart_order</th>\n",
              "      <th>reordered</th>\n",
              "    </tr>\n",
              "  </thead>\n",
              "  <tbody>\n",
              "    <tr>\n",
              "      <th>0</th>\n",
              "      <td>1</td>\n",
              "      <td>49302</td>\n",
              "      <td>1</td>\n",
              "      <td>1</td>\n",
              "    </tr>\n",
              "    <tr>\n",
              "      <th>1</th>\n",
              "      <td>1</td>\n",
              "      <td>11109</td>\n",
              "      <td>2</td>\n",
              "      <td>1</td>\n",
              "    </tr>\n",
              "    <tr>\n",
              "      <th>2</th>\n",
              "      <td>1</td>\n",
              "      <td>10246</td>\n",
              "      <td>3</td>\n",
              "      <td>0</td>\n",
              "    </tr>\n",
              "    <tr>\n",
              "      <th>3</th>\n",
              "      <td>1</td>\n",
              "      <td>49683</td>\n",
              "      <td>4</td>\n",
              "      <td>0</td>\n",
              "    </tr>\n",
              "    <tr>\n",
              "      <th>4</th>\n",
              "      <td>1</td>\n",
              "      <td>43633</td>\n",
              "      <td>5</td>\n",
              "      <td>1</td>\n",
              "    </tr>\n",
              "  </tbody>\n",
              "</table>\n",
              "</div>"
            ],
            "text/plain": [
              "   order_id  product_id  add_to_cart_order  reordered\n",
              "0         1       49302                  1          1\n",
              "1         1       11109                  2          1\n",
              "2         1       10246                  3          0\n",
              "3         1       49683                  4          0\n",
              "4         1       43633                  5          1"
            ]
          },
          "metadata": {
            "tags": []
          },
          "execution_count": 32
        }
      ]
    },
    {
      "cell_type": "code",
      "metadata": {
        "id": "AFIMCgmc_9aP",
        "colab": {
          "base_uri": "https://localhost:8080/"
        },
        "outputId": "b8d0d231-bcb4-48e6-eb99-7bee05aeb51d"
      },
      "source": [
        "order_products__train.shape"
      ],
      "execution_count": 33,
      "outputs": [
        {
          "output_type": "execute_result",
          "data": {
            "text/plain": [
              "(1384617, 4)"
            ]
          },
          "metadata": {
            "tags": []
          },
          "execution_count": 33
        }
      ]
    },
    {
      "cell_type": "code",
      "metadata": {
        "id": "pIpx1LgT_9aP",
        "colab": {
          "base_uri": "https://localhost:8080/"
        },
        "outputId": "a52371e1-d821-424a-c563-05d36b284d70"
      },
      "source": [
        "order_products__train.nunique()"
      ],
      "execution_count": 34,
      "outputs": [
        {
          "output_type": "execute_result",
          "data": {
            "text/plain": [
              "order_id             131209\n",
              "product_id            39123\n",
              "add_to_cart_order        80\n",
              "reordered                 2\n",
              "dtype: int64"
            ]
          },
          "metadata": {
            "tags": []
          },
          "execution_count": 34
        }
      ]
    },
    {
      "cell_type": "code",
      "metadata": {
        "id": "9pk0h7VC_9aP",
        "colab": {
          "base_uri": "https://localhost:8080/"
        },
        "outputId": "b1a0328d-888f-4d97-d6fb-1c5d1fc46db0"
      },
      "source": [
        "#There are 60% products has been reordered in the order_products__train\n",
        "order_products__train['reordered'].mean()"
      ],
      "execution_count": 35,
      "outputs": [
        {
          "output_type": "execute_result",
          "data": {
            "text/plain": [
              "0.5985944127509629"
            ]
          },
          "metadata": {
            "tags": []
          },
          "execution_count": 35
        }
      ]
    },
    {
      "cell_type": "code",
      "metadata": {
        "id": "bu81bY_K_9aP",
        "colab": {
          "base_uri": "https://localhost:8080/",
          "height": 204
        },
        "outputId": "68088096-d38e-4f8b-f8e3-6ba9fafce6ac"
      },
      "source": [
        "tmp = pd.DataFrame(order_products__prior['add_to_cart_order'].value_counts().sort_index())\n",
        "tmp.head()"
      ],
      "execution_count": 36,
      "outputs": [
        {
          "output_type": "execute_result",
          "data": {
            "text/html": [
              "<div>\n",
              "<style scoped>\n",
              "    .dataframe tbody tr th:only-of-type {\n",
              "        vertical-align: middle;\n",
              "    }\n",
              "\n",
              "    .dataframe tbody tr th {\n",
              "        vertical-align: top;\n",
              "    }\n",
              "\n",
              "    .dataframe thead th {\n",
              "        text-align: right;\n",
              "    }\n",
              "</style>\n",
              "<table border=\"1\" class=\"dataframe\">\n",
              "  <thead>\n",
              "    <tr style=\"text-align: right;\">\n",
              "      <th></th>\n",
              "      <th>add_to_cart_order</th>\n",
              "    </tr>\n",
              "  </thead>\n",
              "  <tbody>\n",
              "    <tr>\n",
              "      <th>1</th>\n",
              "      <td>3214874</td>\n",
              "    </tr>\n",
              "    <tr>\n",
              "      <th>2</th>\n",
              "      <td>3058126</td>\n",
              "    </tr>\n",
              "    <tr>\n",
              "      <th>3</th>\n",
              "      <td>2871133</td>\n",
              "    </tr>\n",
              "    <tr>\n",
              "      <th>4</th>\n",
              "      <td>2664106</td>\n",
              "    </tr>\n",
              "    <tr>\n",
              "      <th>5</th>\n",
              "      <td>2442025</td>\n",
              "    </tr>\n",
              "  </tbody>\n",
              "</table>\n",
              "</div>"
            ],
            "text/plain": [
              "   add_to_cart_order\n",
              "1            3214874\n",
              "2            3058126\n",
              "3            2871133\n",
              "4            2664106\n",
              "5            2442025"
            ]
          },
          "metadata": {
            "tags": []
          },
          "execution_count": 36
        }
      ]
    },
    {
      "cell_type": "code",
      "metadata": {
        "id": "3CVBpOvo_9aP",
        "colab": {
          "base_uri": "https://localhost:8080/",
          "height": 390
        },
        "outputId": "a49d2c39-9b8d-4af5-e416-e178bc7238b2"
      },
      "source": [
        "tmp=pd.DataFrame(order_products__train['add_to_cart_order'].value_counts().sort_index())\n",
        "plt.figure(figsize=(20,7))\n",
        "sns.barplot(x=tmp.index.values,y=tmp.values[:,0])\n"
      ],
      "execution_count": 37,
      "outputs": [
        {
          "output_type": "execute_result",
          "data": {
            "text/plain": [
              "<matplotlib.axes._subplots.AxesSubplot at 0x7f3c367f40f0>"
            ]
          },
          "metadata": {
            "tags": []
          },
          "execution_count": 37
        },
        {
          "output_type": "display_data",
          "data": {
            "image/png": "[encoded data removed]",
            "text/plain": [
              "<Figure size 1440x504 with 1 Axes>"
            ]
          },
          "metadata": {
            "tags": [],
            "needs_background": "light"
          }
        }
      ]
    },
    {
      "cell_type": "markdown",
      "metadata": {
        "id": "xdAW8d5g_9aQ"
      },
      "source": [
        "\n",
        "\n",
        "## Baseline\n",
        "\n"
      ]
    },
    {
      "cell_type": "code",
      "metadata": {
        "id": "Ef5wUgQ5_9aQ",
        "colab": {
          "base_uri": "https://localhost:8080/"
        },
        "outputId": "22ef11c1-4d92-40dc-9e6d-f1eded115b71"
      },
      "source": [
        "#delete the coloums added before \n",
        "import gc\n",
        "del orders['order_number_max']\n",
        "gc.collect()"
      ],
      "execution_count": 38,
      "outputs": [
        {
          "output_type": "execute_result",
          "data": {
            "text/plain": [
              "52"
            ]
          },
          "metadata": {
            "tags": []
          },
          "execution_count": 38
        }
      ]
    },
    {
      "cell_type": "code",
      "metadata": {
        "id": "zicB9RXi_9aQ"
      },
      "source": [
        "#splite the dataset to three eval_set\n",
        "orders_prior_data = orders.loc[orders.eval_set == 'prior']\n",
        "orders_train_data = orders.loc[orders.eval_set == 'train'] \n",
        "orders_test_data  = orders.loc[orders.eval_set == 'test' ] "
      ],
      "execution_count": 39,
      "outputs": []
    },
    {
      "cell_type": "markdown",
      "metadata": {
        "id": "3AIl9laT_9aQ"
      },
      "source": [
        "#### Get user_X_product\n",
        "To build the \"Label\""
      ]
    },
    {
      "cell_type": "code",
      "metadata": {
        "id": "FptxICcN_9aQ"
      },
      "source": [
        "priors = order_products__prior.merge(orders_prior_data, on =['order_id'], how='left')\n",
        "trains = order_products__train.merge(orders_train_data, on =['order_id'], how='left')"
      ],
      "execution_count": 40,
      "outputs": []
    },
    {
      "cell_type": "code",
      "metadata": {
        "id": "odjxzNg2_9aQ"
      },
      "source": [
        "#I take the combination of user_ID and product_ID in priors_dataset as my total candidate set\n",
        "user_product = priors[['user_id','product_id']].copy()"
      ],
      "execution_count": 41,
      "outputs": []
    },
    {
      "cell_type": "code",
      "metadata": {
        "id": "1IIOtZKc_9aQ",
        "colab": {
          "base_uri": "https://localhost:8080/"
        },
        "outputId": "054e8b96-88da-4826-c5c3-ad91f9156269"
      },
      "source": [
        "user_product.shape"
      ],
      "execution_count": 42,
      "outputs": [
        {
          "output_type": "execute_result",
          "data": {
            "text/plain": [
              "(32434489, 2)"
            ]
          },
          "metadata": {
            "tags": []
          },
          "execution_count": 42
        }
      ]
    },
    {
      "cell_type": "code",
      "metadata": {
        "id": "4wH3PxkU_9aQ"
      },
      "source": [
        "user_product['user_X_product'] = user_product['user_id'].astype(str) + '_' + user_product['product_id'].astype(str)\n",
        "train_user_X_product = trains['user_id'].astype(str) + '_' + trains['product_id'].astype(str) "
      ],
      "execution_count": 43,
      "outputs": []
    },
    {
      "cell_type": "code",
      "metadata": {
        "id": "5G5ApVzt_9aQ"
      },
      "source": [
        "user_product = user_product.drop_duplicates(subset=['user_X_product'], keep = 'last')"
      ],
      "execution_count": 44,
      "outputs": []
    },
    {
      "cell_type": "code",
      "metadata": {
        "id": "p6Z2L8jG_9aQ",
        "colab": {
          "base_uri": "https://localhost:8080/"
        },
        "outputId": "6fa38d86-3ceb-4d6c-bb75-af50bf625698"
      },
      "source": [
        "user_product.shape"
      ],
      "execution_count": 45,
      "outputs": [
        {
          "output_type": "execute_result",
          "data": {
            "text/plain": [
              "(13307953, 3)"
            ]
          },
          "metadata": {
            "tags": []
          },
          "execution_count": 45
        }
      ]
    },
    {
      "cell_type": "markdown",
      "metadata": {
        "id": "EPJz46Iu_9aQ"
      },
      "source": [
        "#### Train dataset \n"
      ]
    },
    {
      "cell_type": "code",
      "metadata": {
        "id": "_N1QLXty_9aQ"
      },
      "source": [
        "test_user = orders_test_data['user_id']\n",
        "train_user = orders_train_data['user_id']"
      ],
      "execution_count": 80,
      "outputs": []
    },
    {
      "cell_type": "code",
      "metadata": {
        "id": "TDNSvE9a_9aR",
        "colab": {
          "base_uri": "https://localhost:8080/",
          "height": 541
        },
        "outputId": "1a2b6989-08af-47af-da51-d8ca26b3d9ba"
      },
      "source": [
        "user_product['label'] = 0\n",
        "#The latest users data as training data set\n",
        "train_data = user_product.loc[user_product.user_id.isin(train_user)]\n",
        "#the label of user_id & product_ID that appears in the training set is set to 1,\n",
        "# which means that the user purchased the product again later, and the rest of the product is set to 0, \n",
        "#which means that the user did not purchase the product again later\n",
        "train_data.loc[train_data.user_X_product.isin(train_user_X_product), 'label'] = 1 \n",
        "train_data"
      ],
      "execution_count": 81,
      "outputs": [
        {
          "output_type": "stream",
          "text": [
            "/usr/local/lib/python3.6/dist-packages/pandas/core/indexing.py:1763: SettingWithCopyWarning: \n",
            "A value is trying to be set on a copy of a slice from a DataFrame.\n",
            "Try using .loc[row_indexer,col_indexer] = value instead\n",
            "\n",
            "See the caveats in the documentation: https://pandas.pydata.org/pandas-docs/stable/user_guide/indexing.html#returning-a-view-versus-a-copy\n",
            "  isetter(loc, value)\n"
          ],
          "name": "stderr"
        },
        {
          "output_type": "execute_result",
          "data": {
            "text/html": [
              "<div>\n",
              "<style scoped>\n",
              "    .dataframe tbody tr th:only-of-type {\n",
              "        vertical-align: middle;\n",
              "    }\n",
              "\n",
              "    .dataframe tbody tr th {\n",
              "        vertical-align: top;\n",
              "    }\n",
              "\n",
              "    .dataframe thead th {\n",
              "        text-align: right;\n",
              "    }\n",
              "</style>\n",
              "<table border=\"1\" class=\"dataframe\">\n",
              "  <thead>\n",
              "    <tr style=\"text-align: right;\">\n",
              "      <th></th>\n",
              "      <th>user_id</th>\n",
              "      <th>product_id</th>\n",
              "      <th>user_X_product</th>\n",
              "      <th>label</th>\n",
              "    </tr>\n",
              "  </thead>\n",
              "  <tbody>\n",
              "    <tr>\n",
              "      <th>2</th>\n",
              "      <td>202279</td>\n",
              "      <td>9327</td>\n",
              "      <td>202279_9327</td>\n",
              "      <td>0</td>\n",
              "    </tr>\n",
              "    <tr>\n",
              "      <th>51</th>\n",
              "      <td>156122</td>\n",
              "      <td>47209</td>\n",
              "      <td>156122_47209</td>\n",
              "      <td>0</td>\n",
              "    </tr>\n",
              "    <tr>\n",
              "      <th>52</th>\n",
              "      <td>156122</td>\n",
              "      <td>46522</td>\n",
              "      <td>156122_46522</td>\n",
              "      <td>0</td>\n",
              "    </tr>\n",
              "    <tr>\n",
              "      <th>53</th>\n",
              "      <td>156122</td>\n",
              "      <td>38693</td>\n",
              "      <td>156122_38693</td>\n",
              "      <td>0</td>\n",
              "    </tr>\n",
              "    <tr>\n",
              "      <th>54</th>\n",
              "      <td>156122</td>\n",
              "      <td>48825</td>\n",
              "      <td>156122_48825</td>\n",
              "      <td>0</td>\n",
              "    </tr>\n",
              "    <tr>\n",
              "      <th>...</th>\n",
              "      <td>...</td>\n",
              "      <td>...</td>\n",
              "      <td>...</td>\n",
              "      <td>...</td>\n",
              "    </tr>\n",
              "    <tr>\n",
              "      <th>32434474</th>\n",
              "      <td>175185</td>\n",
              "      <td>16797</td>\n",
              "      <td>175185_16797</td>\n",
              "      <td>0</td>\n",
              "    </tr>\n",
              "    <tr>\n",
              "      <th>32434475</th>\n",
              "      <td>175185</td>\n",
              "      <td>43352</td>\n",
              "      <td>175185_43352</td>\n",
              "      <td>0</td>\n",
              "    </tr>\n",
              "    <tr>\n",
              "      <th>32434476</th>\n",
              "      <td>175185</td>\n",
              "      <td>32700</td>\n",
              "      <td>175185_32700</td>\n",
              "      <td>0</td>\n",
              "    </tr>\n",
              "    <tr>\n",
              "      <th>32434477</th>\n",
              "      <td>175185</td>\n",
              "      <td>12023</td>\n",
              "      <td>175185_12023</td>\n",
              "      <td>0</td>\n",
              "    </tr>\n",
              "    <tr>\n",
              "      <th>32434478</th>\n",
              "      <td>175185</td>\n",
              "      <td>47941</td>\n",
              "      <td>175185_47941</td>\n",
              "      <td>0</td>\n",
              "    </tr>\n",
              "  </tbody>\n",
              "</table>\n",
              "<p>8474661 rows × 4 columns</p>\n",
              "</div>"
            ],
            "text/plain": [
              "          user_id  product_id user_X_product  label\n",
              "2          202279        9327    202279_9327      0\n",
              "51         156122       47209   156122_47209      0\n",
              "52         156122       46522   156122_46522      0\n",
              "53         156122       38693   156122_38693      0\n",
              "54         156122       48825   156122_48825      0\n",
              "...           ...         ...            ...    ...\n",
              "32434474   175185       16797   175185_16797      0\n",
              "32434475   175185       43352   175185_43352      0\n",
              "32434476   175185       32700   175185_32700      0\n",
              "32434477   175185       12023   175185_12023      0\n",
              "32434478   175185       47941   175185_47941      0\n",
              "\n",
              "[8474661 rows x 4 columns]"
            ]
          },
          "metadata": {
            "tags": []
          },
          "execution_count": 81
        }
      ]
    },
    {
      "cell_type": "code",
      "metadata": {
        "id": "HKF07U9z_9aR",
        "colab": {
          "base_uri": "https://localhost:8080/",
          "height": 224
        },
        "outputId": "e4789640-1492-4830-e364-45a06322d52c"
      },
      "source": [
        "train_data = train_data.merge(orders_train_data,on ='user_id', how='left')\n",
        "train_data.head()"
      ],
      "execution_count": 82,
      "outputs": [
        {
          "output_type": "execute_result",
          "data": {
            "text/html": [
              "<div>\n",
              "<style scoped>\n",
              "    .dataframe tbody tr th:only-of-type {\n",
              "        vertical-align: middle;\n",
              "    }\n",
              "\n",
              "    .dataframe tbody tr th {\n",
              "        vertical-align: top;\n",
              "    }\n",
              "\n",
              "    .dataframe thead th {\n",
              "        text-align: right;\n",
              "    }\n",
              "</style>\n",
              "<table border=\"1\" class=\"dataframe\">\n",
              "  <thead>\n",
              "    <tr style=\"text-align: right;\">\n",
              "      <th></th>\n",
              "      <th>user_id</th>\n",
              "      <th>product_id</th>\n",
              "      <th>user_X_product</th>\n",
              "      <th>label</th>\n",
              "      <th>order_id</th>\n",
              "      <th>eval_set</th>\n",
              "      <th>order_number</th>\n",
              "      <th>order_dow</th>\n",
              "      <th>order_hour_of_day</th>\n",
              "      <th>days_since_prior_order</th>\n",
              "    </tr>\n",
              "  </thead>\n",
              "  <tbody>\n",
              "    <tr>\n",
              "      <th>0</th>\n",
              "      <td>202279</td>\n",
              "      <td>9327</td>\n",
              "      <td>202279_9327</td>\n",
              "      <td>0</td>\n",
              "      <td>1050357</td>\n",
              "      <td>train</td>\n",
              "      <td>9</td>\n",
              "      <td>1</td>\n",
              "      <td>14</td>\n",
              "      <td>30.0</td>\n",
              "    </tr>\n",
              "    <tr>\n",
              "      <th>1</th>\n",
              "      <td>156122</td>\n",
              "      <td>47209</td>\n",
              "      <td>156122_47209</td>\n",
              "      <td>0</td>\n",
              "      <td>1277092</td>\n",
              "      <td>train</td>\n",
              "      <td>53</td>\n",
              "      <td>1</td>\n",
              "      <td>11</td>\n",
              "      <td>5.0</td>\n",
              "    </tr>\n",
              "    <tr>\n",
              "      <th>2</th>\n",
              "      <td>156122</td>\n",
              "      <td>46522</td>\n",
              "      <td>156122_46522</td>\n",
              "      <td>0</td>\n",
              "      <td>1277092</td>\n",
              "      <td>train</td>\n",
              "      <td>53</td>\n",
              "      <td>1</td>\n",
              "      <td>11</td>\n",
              "      <td>5.0</td>\n",
              "    </tr>\n",
              "    <tr>\n",
              "      <th>3</th>\n",
              "      <td>156122</td>\n",
              "      <td>38693</td>\n",
              "      <td>156122_38693</td>\n",
              "      <td>0</td>\n",
              "      <td>1277092</td>\n",
              "      <td>train</td>\n",
              "      <td>53</td>\n",
              "      <td>1</td>\n",
              "      <td>11</td>\n",
              "      <td>5.0</td>\n",
              "    </tr>\n",
              "    <tr>\n",
              "      <th>4</th>\n",
              "      <td>156122</td>\n",
              "      <td>48825</td>\n",
              "      <td>156122_48825</td>\n",
              "      <td>0</td>\n",
              "      <td>1277092</td>\n",
              "      <td>train</td>\n",
              "      <td>53</td>\n",
              "      <td>1</td>\n",
              "      <td>11</td>\n",
              "      <td>5.0</td>\n",
              "    </tr>\n",
              "  </tbody>\n",
              "</table>\n",
              "</div>"
            ],
            "text/plain": [
              "   user_id  product_id  ... order_hour_of_day  days_since_prior_order\n",
              "0   202279        9327  ...                14                    30.0\n",
              "1   156122       47209  ...                11                     5.0\n",
              "2   156122       46522  ...                11                     5.0\n",
              "3   156122       38693  ...                11                     5.0\n",
              "4   156122       48825  ...                11                     5.0\n",
              "\n",
              "[5 rows x 10 columns]"
            ]
          },
          "metadata": {
            "tags": []
          },
          "execution_count": 82
        }
      ]
    },
    {
      "cell_type": "markdown",
      "metadata": {
        "id": "QSFCXi3i_9aR"
      },
      "source": [
        "#### Test dataset\n",
        "\n"
      ]
    },
    {
      "cell_type": "code",
      "metadata": {
        "id": "11jQCfHs_9aR"
      },
      "source": [
        "test_data  = user_product.loc[user_product.user_id.isin(test_user)]"
      ],
      "execution_count": 83,
      "outputs": []
    },
    {
      "cell_type": "code",
      "metadata": {
        "id": "gUNb0x2c_9aR",
        "scrolled": true,
        "colab": {
          "base_uri": "https://localhost:8080/",
          "height": 224
        },
        "outputId": "0fbaf6f3-5a7d-4b1d-b47b-5421c81f8ada"
      },
      "source": [
        "test_data = test_data.merge(orders_test_data,on ='user_id', how='left')\n",
        "test_data.head()"
      ],
      "execution_count": 84,
      "outputs": [
        {
          "output_type": "execute_result",
          "data": {
            "text/html": [
              "<div>\n",
              "<style scoped>\n",
              "    .dataframe tbody tr th:only-of-type {\n",
              "        vertical-align: middle;\n",
              "    }\n",
              "\n",
              "    .dataframe tbody tr th {\n",
              "        vertical-align: top;\n",
              "    }\n",
              "\n",
              "    .dataframe thead th {\n",
              "        text-align: right;\n",
              "    }\n",
              "</style>\n",
              "<table border=\"1\" class=\"dataframe\">\n",
              "  <thead>\n",
              "    <tr style=\"text-align: right;\">\n",
              "      <th></th>\n",
              "      <th>user_id</th>\n",
              "      <th>product_id</th>\n",
              "      <th>user_X_product</th>\n",
              "      <th>label</th>\n",
              "      <th>order_id</th>\n",
              "      <th>eval_set</th>\n",
              "      <th>order_number</th>\n",
              "      <th>order_dow</th>\n",
              "      <th>order_hour_of_day</th>\n",
              "      <th>days_since_prior_order</th>\n",
              "    </tr>\n",
              "  </thead>\n",
              "  <tbody>\n",
              "    <tr>\n",
              "      <th>0</th>\n",
              "      <td>45082</td>\n",
              "      <td>17330</td>\n",
              "      <td>45082_17330</td>\n",
              "      <td>0</td>\n",
              "      <td>65432</td>\n",
              "      <td>test</td>\n",
              "      <td>11</td>\n",
              "      <td>4</td>\n",
              "      <td>12</td>\n",
              "      <td>15.0</td>\n",
              "    </tr>\n",
              "    <tr>\n",
              "      <th>1</th>\n",
              "      <td>45082</td>\n",
              "      <td>27407</td>\n",
              "      <td>45082_27407</td>\n",
              "      <td>0</td>\n",
              "      <td>65432</td>\n",
              "      <td>test</td>\n",
              "      <td>11</td>\n",
              "      <td>4</td>\n",
              "      <td>12</td>\n",
              "      <td>15.0</td>\n",
              "    </tr>\n",
              "    <tr>\n",
              "      <th>2</th>\n",
              "      <td>45082</td>\n",
              "      <td>35419</td>\n",
              "      <td>45082_35419</td>\n",
              "      <td>0</td>\n",
              "      <td>65432</td>\n",
              "      <td>test</td>\n",
              "      <td>11</td>\n",
              "      <td>4</td>\n",
              "      <td>12</td>\n",
              "      <td>15.0</td>\n",
              "    </tr>\n",
              "    <tr>\n",
              "      <th>3</th>\n",
              "      <td>45082</td>\n",
              "      <td>196</td>\n",
              "      <td>45082_196</td>\n",
              "      <td>0</td>\n",
              "      <td>65432</td>\n",
              "      <td>test</td>\n",
              "      <td>11</td>\n",
              "      <td>4</td>\n",
              "      <td>12</td>\n",
              "      <td>15.0</td>\n",
              "    </tr>\n",
              "    <tr>\n",
              "      <th>4</th>\n",
              "      <td>45082</td>\n",
              "      <td>44635</td>\n",
              "      <td>45082_44635</td>\n",
              "      <td>0</td>\n",
              "      <td>65432</td>\n",
              "      <td>test</td>\n",
              "      <td>11</td>\n",
              "      <td>4</td>\n",
              "      <td>12</td>\n",
              "      <td>15.0</td>\n",
              "    </tr>\n",
              "  </tbody>\n",
              "</table>\n",
              "</div>"
            ],
            "text/plain": [
              "   user_id  product_id  ... order_hour_of_day  days_since_prior_order\n",
              "0    45082       17330  ...                12                    15.0\n",
              "1    45082       27407  ...                12                    15.0\n",
              "2    45082       35419  ...                12                    15.0\n",
              "3    45082         196  ...                12                    15.0\n",
              "4    45082       44635  ...                12                    15.0\n",
              "\n",
              "[5 rows x 10 columns]"
            ]
          },
          "metadata": {
            "tags": []
          },
          "execution_count": 84
        }
      ]
    },
    {
      "cell_type": "code",
      "metadata": {
        "id": "98OYE96n_9aR",
        "colab": {
          "base_uri": "https://localhost:8080/"
        },
        "outputId": "ab65b029-39b6-470e-d982-0f493c98d46f"
      },
      "source": [
        "#delete the user_x_product from test_data and train_data\n",
        "del test_data['user_X_product']\n",
        "del train_data['user_X_product']\n",
        "gc.collect()"
      ],
      "execution_count": 85,
      "outputs": [
        {
          "output_type": "execute_result",
          "data": {
            "text/plain": [
              "341"
            ]
          },
          "metadata": {
            "tags": []
          },
          "execution_count": 85
        }
      ]
    },
    {
      "cell_type": "markdown",
      "metadata": {
        "id": "Bssn8m2i_9aR"
      },
      "source": [
        "\n",
        "\n",
        "## Merge train _data and test_data with product_id\n"
      ]
    },
    {
      "cell_type": "code",
      "metadata": {
        "id": "e6z7EWzg_9aR"
      },
      "source": [
        "train_data =  train_data.merge(products, on='product_id', how= 'left')\n",
        "test_data  =  test_data.merge(products, on='product_id', how= 'left')"
      ],
      "execution_count": 86,
      "outputs": []
    },
    {
      "cell_type": "code",
      "metadata": {
        "id": "bn57penF_9aR",
        "colab": {
          "base_uri": "https://localhost:8080/",
          "height": 258
        },
        "outputId": "7ee2cda0-2113-45cb-f86c-c820f2038d56"
      },
      "source": [
        "train_data.head()"
      ],
      "execution_count": 87,
      "outputs": [
        {
          "output_type": "execute_result",
          "data": {
            "text/html": [
              "<div>\n",
              "<style scoped>\n",
              "    .dataframe tbody tr th:only-of-type {\n",
              "        vertical-align: middle;\n",
              "    }\n",
              "\n",
              "    .dataframe tbody tr th {\n",
              "        vertical-align: top;\n",
              "    }\n",
              "\n",
              "    .dataframe thead th {\n",
              "        text-align: right;\n",
              "    }\n",
              "</style>\n",
              "<table border=\"1\" class=\"dataframe\">\n",
              "  <thead>\n",
              "    <tr style=\"text-align: right;\">\n",
              "      <th></th>\n",
              "      <th>user_id</th>\n",
              "      <th>product_id</th>\n",
              "      <th>label</th>\n",
              "      <th>order_id</th>\n",
              "      <th>eval_set</th>\n",
              "      <th>order_number</th>\n",
              "      <th>order_dow</th>\n",
              "      <th>order_hour_of_day</th>\n",
              "      <th>days_since_prior_order</th>\n",
              "      <th>product_name</th>\n",
              "      <th>aisle_id</th>\n",
              "      <th>department_id</th>\n",
              "    </tr>\n",
              "  </thead>\n",
              "  <tbody>\n",
              "    <tr>\n",
              "      <th>0</th>\n",
              "      <td>202279</td>\n",
              "      <td>9327</td>\n",
              "      <td>0</td>\n",
              "      <td>1050357</td>\n",
              "      <td>train</td>\n",
              "      <td>9</td>\n",
              "      <td>1</td>\n",
              "      <td>14</td>\n",
              "      <td>30.0</td>\n",
              "      <td>Garlic Powder</td>\n",
              "      <td>104</td>\n",
              "      <td>13</td>\n",
              "    </tr>\n",
              "    <tr>\n",
              "      <th>1</th>\n",
              "      <td>156122</td>\n",
              "      <td>47209</td>\n",
              "      <td>0</td>\n",
              "      <td>1277092</td>\n",
              "      <td>train</td>\n",
              "      <td>53</td>\n",
              "      <td>1</td>\n",
              "      <td>11</td>\n",
              "      <td>5.0</td>\n",
              "      <td>Organic Hass Avocado</td>\n",
              "      <td>24</td>\n",
              "      <td>4</td>\n",
              "    </tr>\n",
              "    <tr>\n",
              "      <th>2</th>\n",
              "      <td>156122</td>\n",
              "      <td>46522</td>\n",
              "      <td>0</td>\n",
              "      <td>1277092</td>\n",
              "      <td>train</td>\n",
              "      <td>53</td>\n",
              "      <td>1</td>\n",
              "      <td>11</td>\n",
              "      <td>5.0</td>\n",
              "      <td>Spaghetti Pasta</td>\n",
              "      <td>131</td>\n",
              "      <td>9</td>\n",
              "    </tr>\n",
              "    <tr>\n",
              "      <th>3</th>\n",
              "      <td>156122</td>\n",
              "      <td>38693</td>\n",
              "      <td>0</td>\n",
              "      <td>1277092</td>\n",
              "      <td>train</td>\n",
              "      <td>53</td>\n",
              "      <td>1</td>\n",
              "      <td>11</td>\n",
              "      <td>5.0</td>\n",
              "      <td>Meyer Lemon</td>\n",
              "      <td>24</td>\n",
              "      <td>4</td>\n",
              "    </tr>\n",
              "    <tr>\n",
              "      <th>4</th>\n",
              "      <td>156122</td>\n",
              "      <td>48825</td>\n",
              "      <td>0</td>\n",
              "      <td>1277092</td>\n",
              "      <td>train</td>\n",
              "      <td>53</td>\n",
              "      <td>1</td>\n",
              "      <td>11</td>\n",
              "      <td>5.0</td>\n",
              "      <td>Bag of Organic Lemons</td>\n",
              "      <td>24</td>\n",
              "      <td>4</td>\n",
              "    </tr>\n",
              "  </tbody>\n",
              "</table>\n",
              "</div>"
            ],
            "text/plain": [
              "   user_id  product_id  label  ...           product_name aisle_id  department_id\n",
              "0   202279        9327      0  ...          Garlic Powder      104             13\n",
              "1   156122       47209      0  ...   Organic Hass Avocado       24              4\n",
              "2   156122       46522      0  ...        Spaghetti Pasta      131              9\n",
              "3   156122       38693      0  ...            Meyer Lemon       24              4\n",
              "4   156122       48825      0  ...  Bag of Organic Lemons       24              4\n",
              "\n",
              "[5 rows x 12 columns]"
            ]
          },
          "metadata": {
            "tags": []
          },
          "execution_count": 87
        }
      ]
    },
    {
      "cell_type": "code",
      "metadata": {
        "id": "M9v0Gqty_9aR",
        "colab": {
          "base_uri": "https://localhost:8080/",
          "height": 309
        },
        "outputId": "36a0b85c-e8bb-405a-812c-224ef5febd3e"
      },
      "source": [
        "test_data.head()"
      ],
      "execution_count": 88,
      "outputs": [
        {
          "output_type": "execute_result",
          "data": {
            "text/html": [
              "<div>\n",
              "<style scoped>\n",
              "    .dataframe tbody tr th:only-of-type {\n",
              "        vertical-align: middle;\n",
              "    }\n",
              "\n",
              "    .dataframe tbody tr th {\n",
              "        vertical-align: top;\n",
              "    }\n",
              "\n",
              "    .dataframe thead th {\n",
              "        text-align: right;\n",
              "    }\n",
              "</style>\n",
              "<table border=\"1\" class=\"dataframe\">\n",
              "  <thead>\n",
              "    <tr style=\"text-align: right;\">\n",
              "      <th></th>\n",
              "      <th>user_id</th>\n",
              "      <th>product_id</th>\n",
              "      <th>label</th>\n",
              "      <th>order_id</th>\n",
              "      <th>eval_set</th>\n",
              "      <th>order_number</th>\n",
              "      <th>order_dow</th>\n",
              "      <th>order_hour_of_day</th>\n",
              "      <th>days_since_prior_order</th>\n",
              "      <th>product_name</th>\n",
              "      <th>aisle_id</th>\n",
              "      <th>department_id</th>\n",
              "    </tr>\n",
              "  </thead>\n",
              "  <tbody>\n",
              "    <tr>\n",
              "      <th>0</th>\n",
              "      <td>45082</td>\n",
              "      <td>17330</td>\n",
              "      <td>0</td>\n",
              "      <td>65432</td>\n",
              "      <td>test</td>\n",
              "      <td>11</td>\n",
              "      <td>4</td>\n",
              "      <td>12</td>\n",
              "      <td>15.0</td>\n",
              "      <td>Light</td>\n",
              "      <td>27</td>\n",
              "      <td>5</td>\n",
              "    </tr>\n",
              "    <tr>\n",
              "      <th>1</th>\n",
              "      <td>45082</td>\n",
              "      <td>27407</td>\n",
              "      <td>0</td>\n",
              "      <td>65432</td>\n",
              "      <td>test</td>\n",
              "      <td>11</td>\n",
              "      <td>4</td>\n",
              "      <td>12</td>\n",
              "      <td>15.0</td>\n",
              "      <td>Chunky Salsa Medium</td>\n",
              "      <td>51</td>\n",
              "      <td>13</td>\n",
              "    </tr>\n",
              "    <tr>\n",
              "      <th>2</th>\n",
              "      <td>45082</td>\n",
              "      <td>35419</td>\n",
              "      <td>0</td>\n",
              "      <td>65432</td>\n",
              "      <td>test</td>\n",
              "      <td>11</td>\n",
              "      <td>4</td>\n",
              "      <td>12</td>\n",
              "      <td>15.0</td>\n",
              "      <td>Handmade Vodka From Austin, Texas</td>\n",
              "      <td>124</td>\n",
              "      <td>5</td>\n",
              "    </tr>\n",
              "    <tr>\n",
              "      <th>3</th>\n",
              "      <td>45082</td>\n",
              "      <td>196</td>\n",
              "      <td>0</td>\n",
              "      <td>65432</td>\n",
              "      <td>test</td>\n",
              "      <td>11</td>\n",
              "      <td>4</td>\n",
              "      <td>12</td>\n",
              "      <td>15.0</td>\n",
              "      <td>Soda</td>\n",
              "      <td>77</td>\n",
              "      <td>7</td>\n",
              "    </tr>\n",
              "    <tr>\n",
              "      <th>4</th>\n",
              "      <td>45082</td>\n",
              "      <td>44635</td>\n",
              "      <td>0</td>\n",
              "      <td>65432</td>\n",
              "      <td>test</td>\n",
              "      <td>11</td>\n",
              "      <td>4</td>\n",
              "      <td>12</td>\n",
              "      <td>15.0</td>\n",
              "      <td>Salsa Con Queso Medium Dip</td>\n",
              "      <td>51</td>\n",
              "      <td>13</td>\n",
              "    </tr>\n",
              "  </tbody>\n",
              "</table>\n",
              "</div>"
            ],
            "text/plain": [
              "   user_id  product_id  ...  aisle_id  department_id\n",
              "0    45082       17330  ...        27              5\n",
              "1    45082       27407  ...        51             13\n",
              "2    45082       35419  ...       124              5\n",
              "3    45082         196  ...        77              7\n",
              "4    45082       44635  ...        51             13\n",
              "\n",
              "[5 rows x 12 columns]"
            ]
          },
          "metadata": {
            "tags": []
          },
          "execution_count": 88
        }
      ]
    },
    {
      "cell_type": "code",
      "metadata": {
        "id": "Ov7wDXkvc4ZG"
      },
      "source": [
        "import pickle\n",
        "subtest_Lightgbm =test_data.sample(frac=0.01)\n",
        "subtest_Lightgbm.to_pickle(\"subtest_Lightgbm\")\n"
      ],
      "execution_count": 91,
      "outputs": []
    },
    {
      "cell_type": "code",
      "metadata": {
        "id": "Yipybmd1eE0y"
      },
      "source": [
        ""
      ],
      "execution_count": null,
      "outputs": []
    },
    {
      "cell_type": "markdown",
      "metadata": {
        "id": "zPRWsm4A_9aR"
      },
      "source": [
        "## Simple Feature Analysis. \n"
      ]
    },
    {
      "cell_type": "code",
      "metadata": {
        "id": "_lNBZlhT_9aS"
      },
      "source": [
        "#Seven features\n",
        "feature_cols = ['order_number','order_dow','order_hour_of_day','days_since_prior_order','product_id','aisle_id','department_id']\n",
        "label_cols = 'label'"
      ],
      "execution_count": 55,
      "outputs": []
    },
    {
      "cell_type": "markdown",
      "metadata": {
        "id": "iwraLjtZ_9aS"
      },
      "source": [
        "## Model Train and Validation\n"
      ]
    },
    {
      "cell_type": "code",
      "metadata": {
        "id": "5k8RhveC_9aS"
      },
      "source": [
        "def validation_sample(order_ids, frac = 0.2):\n",
        "    import random\n",
        "    sample_number = int(frac * len(order_ids))\n",
        "    sample_val_order = random.sample( order_ids , sample_number) \n",
        "    sample_train_order = list(set(order_ids) - set(sample_val_order))\n",
        "    return sample_train_order,sample_val_order"
      ],
      "execution_count": 56,
      "outputs": []
    },
    {
      "cell_type": "code",
      "metadata": {
        "id": "GUVakGvu_9aS",
        "scrolled": true
      },
      "source": [
        "sample_train_order,sample_val_order = validation_sample(list(train_data['order_id'].unique()))"
      ],
      "execution_count": 57,
      "outputs": []
    },
    {
      "cell_type": "code",
      "metadata": {
        "id": "bD-Dt67j_9aS"
      },
      "source": [
        "train = train_data.loc[train_data.order_id.isin(sample_train_order)]\n",
        "val   = train_data.loc[train_data.order_id.isin(sample_val_order)]"
      ],
      "execution_count": 58,
      "outputs": []
    },
    {
      "cell_type": "code",
      "metadata": {
        "id": "vuWbWAnm_9aS"
      },
      "source": [
        "from sklearn.metrics import f1_score\n",
        "def lgb_f1_score(y_hat, data):\n",
        "    y_true = data.get_label()\n",
        "    y_hat = np.round(y_hat >= 0.2) #0.2 is defult number\n",
        "    return 'f1', f1_score(y_true, y_hat), True"
      ],
      "execution_count": 59,
      "outputs": []
    },
    {
      "cell_type": "code",
      "metadata": {
        "id": "CGAN59t9_9aS"
      },
      "source": [
        "import lightgbm as lgb\n",
        "d_train = lgb.Dataset(train[feature_cols], label=train[label_cols].values)   \n",
        "d_val   = lgb.Dataset(val[feature_cols], label=val[label_cols].values)    "
      ],
      "execution_count": 60,
      "outputs": []
    },
    {
      "cell_type": "code",
      "metadata": {
        "colab": {
          "base_uri": "https://localhost:8080/"
        },
        "id": "kLPn3S4V_9aS",
        "scrolled": true,
        "outputId": "f2481d08-bf50-44bc-e1dc-92061aa939ec"
      },
      "source": [
        "params = {\n",
        "    'task': 'train',\n",
        "    'boosting_type': 'gbdt',\n",
        "    'objective': 'binary',\n",
        "    'metric': {'binary_logloss'},\n",
        "    'num_leaves': 2 ** 5,\n",
        "    'max_depth': 10,\n",
        "    'feature_fraction': 0.9,\n",
        "    'bagging_fraction': 0.9,\n",
        "    'bagging_freq': 5\n",
        "}\n",
        "ROUNDS = 100 \n",
        "print('light GBM train :')\n",
        "bst = lgb.train(params, d_train, ROUNDS, valid_sets=[d_train,d_val], feval =lgb_f1_score,verbose_eval=10)\n",
        "del d_train "
      ],
      "execution_count": 61,
      "outputs": [
        {
          "output_type": "stream",
          "text": [
            "light GBM train :\n",
            "[10]\ttraining's binary_logloss: 0.30842\ttraining's f1: 0.0549278\tvalid_1's binary_logloss: 0.306996\tvalid_1's f1: 0.0557277\n",
            "[20]\ttraining's binary_logloss: 0.305483\ttraining's f1: 0.102616\tvalid_1's binary_logloss: 0.304074\tvalid_1's f1: 0.101879\n",
            "[30]\ttraining's binary_logloss: 0.304381\ttraining's f1: 0.131984\tvalid_1's binary_logloss: 0.302991\tvalid_1's f1: 0.130655\n",
            "[40]\ttraining's binary_logloss: 0.303501\ttraining's f1: 0.150146\tvalid_1's binary_logloss: 0.30215\tvalid_1's f1: 0.148476\n",
            "[50]\ttraining's binary_logloss: 0.302868\ttraining's f1: 0.163315\tvalid_1's binary_logloss: 0.301509\tvalid_1's f1: 0.161917\n",
            "[60]\ttraining's binary_logloss: 0.302509\ttraining's f1: 0.169049\tvalid_1's binary_logloss: 0.301179\tvalid_1's f1: 0.16795\n",
            "[70]\ttraining's binary_logloss: 0.302206\ttraining's f1: 0.17329\tvalid_1's binary_logloss: 0.300898\tvalid_1's f1: 0.17219\n",
            "[80]\ttraining's binary_logloss: 0.30191\ttraining's f1: 0.177624\tvalid_1's binary_logloss: 0.300626\tvalid_1's f1: 0.176683\n",
            "[90]\ttraining's binary_logloss: 0.30161\ttraining's f1: 0.182214\tvalid_1's binary_logloss: 0.30034\tvalid_1's f1: 0.1814\n",
            "[100]\ttraining's binary_logloss: 0.301389\ttraining's f1: 0.18562\tvalid_1's binary_logloss: 0.300147\tvalid_1's f1: 0.184695\n"
          ],
          "name": "stdout"
        }
      ]
    },
    {
      "cell_type": "code",
      "metadata": {
        "colab": {
          "base_uri": "https://localhost:8080/",
          "height": 312
        },
        "id": "xqT0HvxRn3bw",
        "outputId": "3f78b306-14c6-4688-c961-a05d7019ee55"
      },
      "source": [
        "plt.figure(figsize=(12,6))\n",
        "lgb.plot_importance(bst, max_num_features=7)\n",
        "plt.title(\"Featurertances\")\n",
        "plt.show()"
      ],
      "execution_count": 62,
      "outputs": [
        {
          "output_type": "display_data",
          "data": {
            "text/plain": [
              "<Figure size 864x432 with 0 Axes>"
            ]
          },
          "metadata": {
            "tags": []
          }
        },
        {
          "output_type": "display_data",
          "data": {
            "image/png": "[encoded data removed]",
            "text/plain": [
              "<Figure size 432x288 with 1 Axes>"
            ]
          },
          "metadata": {
            "tags": [],
            "needs_background": "light"
          }
        }
      ]
    },
    {
      "cell_type": "markdown",
      "metadata": {
        "id": "z97QSzqm_9aS"
      },
      "source": [
        "\n",
        "###  Training model -Train Dataset"
      ]
    },
    {
      "cell_type": "code",
      "metadata": {
        "id": "3CvX_zhQ_9aS"
      },
      "source": [
        "import lightgbm as lgb\n",
        "d_train = lgb.Dataset(train_data[feature_cols], label=train_data[label_cols].values)    "
      ],
      "execution_count": 63,
      "outputs": []
    },
    {
      "cell_type": "code",
      "metadata": {
        "id": "Pblu_IxQ_9aS",
        "scrolled": true,
        "colab": {
          "base_uri": "https://localhost:8080/"
        },
        "outputId": "cb552b6b-9873-4d26-c58d-48d4e4613f38"
      },
      "source": [
        "params = {\n",
        "    'task': 'train',#training model, default mode\n",
        "    'boosting_type': 'gbdt',#Gradient Boosting Decision Tree\n",
        "    'objective': 'binary',#binary log loss classification application\n",
        "    'metric': {'binary_logloss'},#binary classification\n",
        "    'num_leaves': 255,# total number in the tree\n",
        "    'max_depth': 10, #should be less then 2^5\n",
        "    'bagging_freq': 5 #every 5 round do bagging once\n",
        "}\n",
        "ROUNDS = 150 \n",
        "print('light GBM train ')\n",
        "bst = lgb.train(params, d_train, ROUNDS, valid_sets=[d_train], feval =lgb_f1_score,verbose_eval=10)"
      ],
      "execution_count": 64,
      "outputs": [
        {
          "output_type": "stream",
          "text": [
            "light GBM train \n",
            "[10]\ttraining's binary_logloss: 0.304904\ttraining's f1: 0.102986\n",
            "[20]\ttraining's binary_logloss: 0.302141\ttraining's f1: 0.154203\n",
            "[30]\ttraining's binary_logloss: 0.301065\ttraining's f1: 0.176591\n",
            "[40]\ttraining's binary_logloss: 0.300333\ttraining's f1: 0.188039\n",
            "[50]\ttraining's binary_logloss: 0.299631\ttraining's f1: 0.195529\n",
            "[60]\ttraining's binary_logloss: 0.299059\ttraining's f1: 0.200758\n",
            "[70]\ttraining's binary_logloss: 0.298562\ttraining's f1: 0.205079\n",
            "[80]\ttraining's binary_logloss: 0.298237\ttraining's f1: 0.207393\n",
            "[90]\ttraining's binary_logloss: 0.297857\ttraining's f1: 0.210424\n",
            "[100]\ttraining's binary_logloss: 0.297504\ttraining's f1: 0.212631\n",
            "[110]\ttraining's binary_logloss: 0.2972\ttraining's f1: 0.214853\n",
            "[120]\ttraining's binary_logloss: 0.296907\ttraining's f1: 0.2165\n",
            "[130]\ttraining's binary_logloss: 0.296638\ttraining's f1: 0.218169\n",
            "[140]\ttraining's binary_logloss: 0.29645\ttraining's f1: 0.219078\n",
            "[150]\ttraining's binary_logloss: 0.296189\ttraining's f1: 0.220658\n"
          ],
          "name": "stdout"
        }
      ]
    },
    {
      "cell_type": "markdown",
      "metadata": {
        "id": "5ed6JaBc_9aS"
      },
      "source": [
        "### Prediction - Test Dataset"
      ]
    },
    {
      "cell_type": "code",
      "metadata": {
        "id": "DTZ_s4zi_9aS"
      },
      "source": [
        "pred = bst.predict(test_data[feature_cols])\n",
        "test_data['pred'] = pred"
      ],
      "execution_count": 65,
      "outputs": []
    },
    {
      "cell_type": "code",
      "metadata": {
        "id": "m-uPv1Xs_9aS"
      },
      "source": [
        "test_data['product_id'] = test_data['product_id'].astype(str)"
      ],
      "execution_count": 66,
      "outputs": []
    },
    {
      "cell_type": "code",
      "metadata": {
        "id": "i5Ex7CHW_9aS",
        "colab": {
          "base_uri": "https://localhost:8080/",
          "height": 309
        },
        "outputId": "1336cf15-fb6f-4288-ebe8-2b2ab7788da3"
      },
      "source": [
        "test_data.head()"
      ],
      "execution_count": 67,
      "outputs": [
        {
          "output_type": "execute_result",
          "data": {
            "text/html": [
              "<div>\n",
              "<style scoped>\n",
              "    .dataframe tbody tr th:only-of-type {\n",
              "        vertical-align: middle;\n",
              "    }\n",
              "\n",
              "    .dataframe tbody tr th {\n",
              "        vertical-align: top;\n",
              "    }\n",
              "\n",
              "    .dataframe thead th {\n",
              "        text-align: right;\n",
              "    }\n",
              "</style>\n",
              "<table border=\"1\" class=\"dataframe\">\n",
              "  <thead>\n",
              "    <tr style=\"text-align: right;\">\n",
              "      <th></th>\n",
              "      <th>user_id</th>\n",
              "      <th>product_id</th>\n",
              "      <th>label</th>\n",
              "      <th>order_id</th>\n",
              "      <th>eval_set</th>\n",
              "      <th>order_number</th>\n",
              "      <th>order_dow</th>\n",
              "      <th>order_hour_of_day</th>\n",
              "      <th>days_since_prior_order</th>\n",
              "      <th>product_name</th>\n",
              "      <th>aisle_id</th>\n",
              "      <th>department_id</th>\n",
              "      <th>pred</th>\n",
              "    </tr>\n",
              "  </thead>\n",
              "  <tbody>\n",
              "    <tr>\n",
              "      <th>0</th>\n",
              "      <td>45082</td>\n",
              "      <td>17330</td>\n",
              "      <td>0</td>\n",
              "      <td>65432</td>\n",
              "      <td>test</td>\n",
              "      <td>11</td>\n",
              "      <td>4</td>\n",
              "      <td>12</td>\n",
              "      <td>15.0</td>\n",
              "      <td>Light</td>\n",
              "      <td>27</td>\n",
              "      <td>5</td>\n",
              "      <td>0.114586</td>\n",
              "    </tr>\n",
              "    <tr>\n",
              "      <th>1</th>\n",
              "      <td>45082</td>\n",
              "      <td>27407</td>\n",
              "      <td>0</td>\n",
              "      <td>65432</td>\n",
              "      <td>test</td>\n",
              "      <td>11</td>\n",
              "      <td>4</td>\n",
              "      <td>12</td>\n",
              "      <td>15.0</td>\n",
              "      <td>Chunky Salsa Medium</td>\n",
              "      <td>51</td>\n",
              "      <td>13</td>\n",
              "      <td>0.092346</td>\n",
              "    </tr>\n",
              "    <tr>\n",
              "      <th>2</th>\n",
              "      <td>45082</td>\n",
              "      <td>35419</td>\n",
              "      <td>0</td>\n",
              "      <td>65432</td>\n",
              "      <td>test</td>\n",
              "      <td>11</td>\n",
              "      <td>4</td>\n",
              "      <td>12</td>\n",
              "      <td>15.0</td>\n",
              "      <td>Handmade Vodka From Austin, Texas</td>\n",
              "      <td>124</td>\n",
              "      <td>5</td>\n",
              "      <td>0.089981</td>\n",
              "    </tr>\n",
              "    <tr>\n",
              "      <th>3</th>\n",
              "      <td>45082</td>\n",
              "      <td>196</td>\n",
              "      <td>0</td>\n",
              "      <td>65432</td>\n",
              "      <td>test</td>\n",
              "      <td>11</td>\n",
              "      <td>4</td>\n",
              "      <td>12</td>\n",
              "      <td>15.0</td>\n",
              "      <td>Soda</td>\n",
              "      <td>77</td>\n",
              "      <td>7</td>\n",
              "      <td>0.310979</td>\n",
              "    </tr>\n",
              "    <tr>\n",
              "      <th>4</th>\n",
              "      <td>45082</td>\n",
              "      <td>44635</td>\n",
              "      <td>0</td>\n",
              "      <td>65432</td>\n",
              "      <td>test</td>\n",
              "      <td>11</td>\n",
              "      <td>4</td>\n",
              "      <td>12</td>\n",
              "      <td>15.0</td>\n",
              "      <td>Salsa Con Queso Medium Dip</td>\n",
              "      <td>51</td>\n",
              "      <td>13</td>\n",
              "      <td>0.059729</td>\n",
              "    </tr>\n",
              "  </tbody>\n",
              "</table>\n",
              "</div>"
            ],
            "text/plain": [
              "   user_id product_id  label  ...  aisle_id department_id      pred\n",
              "0    45082      17330      0  ...        27             5  0.114586\n",
              "1    45082      27407      0  ...        51            13  0.092346\n",
              "2    45082      35419      0  ...       124             5  0.089981\n",
              "3    45082        196      0  ...        77             7  0.310979\n",
              "4    45082      44635      0  ...        51            13  0.059729\n",
              "\n",
              "[5 rows x 13 columns]"
            ]
          },
          "metadata": {
            "tags": []
          },
          "execution_count": 67
        }
      ]
    },
    {
      "cell_type": "markdown",
      "metadata": {
        "id": "_ugKdNzk_9aS"
      },
      "source": [
        "### Transfer to csv file for submition \n"
      ]
    },
    {
      "cell_type": "code",
      "metadata": {
        "id": "W-DEr_Ns_9aS"
      },
      "source": [
        "order_product = {}\n",
        "for order_id, val, product_id in test_data[['order_id','pred','product_id']].values:\n",
        "    if order_id not in order_product:\n",
        "        order_product[order_id] = ''\n",
        "    if val >= 0.2:\n",
        "        order_product[order_id] = str(product_id ) if order_product[order_id] == '' else order_product[order_id]+ ' ' + str(product_id )\n",
        "sub = pd.DataFrame.from_dict(order_product, orient='index')\n",
        "sub.reset_index(inplace=True)\n",
        "sub.columns = ['order_id', 'products']\n",
        "sub.loc[sub.products =='', 'products'] = 'None'\n",
        "sub.to_csv('baseline.csv',index = None)"
      ],
      "execution_count": 72,
      "outputs": []
    },
    {
      "cell_type": "markdown",
      "metadata": {
        "id": "z-lhB8x-_9aS"
      },
      "source": [
        "#### Threshold = 0.12"
      ]
    },
    {
      "cell_type": "code",
      "metadata": {
        "id": "_ZQ9YgIp_9aS"
      },
      "source": [
        "order_product = {}\n",
        "for order_id, val, product_id in test_data[['order_id','pred','product_id']].values:\n",
        "    if order_id not in order_product:\n",
        "        order_product[order_id] = ''\n",
        "    if val >= 0.12:\n",
        "        order_product[order_id] = str(product_id ) if order_product[order_id] == '' else order_product[order_id]+ ' ' + str(product_id )\n",
        "sub = pd.DataFrame.from_dict(order_product, orient='index')\n",
        "sub.reset_index(inplace=True)\n",
        "sub.columns = ['order_id', 'products']\n",
        "sub.loc[sub.products =='', 'products'] = 'None'\n",
        "sub.to_csv('baseline_0.12.csv',index = None)"
      ],
      "execution_count": 76,
      "outputs": []
    },
    {
      "cell_type": "markdown",
      "metadata": {
        "id": "eGsv7EIt_9aT"
      },
      "source": [
        "#### Threshold = 0.8\n"
      ]
    },
    {
      "cell_type": "code",
      "metadata": {
        "id": "r_PO7_73_9aT"
      },
      "source": [
        "order_product = {}\n",
        "for order_id, val, product_id in test_data[['order_id','pred','product_id']].values:\n",
        "    if order_id not in order_product:\n",
        "        order_product[order_id] = ''\n",
        "    if val >= 0.8:\n",
        "        order_product[order_id] = str(product_id ) if order_product[order_id] == '' else order_product[order_id]+ ' ' + str(product_id )\n",
        "sub = pd.DataFrame.from_dict(order_product, orient='index')\n",
        "sub.reset_index(inplace=True)\n",
        "sub.columns = ['order_id', 'products']\n",
        "sub.loc[sub.products =='', 'products'] = 'None'\n",
        "sub.to_csv('baseline_0.8.csv',index = None)\n"
      ],
      "execution_count": 75,
      "outputs": []
    },
    {
      "cell_type": "code",
      "metadata": {
        "id": "hEPJ6sMCPIKw"
      },
      "source": [
        "import pickle\n",
        "filename = '\bLightgbm.sav'\n",
        "pickle.dump(bst, open(filename, 'wb'))"
      ],
      "execution_count": 78,
      "outputs": []
    },
    {
      "cell_type": "code",
      "metadata": {
        "id": "dWEzzBP1cs0V"
      },
      "source": [
        ""
      ],
      "execution_count": null,
      "outputs": []
    }
  ]
}